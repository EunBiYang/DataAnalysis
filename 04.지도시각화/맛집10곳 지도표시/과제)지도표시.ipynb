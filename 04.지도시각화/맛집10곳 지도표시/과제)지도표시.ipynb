{
 "cells": [
  {
   "cell_type": "markdown",
   "metadata": {},
   "source": [
    "# 핫플레이스 10 곳!"
   ]
  },
  {
   "cell_type": "code",
   "execution_count": 1,
   "metadata": {},
   "outputs": [],
   "source": [
    "import numpy as np\n",
    "import pandas as pd"
   ]
  },
  {
   "cell_type": "code",
   "execution_count": 2,
   "metadata": {},
   "outputs": [],
   "source": [
    "# 1. 위치 위도경도 가져오기\n",
    "# 2. 지도위에 표시하기"
   ]
  },
  {
   "cell_type": "markdown",
   "metadata": {},
   "source": [
    "### 1.카카오API사용 위도,경도 가져오기"
   ]
  },
  {
   "cell_type": "code",
   "execution_count": 2,
   "metadata": {},
   "outputs": [],
   "source": [
    "import requests\n",
    "from urllib.parse import quote\n",
    "import pandas as pd"
   ]
  },
  {
   "cell_type": "code",
   "execution_count": 3,
   "metadata": {},
   "outputs": [],
   "source": [
    "with open('kakaoapikey.txt') as file:\n",
    "    kakao_key = file.read()"
   ]
  },
  {
   "cell_type": "code",
   "execution_count": 4,
   "metadata": {},
   "outputs": [
    {
     "data": {
      "text/html": [
       "<div>\n",
       "<style scoped>\n",
       "    .dataframe tbody tr th:only-of-type {\n",
       "        vertical-align: middle;\n",
       "    }\n",
       "\n",
       "    .dataframe tbody tr th {\n",
       "        vertical-align: top;\n",
       "    }\n",
       "\n",
       "    .dataframe thead th {\n",
       "        text-align: right;\n",
       "    }\n",
       "</style>\n",
       "<table border=\"1\" class=\"dataframe\">\n",
       "  <thead>\n",
       "    <tr style=\"text-align: right;\">\n",
       "      <th></th>\n",
       "      <th>상호</th>\n",
       "      <th>도로명주소</th>\n",
       "    </tr>\n",
       "  </thead>\n",
       "  <tbody>\n",
       "    <tr>\n",
       "      <th>0</th>\n",
       "      <td>카페노티드</td>\n",
       "      <td>서울특별시 강남구 도산대로53길 15</td>\n",
       "    </tr>\n",
       "    <tr>\n",
       "      <th>1</th>\n",
       "      <td>komune</td>\n",
       "      <td>서울특별시 용산구 이태원로49길 14-2 1층</td>\n",
       "    </tr>\n",
       "    <tr>\n",
       "      <th>2</th>\n",
       "      <td>앵글340</td>\n",
       "      <td>서울특별시 종로구 장사동 청계천로 155</td>\n",
       "    </tr>\n",
       "    <tr>\n",
       "      <th>3</th>\n",
       "      <td>picnic</td>\n",
       "      <td>서울특별시 중구 남창동 194</td>\n",
       "    </tr>\n",
       "    <tr>\n",
       "      <th>4</th>\n",
       "      <td>reveat</td>\n",
       "      <td>서울특별시 용산구 독서당로29길 6</td>\n",
       "    </tr>\n",
       "    <tr>\n",
       "      <th>5</th>\n",
       "      <td>효뜨</td>\n",
       "      <td>서울특별시 용산구 한강대로40가길 6 1층</td>\n",
       "    </tr>\n",
       "    <tr>\n",
       "      <th>6</th>\n",
       "      <td>다운타우너</td>\n",
       "      <td>서울특별시 용산구 한남동 대사관로5길 12</td>\n",
       "    </tr>\n",
       "    <tr>\n",
       "      <th>7</th>\n",
       "      <td>카브루브루펍</td>\n",
       "      <td>서울특별시 강남구 압구정로79길 19 레인애비뉴 101호</td>\n",
       "    </tr>\n",
       "    <tr>\n",
       "      <th>8</th>\n",
       "      <td>달마시안</td>\n",
       "      <td>서울특별시 강남구 신사동 압구정로42길 42</td>\n",
       "    </tr>\n",
       "    <tr>\n",
       "      <th>9</th>\n",
       "      <td>백제정육</td>\n",
       "      <td>서울특별시 종로구 종로35길 34</td>\n",
       "    </tr>\n",
       "  </tbody>\n",
       "</table>\n",
       "</div>"
      ],
      "text/plain": [
       "       상호                            도로명주소\n",
       "0   카페노티드             서울특별시 강남구 도산대로53길 15\n",
       "1  komune        서울특별시 용산구 이태원로49길 14-2 1층\n",
       "2   앵글340           서울특별시 종로구 장사동 청계천로 155\n",
       "3  picnic                 서울특별시 중구 남창동 194\n",
       "4  reveat              서울특별시 용산구 독서당로29길 6\n",
       "5      효뜨          서울특별시 용산구 한강대로40가길 6 1층\n",
       "6   다운타우너          서울특별시 용산구 한남동 대사관로5길 12\n",
       "7  카브루브루펍  서울특별시 강남구 압구정로79길 19 레인애비뉴 101호\n",
       "8    달마시안         서울특별시 강남구 신사동 압구정로42길 42\n",
       "9    백제정육               서울특별시 종로구 종로35길 34"
      ]
     },
     "execution_count": 4,
     "metadata": {},
     "output_type": "execute_result"
    }
   ],
   "source": [
    "top_10 =pd.read_csv('list.csv') \n",
    "top_10"
   ]
  },
  {
   "cell_type": "code",
   "execution_count": 5,
   "metadata": {},
   "outputs": [],
   "source": [
    "local_url = \"https://dapi.kakao.com/v2/local/search/address.json\""
   ]
  },
  {
   "cell_type": "code",
   "execution_count": 6,
   "metadata": {},
   "outputs": [],
   "source": [
    "header = {'Authorization' : f'KakaoAK {kakao_key}'}"
   ]
  },
  {
   "cell_type": "code",
   "execution_count": 7,
   "metadata": {},
   "outputs": [],
   "source": [
    "lng_list, lat_list = [], []\n",
    "for i in top_10.index:\n",
    "    url = f'{local_url}?query={quote(top_10.도로명주소[i])}'\n",
    "    result = requests.get(url, headers=header).json()\n",
    "    lng_list.append(float(result['documents'][0]['x']))\n",
    "    lat_list.append(float(result['documents'][0]['y']))\n",
    "\n"
   ]
  },
  {
   "cell_type": "code",
   "execution_count": 8,
   "metadata": {},
   "outputs": [
    {
     "data": {
      "text/html": [
       "<div>\n",
       "<style scoped>\n",
       "    .dataframe tbody tr th:only-of-type {\n",
       "        vertical-align: middle;\n",
       "    }\n",
       "\n",
       "    .dataframe tbody tr th {\n",
       "        vertical-align: top;\n",
       "    }\n",
       "\n",
       "    .dataframe thead th {\n",
       "        text-align: right;\n",
       "    }\n",
       "</style>\n",
       "<table border=\"1\" class=\"dataframe\">\n",
       "  <thead>\n",
       "    <tr style=\"text-align: right;\">\n",
       "      <th></th>\n",
       "      <th>상호</th>\n",
       "      <th>도로명주소</th>\n",
       "      <th>위도</th>\n",
       "      <th>경도</th>\n",
       "    </tr>\n",
       "  </thead>\n",
       "  <tbody>\n",
       "    <tr>\n",
       "      <th>0</th>\n",
       "      <td>카페노티드</td>\n",
       "      <td>서울특별시 강남구 도산대로53길 15</td>\n",
       "      <td>37.524192</td>\n",
       "      <td>127.038242</td>\n",
       "    </tr>\n",
       "    <tr>\n",
       "      <th>1</th>\n",
       "      <td>komune</td>\n",
       "      <td>서울특별시 용산구 이태원로49길 14-2 1층</td>\n",
       "      <td>37.537249</td>\n",
       "      <td>126.999715</td>\n",
       "    </tr>\n",
       "    <tr>\n",
       "      <th>2</th>\n",
       "      <td>앵글340</td>\n",
       "      <td>서울특별시 종로구 장사동 청계천로 155</td>\n",
       "      <td>37.568864</td>\n",
       "      <td>126.994850</td>\n",
       "    </tr>\n",
       "    <tr>\n",
       "      <th>3</th>\n",
       "      <td>picnic</td>\n",
       "      <td>서울특별시 중구 남창동 194</td>\n",
       "      <td>37.556965</td>\n",
       "      <td>126.978139</td>\n",
       "    </tr>\n",
       "    <tr>\n",
       "      <th>4</th>\n",
       "      <td>reveat</td>\n",
       "      <td>서울특별시 용산구 독서당로29길 6</td>\n",
       "      <td>37.536784</td>\n",
       "      <td>127.011587</td>\n",
       "    </tr>\n",
       "    <tr>\n",
       "      <th>5</th>\n",
       "      <td>효뜨</td>\n",
       "      <td>서울특별시 용산구 한강대로40가길 6 1층</td>\n",
       "      <td>37.530351</td>\n",
       "      <td>126.971308</td>\n",
       "    </tr>\n",
       "    <tr>\n",
       "      <th>6</th>\n",
       "      <td>다운타우너</td>\n",
       "      <td>서울특별시 용산구 한남동 대사관로5길 12</td>\n",
       "      <td>37.534843</td>\n",
       "      <td>127.000858</td>\n",
       "    </tr>\n",
       "    <tr>\n",
       "      <th>7</th>\n",
       "      <td>카브루브루펍</td>\n",
       "      <td>서울특별시 강남구 압구정로79길 19 레인애비뉴 101호</td>\n",
       "      <td>37.525374</td>\n",
       "      <td>127.048780</td>\n",
       "    </tr>\n",
       "    <tr>\n",
       "      <th>8</th>\n",
       "      <td>달마시안</td>\n",
       "      <td>서울특별시 강남구 신사동 압구정로42길 42</td>\n",
       "      <td>37.526267</td>\n",
       "      <td>127.034527</td>\n",
       "    </tr>\n",
       "    <tr>\n",
       "      <th>9</th>\n",
       "      <td>백제정육</td>\n",
       "      <td>서울특별시 종로구 종로35길 34</td>\n",
       "      <td>37.572660</td>\n",
       "      <td>127.004041</td>\n",
       "    </tr>\n",
       "  </tbody>\n",
       "</table>\n",
       "</div>"
      ],
      "text/plain": [
       "       상호                            도로명주소         위도          경도\n",
       "0   카페노티드             서울특별시 강남구 도산대로53길 15  37.524192  127.038242\n",
       "1  komune        서울특별시 용산구 이태원로49길 14-2 1층  37.537249  126.999715\n",
       "2   앵글340           서울특별시 종로구 장사동 청계천로 155  37.568864  126.994850\n",
       "3  picnic                 서울특별시 중구 남창동 194  37.556965  126.978139\n",
       "4  reveat              서울특별시 용산구 독서당로29길 6  37.536784  127.011587\n",
       "5      효뜨          서울특별시 용산구 한강대로40가길 6 1층  37.530351  126.971308\n",
       "6   다운타우너          서울특별시 용산구 한남동 대사관로5길 12  37.534843  127.000858\n",
       "7  카브루브루펍  서울특별시 강남구 압구정로79길 19 레인애비뉴 101호  37.525374  127.048780\n",
       "8    달마시안         서울특별시 강남구 신사동 압구정로42길 42  37.526267  127.034527\n",
       "9    백제정육               서울특별시 종로구 종로35길 34  37.572660  127.004041"
      ]
     },
     "execution_count": 8,
     "metadata": {},
     "output_type": "execute_result"
    }
   ],
   "source": [
    "top_10['위도'] = lat_list\n",
    "top_10['경도'] = lng_list\n",
    "top_10"
   ]
  },
  {
   "cell_type": "code",
   "execution_count": 10,
   "metadata": {},
   "outputs": [],
   "source": [
    "top_10.to_csv('맛집 10곳.csv', index=False)"
   ]
  },
  {
   "cell_type": "markdown",
   "metadata": {},
   "source": [
    "###  2.지도위에 표시하기"
   ]
  },
  {
   "cell_type": "code",
   "execution_count": 11,
   "metadata": {},
   "outputs": [],
   "source": [
    "import folium "
   ]
  },
  {
   "cell_type": "code",
   "execution_count": 12,
   "metadata": {},
   "outputs": [
    {
     "data": {
      "text/html": [
       "<div>\n",
       "<style scoped>\n",
       "    .dataframe tbody tr th:only-of-type {\n",
       "        vertical-align: middle;\n",
       "    }\n",
       "\n",
       "    .dataframe tbody tr th {\n",
       "        vertical-align: top;\n",
       "    }\n",
       "\n",
       "    .dataframe thead th {\n",
       "        text-align: right;\n",
       "    }\n",
       "</style>\n",
       "<table border=\"1\" class=\"dataframe\">\n",
       "  <thead>\n",
       "    <tr style=\"text-align: right;\">\n",
       "      <th></th>\n",
       "      <th>상호</th>\n",
       "      <th>도로명주소</th>\n",
       "      <th>위도</th>\n",
       "      <th>경도</th>\n",
       "    </tr>\n",
       "  </thead>\n",
       "  <tbody>\n",
       "    <tr>\n",
       "      <th>0</th>\n",
       "      <td>카페노티드</td>\n",
       "      <td>서울특별시 강남구 도산대로53길 15</td>\n",
       "      <td>37.524192</td>\n",
       "      <td>127.038242</td>\n",
       "    </tr>\n",
       "    <tr>\n",
       "      <th>1</th>\n",
       "      <td>komune</td>\n",
       "      <td>서울특별시 용산구 이태원로49길 14-2 1층</td>\n",
       "      <td>37.537249</td>\n",
       "      <td>126.999715</td>\n",
       "    </tr>\n",
       "    <tr>\n",
       "      <th>2</th>\n",
       "      <td>앵글340</td>\n",
       "      <td>서울특별시 종로구 장사동 청계천로 155</td>\n",
       "      <td>37.568864</td>\n",
       "      <td>126.994850</td>\n",
       "    </tr>\n",
       "    <tr>\n",
       "      <th>3</th>\n",
       "      <td>picnic</td>\n",
       "      <td>서울특별시 중구 남창동 194</td>\n",
       "      <td>37.556965</td>\n",
       "      <td>126.978139</td>\n",
       "    </tr>\n",
       "    <tr>\n",
       "      <th>4</th>\n",
       "      <td>reveat</td>\n",
       "      <td>서울특별시 용산구 독서당로29길 6</td>\n",
       "      <td>37.536784</td>\n",
       "      <td>127.011587</td>\n",
       "    </tr>\n",
       "    <tr>\n",
       "      <th>5</th>\n",
       "      <td>효뜨</td>\n",
       "      <td>서울특별시 용산구 한강대로40가길 6 1층</td>\n",
       "      <td>37.530351</td>\n",
       "      <td>126.971308</td>\n",
       "    </tr>\n",
       "    <tr>\n",
       "      <th>6</th>\n",
       "      <td>다운타우너</td>\n",
       "      <td>서울특별시 용산구 한남동 대사관로5길 12</td>\n",
       "      <td>37.534843</td>\n",
       "      <td>127.000858</td>\n",
       "    </tr>\n",
       "    <tr>\n",
       "      <th>7</th>\n",
       "      <td>카브루브루펍</td>\n",
       "      <td>서울특별시 강남구 압구정로79길 19 레인애비뉴 101호</td>\n",
       "      <td>37.525374</td>\n",
       "      <td>127.048780</td>\n",
       "    </tr>\n",
       "    <tr>\n",
       "      <th>8</th>\n",
       "      <td>달마시안</td>\n",
       "      <td>서울특별시 강남구 신사동 압구정로42길 42</td>\n",
       "      <td>37.526267</td>\n",
       "      <td>127.034527</td>\n",
       "    </tr>\n",
       "    <tr>\n",
       "      <th>9</th>\n",
       "      <td>백제정육</td>\n",
       "      <td>서울특별시 종로구 종로35길 34</td>\n",
       "      <td>37.572660</td>\n",
       "      <td>127.004041</td>\n",
       "    </tr>\n",
       "  </tbody>\n",
       "</table>\n",
       "</div>"
      ],
      "text/plain": [
       "       상호                            도로명주소         위도          경도\n",
       "0   카페노티드             서울특별시 강남구 도산대로53길 15  37.524192  127.038242\n",
       "1  komune        서울특별시 용산구 이태원로49길 14-2 1층  37.537249  126.999715\n",
       "2   앵글340           서울특별시 종로구 장사동 청계천로 155  37.568864  126.994850\n",
       "3  picnic                 서울특별시 중구 남창동 194  37.556965  126.978139\n",
       "4  reveat              서울특별시 용산구 독서당로29길 6  37.536784  127.011587\n",
       "5      효뜨          서울특별시 용산구 한강대로40가길 6 1층  37.530351  126.971308\n",
       "6   다운타우너          서울특별시 용산구 한남동 대사관로5길 12  37.534843  127.000858\n",
       "7  카브루브루펍  서울특별시 강남구 압구정로79길 19 레인애비뉴 101호  37.525374  127.048780\n",
       "8    달마시안         서울특별시 강남구 신사동 압구정로42길 42  37.526267  127.034527\n",
       "9    백제정육               서울특별시 종로구 종로35길 34  37.572660  127.004041"
      ]
     },
     "execution_count": 12,
     "metadata": {},
     "output_type": "execute_result"
    }
   ],
   "source": [
    "df = pd.read_csv('맛집 10곳.csv')\n",
    "df"
   ]
  },
  {
   "cell_type": "code",
   "execution_count": 17,
   "metadata": {},
   "outputs": [
    {
     "data": {
      "text/html": [
       "<div>\n",
       "<style scoped>\n",
       "    .dataframe tbody tr th:only-of-type {\n",
       "        vertical-align: middle;\n",
       "    }\n",
       "\n",
       "    .dataframe tbody tr th {\n",
       "        vertical-align: top;\n",
       "    }\n",
       "\n",
       "    .dataframe thead th {\n",
       "        text-align: right;\n",
       "    }\n",
       "</style>\n",
       "<table border=\"1\" class=\"dataframe\">\n",
       "  <thead>\n",
       "    <tr style=\"text-align: right;\">\n",
       "      <th></th>\n",
       "      <th>상호</th>\n",
       "      <th>도로명주소</th>\n",
       "      <th>위도</th>\n",
       "      <th>경도</th>\n",
       "      <th>설명</th>\n",
       "    </tr>\n",
       "  </thead>\n",
       "  <tbody>\n",
       "    <tr>\n",
       "      <th>0</th>\n",
       "      <td>카페노티드</td>\n",
       "      <td>서울특별시 강남구 도산대로53길 15</td>\n",
       "      <td>37.524192</td>\n",
       "      <td>127.038242</td>\n",
       "      <td>도넛이 맛있는 집</td>\n",
       "    </tr>\n",
       "    <tr>\n",
       "      <th>1</th>\n",
       "      <td>komune</td>\n",
       "      <td>서울특별시 용산구 이태원로49길 14-2 1층</td>\n",
       "      <td>37.537249</td>\n",
       "      <td>126.999715</td>\n",
       "      <td>분위기 좋은 카페</td>\n",
       "    </tr>\n",
       "    <tr>\n",
       "      <th>2</th>\n",
       "      <td>앵글340</td>\n",
       "      <td>서울특별시 종로구 장사동 청계천로 155</td>\n",
       "      <td>37.568864</td>\n",
       "      <td>126.994850</td>\n",
       "      <td>외관이 멋진 카페</td>\n",
       "    </tr>\n",
       "    <tr>\n",
       "      <th>3</th>\n",
       "      <td>picnic</td>\n",
       "      <td>서울특별시 중구 남창동 194</td>\n",
       "      <td>37.556965</td>\n",
       "      <td>126.978139</td>\n",
       "      <td>전시회장과 함께 있는 카페</td>\n",
       "    </tr>\n",
       "    <tr>\n",
       "      <th>4</th>\n",
       "      <td>reveat</td>\n",
       "      <td>서울특별시 용산구 독서당로29길 6</td>\n",
       "      <td>37.536784</td>\n",
       "      <td>127.011587</td>\n",
       "      <td>한남동 프랑스 식당</td>\n",
       "    </tr>\n",
       "    <tr>\n",
       "      <th>5</th>\n",
       "      <td>효뜨</td>\n",
       "      <td>서울특별시 용산구 한강대로40가길 6 1층</td>\n",
       "      <td>37.530351</td>\n",
       "      <td>126.971308</td>\n",
       "      <td>현지 분위를 느낄수 있는 베트남 식당</td>\n",
       "    </tr>\n",
       "    <tr>\n",
       "      <th>6</th>\n",
       "      <td>다운타우너</td>\n",
       "      <td>서울특별시 용산구 한남동 대사관로5길 12</td>\n",
       "      <td>37.534843</td>\n",
       "      <td>127.000858</td>\n",
       "      <td>수제버거가 맜있는 집</td>\n",
       "    </tr>\n",
       "    <tr>\n",
       "      <th>7</th>\n",
       "      <td>카브루브루펍</td>\n",
       "      <td>서울특별시 강남구 압구정로79길 19 레인애비뉴 101호</td>\n",
       "      <td>37.525374</td>\n",
       "      <td>127.048780</td>\n",
       "      <td>분위기 좋은 브루펍</td>\n",
       "    </tr>\n",
       "    <tr>\n",
       "      <th>8</th>\n",
       "      <td>달마시안</td>\n",
       "      <td>서울특별시 강남구 신사동 압구정로42길 42</td>\n",
       "      <td>37.526267</td>\n",
       "      <td>127.034527</td>\n",
       "      <td>와인과 하몽메론이 맛잇는 집</td>\n",
       "    </tr>\n",
       "    <tr>\n",
       "      <th>9</th>\n",
       "      <td>백제정육</td>\n",
       "      <td>서울특별시 종로구 종로35길 34</td>\n",
       "      <td>37.572660</td>\n",
       "      <td>127.004041</td>\n",
       "      <td>육회가 맛있는 집</td>\n",
       "    </tr>\n",
       "  </tbody>\n",
       "</table>\n",
       "</div>"
      ],
      "text/plain": [
       "       상호                            도로명주소         위도          경도  \\\n",
       "0   카페노티드             서울특별시 강남구 도산대로53길 15  37.524192  127.038242   \n",
       "1  komune        서울특별시 용산구 이태원로49길 14-2 1층  37.537249  126.999715   \n",
       "2   앵글340           서울특별시 종로구 장사동 청계천로 155  37.568864  126.994850   \n",
       "3  picnic                 서울특별시 중구 남창동 194  37.556965  126.978139   \n",
       "4  reveat              서울특별시 용산구 독서당로29길 6  37.536784  127.011587   \n",
       "5      효뜨          서울특별시 용산구 한강대로40가길 6 1층  37.530351  126.971308   \n",
       "6   다운타우너          서울특별시 용산구 한남동 대사관로5길 12  37.534843  127.000858   \n",
       "7  카브루브루펍  서울특별시 강남구 압구정로79길 19 레인애비뉴 101호  37.525374  127.048780   \n",
       "8    달마시안         서울특별시 강남구 신사동 압구정로42길 42  37.526267  127.034527   \n",
       "9    백제정육               서울특별시 종로구 종로35길 34  37.572660  127.004041   \n",
       "\n",
       "                     설명  \n",
       "0             도넛이 맛있는 집  \n",
       "1             분위기 좋은 카페  \n",
       "2             외관이 멋진 카페  \n",
       "3        전시회장과 함께 있는 카페  \n",
       "4            한남동 프랑스 식당  \n",
       "5  현지 분위를 느낄수 있는 베트남 식당  \n",
       "6           수제버거가 맜있는 집  \n",
       "7            분위기 좋은 브루펍  \n",
       "8       와인과 하몽메론이 맛잇는 집  \n",
       "9             육회가 맛있는 집  "
      ]
     },
     "execution_count": 17,
     "metadata": {},
     "output_type": "execute_result"
    }
   ],
   "source": [
    "df['설명'] = ['도넛이 맛있는 집','분위기 좋은 카페','외관이 멋진 카페','전시회장과 함께 있는 카페','한남동 프랑스 식당','현지 분위를 느낄수 있는 베트남 식당','수제버거가 맜있는 집','분위기 좋은 브루펍','와인과 하몽메론이 맛잇는 집','육회가 맛있는 집']\n",
    "df"
   ]
  },
  {
   "cell_type": "code",
   "execution_count": 33,
   "metadata": {},
   "outputs": [],
   "source": [
    "colors=['red','cadetblue', 'blue', 'green', 'black', 'orange', 'yellowgreen', 'gray', 'pink', 'purple']\n",
    "icons = ['glyphicon-music', 'glyphicon-camera', 'glyphicon-star-empty', 'glyphicon-leaf', 'glyphicon-glass', 'glyphicon glyphicon-remove-sign', 'glyphicon glyphicon-bell', 'glyphicon glyphicon-bookmark', 'glyphicon glyphicon-play', 'glyphicon glyphicon-map-marker']"
   ]
  },
  {
   "cell_type": "code",
   "execution_count": 34,
   "metadata": {},
   "outputs": [
    {
     "name": "stderr",
     "output_type": "stream",
     "text": [
      "C:\\Users\\Owner\\AppData\\Local\\Temp/ipykernel_6688/613816726.py:7: UserWarning: color argument of Icon should be one of: {'lightblue', 'purple', 'lightgray', 'red', 'blue', 'white', 'cadetblue', 'lightred', 'beige', 'lightgreen', 'orange', 'darkred', 'gray', 'pink', 'green', 'black', 'darkblue', 'darkgreen', 'darkpurple'}.\n",
      "  icon=folium.Icon(color=colors[i], icon=icons[i])\n"
     ]
    },
    {
     "data": {
      "text/html": [
       "<div style=\"width:100%;\"><div style=\"position:relative;width:100%;height:0;padding-bottom:60%;\"><span style=\"color:#565656\">Make this Notebook Trusted to load map: File -> Trust Notebook</span><iframe src=\"about:blank\" style=\"position:absolute;width:100%;height:100%;left:0;top:0;border:none !important;\" data-html=%3C%21DOCTYPE%20html%3E%0A%3Chead%3E%20%20%20%20%0A%20%20%20%20%3Cmeta%20http-equiv%3D%22content-type%22%20content%3D%22text/html%3B%20charset%3DUTF-8%22%20/%3E%0A%20%20%20%20%0A%20%20%20%20%20%20%20%20%3Cscript%3E%0A%20%20%20%20%20%20%20%20%20%20%20%20L_NO_TOUCH%20%3D%20false%3B%0A%20%20%20%20%20%20%20%20%20%20%20%20L_DISABLE_3D%20%3D%20false%3B%0A%20%20%20%20%20%20%20%20%3C/script%3E%0A%20%20%20%20%0A%20%20%20%20%3Cstyle%3Ehtml%2C%20body%20%7Bwidth%3A%20100%25%3Bheight%3A%20100%25%3Bmargin%3A%200%3Bpadding%3A%200%3B%7D%3C/style%3E%0A%20%20%20%20%3Cstyle%3E%23map%20%7Bposition%3Aabsolute%3Btop%3A0%3Bbottom%3A0%3Bright%3A0%3Bleft%3A0%3B%7D%3C/style%3E%0A%20%20%20%20%3Cscript%20src%3D%22https%3A//cdn.jsdelivr.net/npm/leaflet%401.6.0/dist/leaflet.js%22%3E%3C/script%3E%0A%20%20%20%20%3Cscript%20src%3D%22https%3A//code.jquery.com/jquery-1.12.4.min.js%22%3E%3C/script%3E%0A%20%20%20%20%3Cscript%20src%3D%22https%3A//maxcdn.bootstrapcdn.com/bootstrap/3.2.0/js/bootstrap.min.js%22%3E%3C/script%3E%0A%20%20%20%20%3Cscript%20src%3D%22https%3A//cdnjs.cloudflare.com/ajax/libs/Leaflet.awesome-markers/2.0.2/leaflet.awesome-markers.js%22%3E%3C/script%3E%0A%20%20%20%20%3Clink%20rel%3D%22stylesheet%22%20href%3D%22https%3A//cdn.jsdelivr.net/npm/leaflet%401.6.0/dist/leaflet.css%22/%3E%0A%20%20%20%20%3Clink%20rel%3D%22stylesheet%22%20href%3D%22https%3A//maxcdn.bootstrapcdn.com/bootstrap/3.2.0/css/bootstrap.min.css%22/%3E%0A%20%20%20%20%3Clink%20rel%3D%22stylesheet%22%20href%3D%22https%3A//maxcdn.bootstrapcdn.com/bootstrap/3.2.0/css/bootstrap-theme.min.css%22/%3E%0A%20%20%20%20%3Clink%20rel%3D%22stylesheet%22%20href%3D%22https%3A//maxcdn.bootstrapcdn.com/font-awesome/4.6.3/css/font-awesome.min.css%22/%3E%0A%20%20%20%20%3Clink%20rel%3D%22stylesheet%22%20href%3D%22https%3A//cdnjs.cloudflare.com/ajax/libs/Leaflet.awesome-markers/2.0.2/leaflet.awesome-markers.css%22/%3E%0A%20%20%20%20%3Clink%20rel%3D%22stylesheet%22%20href%3D%22https%3A//cdn.jsdelivr.net/gh/python-visualization/folium/folium/templates/leaflet.awesome.rotate.min.css%22/%3E%0A%20%20%20%20%0A%20%20%20%20%20%20%20%20%20%20%20%20%3Cmeta%20name%3D%22viewport%22%20content%3D%22width%3Ddevice-width%2C%0A%20%20%20%20%20%20%20%20%20%20%20%20%20%20%20%20initial-scale%3D1.0%2C%20maximum-scale%3D1.0%2C%20user-scalable%3Dno%22%20/%3E%0A%20%20%20%20%20%20%20%20%20%20%20%20%3Cstyle%3E%0A%20%20%20%20%20%20%20%20%20%20%20%20%20%20%20%20%23map_4990cffc7924464d961bc512738f373f%20%7B%0A%20%20%20%20%20%20%20%20%20%20%20%20%20%20%20%20%20%20%20%20position%3A%20relative%3B%0A%20%20%20%20%20%20%20%20%20%20%20%20%20%20%20%20%20%20%20%20width%3A%20100.0%25%3B%0A%20%20%20%20%20%20%20%20%20%20%20%20%20%20%20%20%20%20%20%20height%3A%20100.0%25%3B%0A%20%20%20%20%20%20%20%20%20%20%20%20%20%20%20%20%20%20%20%20left%3A%200.0%25%3B%0A%20%20%20%20%20%20%20%20%20%20%20%20%20%20%20%20%20%20%20%20top%3A%200.0%25%3B%0A%20%20%20%20%20%20%20%20%20%20%20%20%20%20%20%20%7D%0A%20%20%20%20%20%20%20%20%20%20%20%20%3C/style%3E%0A%20%20%20%20%20%20%20%20%0A%3C/head%3E%0A%3Cbody%3E%20%20%20%20%0A%20%20%20%20%3Ch3%20align%3D%22center%22%20style%3D%22font-size%3A20px%22%3E%EB%A7%9B%EC%A7%91%2010%EA%B3%B3%3C/h3%3E%0A%20%20%20%20%0A%20%20%20%20%20%20%20%20%20%20%20%20%3Cdiv%20class%3D%22folium-map%22%20id%3D%22map_4990cffc7924464d961bc512738f373f%22%20%3E%3C/div%3E%0A%20%20%20%20%20%20%20%20%0A%3C/body%3E%0A%3Cscript%3E%20%20%20%20%0A%20%20%20%20%0A%20%20%20%20%20%20%20%20%20%20%20%20var%20map_4990cffc7924464d961bc512738f373f%20%3D%20L.map%28%0A%20%20%20%20%20%20%20%20%20%20%20%20%20%20%20%20%22map_4990cffc7924464d961bc512738f373f%22%2C%0A%20%20%20%20%20%20%20%20%20%20%20%20%20%20%20%20%7B%0A%20%20%20%20%20%20%20%20%20%20%20%20%20%20%20%20%20%20%20%20center%3A%20%5B37.54135491595138%2C%20127.00820476244883%5D%2C%0A%20%20%20%20%20%20%20%20%20%20%20%20%20%20%20%20%20%20%20%20crs%3A%20L.CRS.EPSG3857%2C%0A%20%20%20%20%20%20%20%20%20%20%20%20%20%20%20%20%20%20%20%20zoom%3A%2012%2C%0A%20%20%20%20%20%20%20%20%20%20%20%20%20%20%20%20%20%20%20%20zoomControl%3A%20true%2C%0A%20%20%20%20%20%20%20%20%20%20%20%20%20%20%20%20%20%20%20%20preferCanvas%3A%20false%2C%0A%20%20%20%20%20%20%20%20%20%20%20%20%20%20%20%20%7D%0A%20%20%20%20%20%20%20%20%20%20%20%20%29%3B%0A%0A%20%20%20%20%20%20%20%20%20%20%20%20%0A%0A%20%20%20%20%20%20%20%20%0A%20%20%20%20%0A%20%20%20%20%20%20%20%20%20%20%20%20var%20tile_layer_4aaf137441454d2c889e854082150ed3%20%3D%20L.tileLayer%28%0A%20%20%20%20%20%20%20%20%20%20%20%20%20%20%20%20%22https%3A//%7Bs%7D.tile.openstreetmap.org/%7Bz%7D/%7Bx%7D/%7By%7D.png%22%2C%0A%20%20%20%20%20%20%20%20%20%20%20%20%20%20%20%20%7B%22attribution%22%3A%20%22Data%20by%20%5Cu0026copy%3B%20%5Cu003ca%20href%3D%5C%22http%3A//openstreetmap.org%5C%22%5Cu003eOpenStreetMap%5Cu003c/a%5Cu003e%2C%20under%20%5Cu003ca%20href%3D%5C%22http%3A//www.openstreetmap.org/copyright%5C%22%5Cu003eODbL%5Cu003c/a%5Cu003e.%22%2C%20%22detectRetina%22%3A%20false%2C%20%22maxNativeZoom%22%3A%2018%2C%20%22maxZoom%22%3A%2018%2C%20%22minZoom%22%3A%200%2C%20%22noWrap%22%3A%20false%2C%20%22opacity%22%3A%201%2C%20%22subdomains%22%3A%20%22abc%22%2C%20%22tms%22%3A%20false%7D%0A%20%20%20%20%20%20%20%20%20%20%20%20%29.addTo%28map_4990cffc7924464d961bc512738f373f%29%3B%0A%20%20%20%20%20%20%20%20%0A%20%20%20%20%0A%20%20%20%20%20%20%20%20%20%20%20%20var%20marker_a64f9e9b5c4441808754ed82830e67c0%20%3D%20L.marker%28%0A%20%20%20%20%20%20%20%20%20%20%20%20%20%20%20%20%5B37.5241916888758%2C%20127.038241721129%5D%2C%0A%20%20%20%20%20%20%20%20%20%20%20%20%20%20%20%20%7B%7D%0A%20%20%20%20%20%20%20%20%20%20%20%20%29.addTo%28map_4990cffc7924464d961bc512738f373f%29%3B%0A%20%20%20%20%20%20%20%20%0A%20%20%20%20%0A%20%20%20%20%20%20%20%20%20%20%20%20var%20icon_073aae5459434e9a95fc6fb4c2675c17%20%3D%20L.AwesomeMarkers.icon%28%0A%20%20%20%20%20%20%20%20%20%20%20%20%20%20%20%20%7B%22extraClasses%22%3A%20%22fa-rotate-0%22%2C%20%22icon%22%3A%20%22glyphicon-music%22%2C%20%22iconColor%22%3A%20%22white%22%2C%20%22markerColor%22%3A%20%22red%22%2C%20%22prefix%22%3A%20%22glyphicon%22%7D%0A%20%20%20%20%20%20%20%20%20%20%20%20%29%3B%0A%20%20%20%20%20%20%20%20%20%20%20%20marker_a64f9e9b5c4441808754ed82830e67c0.setIcon%28icon_073aae5459434e9a95fc6fb4c2675c17%29%3B%0A%20%20%20%20%20%20%20%20%0A%20%20%20%20%0A%20%20%20%20%20%20%20%20var%20popup_4f27f665adf244938f0b679b2a954229%20%3D%20L.popup%28%7B%22maxWidth%22%3A%20200%7D%29%3B%0A%0A%20%20%20%20%20%20%20%20%0A%20%20%20%20%20%20%20%20%20%20%20%20var%20html_4642bfd4a24b4e1e9a45f1218b180506%20%3D%20%24%28%60%3Cdiv%20id%3D%22html_4642bfd4a24b4e1e9a45f1218b180506%22%20style%3D%22width%3A%20100.0%25%3B%20height%3A%20100.0%25%3B%22%3E%EB%8F%84%EB%84%9B%EC%9D%B4%20%EB%A7%9B%EC%9E%88%EB%8A%94%20%EC%A7%91%3C/div%3E%60%29%5B0%5D%3B%0A%20%20%20%20%20%20%20%20%20%20%20%20popup_4f27f665adf244938f0b679b2a954229.setContent%28html_4642bfd4a24b4e1e9a45f1218b180506%29%3B%0A%20%20%20%20%20%20%20%20%0A%0A%20%20%20%20%20%20%20%20marker_a64f9e9b5c4441808754ed82830e67c0.bindPopup%28popup_4f27f665adf244938f0b679b2a954229%29%0A%20%20%20%20%20%20%20%20%3B%0A%0A%20%20%20%20%20%20%20%20%0A%20%20%20%20%0A%20%20%20%20%0A%20%20%20%20%20%20%20%20%20%20%20%20marker_a64f9e9b5c4441808754ed82830e67c0.bindTooltip%28%0A%20%20%20%20%20%20%20%20%20%20%20%20%20%20%20%20%60%3Cdiv%3E%0A%20%20%20%20%20%20%20%20%20%20%20%20%20%20%20%20%20%20%20%20%20%EC%B9%B4%ED%8E%98%EB%85%B8%ED%8B%B0%EB%93%9C%0A%20%20%20%20%20%20%20%20%20%20%20%20%20%20%20%20%20%3C/div%3E%60%2C%0A%20%20%20%20%20%20%20%20%20%20%20%20%20%20%20%20%7B%22sticky%22%3A%20true%7D%0A%20%20%20%20%20%20%20%20%20%20%20%20%29%3B%0A%20%20%20%20%20%20%20%20%0A%20%20%20%20%0A%20%20%20%20%20%20%20%20%20%20%20%20var%20marker_1de598ed91d24f0aba5deb98ac0296a2%20%3D%20L.marker%28%0A%20%20%20%20%20%20%20%20%20%20%20%20%20%20%20%20%5B37.5372491556576%2C%20126.999715325041%5D%2C%0A%20%20%20%20%20%20%20%20%20%20%20%20%20%20%20%20%7B%7D%0A%20%20%20%20%20%20%20%20%20%20%20%20%29.addTo%28map_4990cffc7924464d961bc512738f373f%29%3B%0A%20%20%20%20%20%20%20%20%0A%20%20%20%20%0A%20%20%20%20%20%20%20%20%20%20%20%20var%20icon_b781fe23cd2a4dc4a32114e12ea993a6%20%3D%20L.AwesomeMarkers.icon%28%0A%20%20%20%20%20%20%20%20%20%20%20%20%20%20%20%20%7B%22extraClasses%22%3A%20%22fa-rotate-0%22%2C%20%22icon%22%3A%20%22glyphicon-camera%22%2C%20%22iconColor%22%3A%20%22white%22%2C%20%22markerColor%22%3A%20%22cadetblue%22%2C%20%22prefix%22%3A%20%22glyphicon%22%7D%0A%20%20%20%20%20%20%20%20%20%20%20%20%29%3B%0A%20%20%20%20%20%20%20%20%20%20%20%20marker_1de598ed91d24f0aba5deb98ac0296a2.setIcon%28icon_b781fe23cd2a4dc4a32114e12ea993a6%29%3B%0A%20%20%20%20%20%20%20%20%0A%20%20%20%20%0A%20%20%20%20%20%20%20%20var%20popup_8cc0242c0827431998bfdf480f489462%20%3D%20L.popup%28%7B%22maxWidth%22%3A%20200%7D%29%3B%0A%0A%20%20%20%20%20%20%20%20%0A%20%20%20%20%20%20%20%20%20%20%20%20var%20html_af138289b5254f2594916e369d26c10c%20%3D%20%24%28%60%3Cdiv%20id%3D%22html_af138289b5254f2594916e369d26c10c%22%20style%3D%22width%3A%20100.0%25%3B%20height%3A%20100.0%25%3B%22%3E%EB%B6%84%EC%9C%84%EA%B8%B0%20%EC%A2%8B%EC%9D%80%20%EC%B9%B4%ED%8E%98%3C/div%3E%60%29%5B0%5D%3B%0A%20%20%20%20%20%20%20%20%20%20%20%20popup_8cc0242c0827431998bfdf480f489462.setContent%28html_af138289b5254f2594916e369d26c10c%29%3B%0A%20%20%20%20%20%20%20%20%0A%0A%20%20%20%20%20%20%20%20marker_1de598ed91d24f0aba5deb98ac0296a2.bindPopup%28popup_8cc0242c0827431998bfdf480f489462%29%0A%20%20%20%20%20%20%20%20%3B%0A%0A%20%20%20%20%20%20%20%20%0A%20%20%20%20%0A%20%20%20%20%0A%20%20%20%20%20%20%20%20%20%20%20%20marker_1de598ed91d24f0aba5deb98ac0296a2.bindTooltip%28%0A%20%20%20%20%20%20%20%20%20%20%20%20%20%20%20%20%60%3Cdiv%3E%0A%20%20%20%20%20%20%20%20%20%20%20%20%20%20%20%20%20%20%20%20%20komune%0A%20%20%20%20%20%20%20%20%20%20%20%20%20%20%20%20%20%3C/div%3E%60%2C%0A%20%20%20%20%20%20%20%20%20%20%20%20%20%20%20%20%7B%22sticky%22%3A%20true%7D%0A%20%20%20%20%20%20%20%20%20%20%20%20%29%3B%0A%20%20%20%20%20%20%20%20%0A%20%20%20%20%0A%20%20%20%20%20%20%20%20%20%20%20%20var%20marker_306af03c74a5469ea5ad1ef419f28f48%20%3D%20L.marker%28%0A%20%20%20%20%20%20%20%20%20%20%20%20%20%20%20%20%5B37.5688643430719%2C%20126.994849801841%5D%2C%0A%20%20%20%20%20%20%20%20%20%20%20%20%20%20%20%20%7B%7D%0A%20%20%20%20%20%20%20%20%20%20%20%20%29.addTo%28map_4990cffc7924464d961bc512738f373f%29%3B%0A%20%20%20%20%20%20%20%20%0A%20%20%20%20%0A%20%20%20%20%20%20%20%20%20%20%20%20var%20icon_6d6123ef00754d4f842dc5a668c10810%20%3D%20L.AwesomeMarkers.icon%28%0A%20%20%20%20%20%20%20%20%20%20%20%20%20%20%20%20%7B%22extraClasses%22%3A%20%22fa-rotate-0%22%2C%20%22icon%22%3A%20%22glyphicon-star-empty%22%2C%20%22iconColor%22%3A%20%22white%22%2C%20%22markerColor%22%3A%20%22blue%22%2C%20%22prefix%22%3A%20%22glyphicon%22%7D%0A%20%20%20%20%20%20%20%20%20%20%20%20%29%3B%0A%20%20%20%20%20%20%20%20%20%20%20%20marker_306af03c74a5469ea5ad1ef419f28f48.setIcon%28icon_6d6123ef00754d4f842dc5a668c10810%29%3B%0A%20%20%20%20%20%20%20%20%0A%20%20%20%20%0A%20%20%20%20%20%20%20%20var%20popup_17c939cbbc824df693e796fb1abb0182%20%3D%20L.popup%28%7B%22maxWidth%22%3A%20200%7D%29%3B%0A%0A%20%20%20%20%20%20%20%20%0A%20%20%20%20%20%20%20%20%20%20%20%20var%20html_a021608873d44602bbc72e9c0e1f2252%20%3D%20%24%28%60%3Cdiv%20id%3D%22html_a021608873d44602bbc72e9c0e1f2252%22%20style%3D%22width%3A%20100.0%25%3B%20height%3A%20100.0%25%3B%22%3E%EC%99%B8%EA%B4%80%EC%9D%B4%20%EB%A9%8B%EC%A7%84%20%EC%B9%B4%ED%8E%98%3C/div%3E%60%29%5B0%5D%3B%0A%20%20%20%20%20%20%20%20%20%20%20%20popup_17c939cbbc824df693e796fb1abb0182.setContent%28html_a021608873d44602bbc72e9c0e1f2252%29%3B%0A%20%20%20%20%20%20%20%20%0A%0A%20%20%20%20%20%20%20%20marker_306af03c74a5469ea5ad1ef419f28f48.bindPopup%28popup_17c939cbbc824df693e796fb1abb0182%29%0A%20%20%20%20%20%20%20%20%3B%0A%0A%20%20%20%20%20%20%20%20%0A%20%20%20%20%0A%20%20%20%20%0A%20%20%20%20%20%20%20%20%20%20%20%20marker_306af03c74a5469ea5ad1ef419f28f48.bindTooltip%28%0A%20%20%20%20%20%20%20%20%20%20%20%20%20%20%20%20%60%3Cdiv%3E%0A%20%20%20%20%20%20%20%20%20%20%20%20%20%20%20%20%20%20%20%20%20%EC%95%B5%EA%B8%80340%0A%20%20%20%20%20%20%20%20%20%20%20%20%20%20%20%20%20%3C/div%3E%60%2C%0A%20%20%20%20%20%20%20%20%20%20%20%20%20%20%20%20%7B%22sticky%22%3A%20true%7D%0A%20%20%20%20%20%20%20%20%20%20%20%20%29%3B%0A%20%20%20%20%20%20%20%20%0A%20%20%20%20%0A%20%20%20%20%20%20%20%20%20%20%20%20var%20marker_156961a627d94c2a943f5a9b27d94f94%20%3D%20L.marker%28%0A%20%20%20%20%20%20%20%20%20%20%20%20%20%20%20%20%5B37.5569654035088%2C%20126.978139103837%5D%2C%0A%20%20%20%20%20%20%20%20%20%20%20%20%20%20%20%20%7B%7D%0A%20%20%20%20%20%20%20%20%20%20%20%20%29.addTo%28map_4990cffc7924464d961bc512738f373f%29%3B%0A%20%20%20%20%20%20%20%20%0A%20%20%20%20%0A%20%20%20%20%20%20%20%20%20%20%20%20var%20icon_414657bcecf746cf8474a27d1935570a%20%3D%20L.AwesomeMarkers.icon%28%0A%20%20%20%20%20%20%20%20%20%20%20%20%20%20%20%20%7B%22extraClasses%22%3A%20%22fa-rotate-0%22%2C%20%22icon%22%3A%20%22glyphicon-leaf%22%2C%20%22iconColor%22%3A%20%22white%22%2C%20%22markerColor%22%3A%20%22green%22%2C%20%22prefix%22%3A%20%22glyphicon%22%7D%0A%20%20%20%20%20%20%20%20%20%20%20%20%29%3B%0A%20%20%20%20%20%20%20%20%20%20%20%20marker_156961a627d94c2a943f5a9b27d94f94.setIcon%28icon_414657bcecf746cf8474a27d1935570a%29%3B%0A%20%20%20%20%20%20%20%20%0A%20%20%20%20%0A%20%20%20%20%20%20%20%20var%20popup_e0fd52981b154ee0b53596e8152d8fb6%20%3D%20L.popup%28%7B%22maxWidth%22%3A%20200%7D%29%3B%0A%0A%20%20%20%20%20%20%20%20%0A%20%20%20%20%20%20%20%20%20%20%20%20var%20html_eefcc4da3c334629963ce4e115c09abe%20%3D%20%24%28%60%3Cdiv%20id%3D%22html_eefcc4da3c334629963ce4e115c09abe%22%20style%3D%22width%3A%20100.0%25%3B%20height%3A%20100.0%25%3B%22%3E%EC%A0%84%EC%8B%9C%ED%9A%8C%EC%9E%A5%EA%B3%BC%20%ED%95%A8%EA%BB%98%20%EC%9E%88%EB%8A%94%20%EC%B9%B4%ED%8E%98%3C/div%3E%60%29%5B0%5D%3B%0A%20%20%20%20%20%20%20%20%20%20%20%20popup_e0fd52981b154ee0b53596e8152d8fb6.setContent%28html_eefcc4da3c334629963ce4e115c09abe%29%3B%0A%20%20%20%20%20%20%20%20%0A%0A%20%20%20%20%20%20%20%20marker_156961a627d94c2a943f5a9b27d94f94.bindPopup%28popup_e0fd52981b154ee0b53596e8152d8fb6%29%0A%20%20%20%20%20%20%20%20%3B%0A%0A%20%20%20%20%20%20%20%20%0A%20%20%20%20%0A%20%20%20%20%0A%20%20%20%20%20%20%20%20%20%20%20%20marker_156961a627d94c2a943f5a9b27d94f94.bindTooltip%28%0A%20%20%20%20%20%20%20%20%20%20%20%20%20%20%20%20%60%3Cdiv%3E%0A%20%20%20%20%20%20%20%20%20%20%20%20%20%20%20%20%20%20%20%20%20picnic%0A%20%20%20%20%20%20%20%20%20%20%20%20%20%20%20%20%20%3C/div%3E%60%2C%0A%20%20%20%20%20%20%20%20%20%20%20%20%20%20%20%20%7B%22sticky%22%3A%20true%7D%0A%20%20%20%20%20%20%20%20%20%20%20%20%29%3B%0A%20%20%20%20%20%20%20%20%0A%20%20%20%20%0A%20%20%20%20%20%20%20%20%20%20%20%20var%20marker_c6cb3a8570dc46e0bba01aba928f3f76%20%3D%20L.marker%28%0A%20%20%20%20%20%20%20%20%20%20%20%20%20%20%20%20%5B37.5367837613965%2C%20127.0115871945%5D%2C%0A%20%20%20%20%20%20%20%20%20%20%20%20%20%20%20%20%7B%7D%0A%20%20%20%20%20%20%20%20%20%20%20%20%29.addTo%28map_4990cffc7924464d961bc512738f373f%29%3B%0A%20%20%20%20%20%20%20%20%0A%20%20%20%20%0A%20%20%20%20%20%20%20%20%20%20%20%20var%20icon_f434289e86e746acae7d851e04ffa2f8%20%3D%20L.AwesomeMarkers.icon%28%0A%20%20%20%20%20%20%20%20%20%20%20%20%20%20%20%20%7B%22extraClasses%22%3A%20%22fa-rotate-0%22%2C%20%22icon%22%3A%20%22glyphicon-glass%22%2C%20%22iconColor%22%3A%20%22white%22%2C%20%22markerColor%22%3A%20%22black%22%2C%20%22prefix%22%3A%20%22glyphicon%22%7D%0A%20%20%20%20%20%20%20%20%20%20%20%20%29%3B%0A%20%20%20%20%20%20%20%20%20%20%20%20marker_c6cb3a8570dc46e0bba01aba928f3f76.setIcon%28icon_f434289e86e746acae7d851e04ffa2f8%29%3B%0A%20%20%20%20%20%20%20%20%0A%20%20%20%20%0A%20%20%20%20%20%20%20%20var%20popup_3c15ed55a9e243f1929512113f352922%20%3D%20L.popup%28%7B%22maxWidth%22%3A%20200%7D%29%3B%0A%0A%20%20%20%20%20%20%20%20%0A%20%20%20%20%20%20%20%20%20%20%20%20var%20html_dc218c967d5940da8b1e04ff31085b53%20%3D%20%24%28%60%3Cdiv%20id%3D%22html_dc218c967d5940da8b1e04ff31085b53%22%20style%3D%22width%3A%20100.0%25%3B%20height%3A%20100.0%25%3B%22%3E%ED%95%9C%EB%82%A8%EB%8F%99%20%ED%94%84%EB%9E%91%EC%8A%A4%20%EC%8B%9D%EB%8B%B9%3C/div%3E%60%29%5B0%5D%3B%0A%20%20%20%20%20%20%20%20%20%20%20%20popup_3c15ed55a9e243f1929512113f352922.setContent%28html_dc218c967d5940da8b1e04ff31085b53%29%3B%0A%20%20%20%20%20%20%20%20%0A%0A%20%20%20%20%20%20%20%20marker_c6cb3a8570dc46e0bba01aba928f3f76.bindPopup%28popup_3c15ed55a9e243f1929512113f352922%29%0A%20%20%20%20%20%20%20%20%3B%0A%0A%20%20%20%20%20%20%20%20%0A%20%20%20%20%0A%20%20%20%20%0A%20%20%20%20%20%20%20%20%20%20%20%20marker_c6cb3a8570dc46e0bba01aba928f3f76.bindTooltip%28%0A%20%20%20%20%20%20%20%20%20%20%20%20%20%20%20%20%60%3Cdiv%3E%0A%20%20%20%20%20%20%20%20%20%20%20%20%20%20%20%20%20%20%20%20%20reveat%0A%20%20%20%20%20%20%20%20%20%20%20%20%20%20%20%20%20%3C/div%3E%60%2C%0A%20%20%20%20%20%20%20%20%20%20%20%20%20%20%20%20%7B%22sticky%22%3A%20true%7D%0A%20%20%20%20%20%20%20%20%20%20%20%20%29%3B%0A%20%20%20%20%20%20%20%20%0A%20%20%20%20%0A%20%20%20%20%20%20%20%20%20%20%20%20var%20marker_1e09b6636d354d2ab62f77f0d6ea6798%20%3D%20L.marker%28%0A%20%20%20%20%20%20%20%20%20%20%20%20%20%20%20%20%5B37.5303509410215%2C%20126.9713078372%5D%2C%0A%20%20%20%20%20%20%20%20%20%20%20%20%20%20%20%20%7B%7D%0A%20%20%20%20%20%20%20%20%20%20%20%20%29.addTo%28map_4990cffc7924464d961bc512738f373f%29%3B%0A%20%20%20%20%20%20%20%20%0A%20%20%20%20%0A%20%20%20%20%20%20%20%20%20%20%20%20var%20icon_a9adebcfc81f4e1eb50435bcaf08125e%20%3D%20L.AwesomeMarkers.icon%28%0A%20%20%20%20%20%20%20%20%20%20%20%20%20%20%20%20%7B%22extraClasses%22%3A%20%22fa-rotate-0%22%2C%20%22icon%22%3A%20%22glyphicon%20glyphicon-remove-sign%22%2C%20%22iconColor%22%3A%20%22white%22%2C%20%22markerColor%22%3A%20%22orange%22%2C%20%22prefix%22%3A%20%22glyphicon%22%7D%0A%20%20%20%20%20%20%20%20%20%20%20%20%29%3B%0A%20%20%20%20%20%20%20%20%20%20%20%20marker_1e09b6636d354d2ab62f77f0d6ea6798.setIcon%28icon_a9adebcfc81f4e1eb50435bcaf08125e%29%3B%0A%20%20%20%20%20%20%20%20%0A%20%20%20%20%0A%20%20%20%20%20%20%20%20var%20popup_541568e67b9a4b049de021e369a20bea%20%3D%20L.popup%28%7B%22maxWidth%22%3A%20200%7D%29%3B%0A%0A%20%20%20%20%20%20%20%20%0A%20%20%20%20%20%20%20%20%20%20%20%20var%20html_e8dbdf4c8f01406181ed12c21844fd22%20%3D%20%24%28%60%3Cdiv%20id%3D%22html_e8dbdf4c8f01406181ed12c21844fd22%22%20style%3D%22width%3A%20100.0%25%3B%20height%3A%20100.0%25%3B%22%3E%ED%98%84%EC%A7%80%20%EB%B6%84%EC%9C%84%EB%A5%BC%20%EB%8A%90%EB%82%84%EC%88%98%20%EC%9E%88%EB%8A%94%20%EB%B2%A0%ED%8A%B8%EB%82%A8%20%EC%8B%9D%EB%8B%B9%3C/div%3E%60%29%5B0%5D%3B%0A%20%20%20%20%20%20%20%20%20%20%20%20popup_541568e67b9a4b049de021e369a20bea.setContent%28html_e8dbdf4c8f01406181ed12c21844fd22%29%3B%0A%20%20%20%20%20%20%20%20%0A%0A%20%20%20%20%20%20%20%20marker_1e09b6636d354d2ab62f77f0d6ea6798.bindPopup%28popup_541568e67b9a4b049de021e369a20bea%29%0A%20%20%20%20%20%20%20%20%3B%0A%0A%20%20%20%20%20%20%20%20%0A%20%20%20%20%0A%20%20%20%20%0A%20%20%20%20%20%20%20%20%20%20%20%20marker_1e09b6636d354d2ab62f77f0d6ea6798.bindTooltip%28%0A%20%20%20%20%20%20%20%20%20%20%20%20%20%20%20%20%60%3Cdiv%3E%0A%20%20%20%20%20%20%20%20%20%20%20%20%20%20%20%20%20%20%20%20%20%ED%9A%A8%EB%9C%A8%0A%20%20%20%20%20%20%20%20%20%20%20%20%20%20%20%20%20%3C/div%3E%60%2C%0A%20%20%20%20%20%20%20%20%20%20%20%20%20%20%20%20%7B%22sticky%22%3A%20true%7D%0A%20%20%20%20%20%20%20%20%20%20%20%20%29%3B%0A%20%20%20%20%20%20%20%20%0A%20%20%20%20%0A%20%20%20%20%20%20%20%20%20%20%20%20var%20marker_b23043cd93e54c169519d8d421d4a34e%20%3D%20L.marker%28%0A%20%20%20%20%20%20%20%20%20%20%20%20%20%20%20%20%5B37.5348433010452%2C%20127.000858183704%5D%2C%0A%20%20%20%20%20%20%20%20%20%20%20%20%20%20%20%20%7B%7D%0A%20%20%20%20%20%20%20%20%20%20%20%20%29.addTo%28map_4990cffc7924464d961bc512738f373f%29%3B%0A%20%20%20%20%20%20%20%20%0A%20%20%20%20%0A%20%20%20%20%20%20%20%20%20%20%20%20var%20icon_24382c49619549319aaf3ba8c5986aa0%20%3D%20L.AwesomeMarkers.icon%28%0A%20%20%20%20%20%20%20%20%20%20%20%20%20%20%20%20%7B%22extraClasses%22%3A%20%22fa-rotate-0%22%2C%20%22icon%22%3A%20%22glyphicon%20glyphicon-bell%22%2C%20%22iconColor%22%3A%20%22white%22%2C%20%22markerColor%22%3A%20%22yellowgreen%22%2C%20%22prefix%22%3A%20%22glyphicon%22%7D%0A%20%20%20%20%20%20%20%20%20%20%20%20%29%3B%0A%20%20%20%20%20%20%20%20%20%20%20%20marker_b23043cd93e54c169519d8d421d4a34e.setIcon%28icon_24382c49619549319aaf3ba8c5986aa0%29%3B%0A%20%20%20%20%20%20%20%20%0A%20%20%20%20%0A%20%20%20%20%20%20%20%20var%20popup_006d4ecea227429db4312e686d4c65cf%20%3D%20L.popup%28%7B%22maxWidth%22%3A%20200%7D%29%3B%0A%0A%20%20%20%20%20%20%20%20%0A%20%20%20%20%20%20%20%20%20%20%20%20var%20html_489052b9aa33442faa2439732f19793e%20%3D%20%24%28%60%3Cdiv%20id%3D%22html_489052b9aa33442faa2439732f19793e%22%20style%3D%22width%3A%20100.0%25%3B%20height%3A%20100.0%25%3B%22%3E%EC%88%98%EC%A0%9C%EB%B2%84%EA%B1%B0%EA%B0%80%20%EB%A7%9C%EC%9E%88%EB%8A%94%20%EC%A7%91%3C/div%3E%60%29%5B0%5D%3B%0A%20%20%20%20%20%20%20%20%20%20%20%20popup_006d4ecea227429db4312e686d4c65cf.setContent%28html_489052b9aa33442faa2439732f19793e%29%3B%0A%20%20%20%20%20%20%20%20%0A%0A%20%20%20%20%20%20%20%20marker_b23043cd93e54c169519d8d421d4a34e.bindPopup%28popup_006d4ecea227429db4312e686d4c65cf%29%0A%20%20%20%20%20%20%20%20%3B%0A%0A%20%20%20%20%20%20%20%20%0A%20%20%20%20%0A%20%20%20%20%0A%20%20%20%20%20%20%20%20%20%20%20%20marker_b23043cd93e54c169519d8d421d4a34e.bindTooltip%28%0A%20%20%20%20%20%20%20%20%20%20%20%20%20%20%20%20%60%3Cdiv%3E%0A%20%20%20%20%20%20%20%20%20%20%20%20%20%20%20%20%20%20%20%20%20%EB%8B%A4%EC%9A%B4%ED%83%80%EC%9A%B0%EB%84%88%0A%20%20%20%20%20%20%20%20%20%20%20%20%20%20%20%20%20%3C/div%3E%60%2C%0A%20%20%20%20%20%20%20%20%20%20%20%20%20%20%20%20%7B%22sticky%22%3A%20true%7D%0A%20%20%20%20%20%20%20%20%20%20%20%20%29%3B%0A%20%20%20%20%20%20%20%20%0A%20%20%20%20%0A%20%20%20%20%20%20%20%20%20%20%20%20var%20marker_76de538e59c5450aaac0a4d067180283%20%3D%20L.marker%28%0A%20%20%20%20%20%20%20%20%20%20%20%20%20%20%20%20%5B37.5253737056184%2C%20127.048780188752%5D%2C%0A%20%20%20%20%20%20%20%20%20%20%20%20%20%20%20%20%7B%7D%0A%20%20%20%20%20%20%20%20%20%20%20%20%29.addTo%28map_4990cffc7924464d961bc512738f373f%29%3B%0A%20%20%20%20%20%20%20%20%0A%20%20%20%20%0A%20%20%20%20%20%20%20%20%20%20%20%20var%20icon_c4f9b4e7f3734a13868b294a1cb0f537%20%3D%20L.AwesomeMarkers.icon%28%0A%20%20%20%20%20%20%20%20%20%20%20%20%20%20%20%20%7B%22extraClasses%22%3A%20%22fa-rotate-0%22%2C%20%22icon%22%3A%20%22glyphicon%20glyphicon-bookmark%22%2C%20%22iconColor%22%3A%20%22white%22%2C%20%22markerColor%22%3A%20%22gray%22%2C%20%22prefix%22%3A%20%22glyphicon%22%7D%0A%20%20%20%20%20%20%20%20%20%20%20%20%29%3B%0A%20%20%20%20%20%20%20%20%20%20%20%20marker_76de538e59c5450aaac0a4d067180283.setIcon%28icon_c4f9b4e7f3734a13868b294a1cb0f537%29%3B%0A%20%20%20%20%20%20%20%20%0A%20%20%20%20%0A%20%20%20%20%20%20%20%20var%20popup_c2d3891364834886bb4181a1edf26cd4%20%3D%20L.popup%28%7B%22maxWidth%22%3A%20200%7D%29%3B%0A%0A%20%20%20%20%20%20%20%20%0A%20%20%20%20%20%20%20%20%20%20%20%20var%20html_987a5ebc283645979f83d0dabd483e3f%20%3D%20%24%28%60%3Cdiv%20id%3D%22html_987a5ebc283645979f83d0dabd483e3f%22%20style%3D%22width%3A%20100.0%25%3B%20height%3A%20100.0%25%3B%22%3E%EB%B6%84%EC%9C%84%EA%B8%B0%20%EC%A2%8B%EC%9D%80%20%EB%B8%8C%EB%A3%A8%ED%8E%8D%3C/div%3E%60%29%5B0%5D%3B%0A%20%20%20%20%20%20%20%20%20%20%20%20popup_c2d3891364834886bb4181a1edf26cd4.setContent%28html_987a5ebc283645979f83d0dabd483e3f%29%3B%0A%20%20%20%20%20%20%20%20%0A%0A%20%20%20%20%20%20%20%20marker_76de538e59c5450aaac0a4d067180283.bindPopup%28popup_c2d3891364834886bb4181a1edf26cd4%29%0A%20%20%20%20%20%20%20%20%3B%0A%0A%20%20%20%20%20%20%20%20%0A%20%20%20%20%0A%20%20%20%20%0A%20%20%20%20%20%20%20%20%20%20%20%20marker_76de538e59c5450aaac0a4d067180283.bindTooltip%28%0A%20%20%20%20%20%20%20%20%20%20%20%20%20%20%20%20%60%3Cdiv%3E%0A%20%20%20%20%20%20%20%20%20%20%20%20%20%20%20%20%20%20%20%20%20%EC%B9%B4%EB%B8%8C%EB%A3%A8%EB%B8%8C%EB%A3%A8%ED%8E%8D%0A%20%20%20%20%20%20%20%20%20%20%20%20%20%20%20%20%20%3C/div%3E%60%2C%0A%20%20%20%20%20%20%20%20%20%20%20%20%20%20%20%20%7B%22sticky%22%3A%20true%7D%0A%20%20%20%20%20%20%20%20%20%20%20%20%29%3B%0A%20%20%20%20%20%20%20%20%0A%20%20%20%20%0A%20%20%20%20%20%20%20%20%20%20%20%20var%20marker_37b2a062730f424e9edd9f92db4ed2e7%20%3D%20L.marker%28%0A%20%20%20%20%20%20%20%20%20%20%20%20%20%20%20%20%5B37.5262670303565%2C%20127.034527389489%5D%2C%0A%20%20%20%20%20%20%20%20%20%20%20%20%20%20%20%20%7B%7D%0A%20%20%20%20%20%20%20%20%20%20%20%20%29.addTo%28map_4990cffc7924464d961bc512738f373f%29%3B%0A%20%20%20%20%20%20%20%20%0A%20%20%20%20%0A%20%20%20%20%20%20%20%20%20%20%20%20var%20icon_20936b5ead1e47f28c1954eb8941e430%20%3D%20L.AwesomeMarkers.icon%28%0A%20%20%20%20%20%20%20%20%20%20%20%20%20%20%20%20%7B%22extraClasses%22%3A%20%22fa-rotate-0%22%2C%20%22icon%22%3A%20%22glyphicon%20glyphicon-play%22%2C%20%22iconColor%22%3A%20%22white%22%2C%20%22markerColor%22%3A%20%22pink%22%2C%20%22prefix%22%3A%20%22glyphicon%22%7D%0A%20%20%20%20%20%20%20%20%20%20%20%20%29%3B%0A%20%20%20%20%20%20%20%20%20%20%20%20marker_37b2a062730f424e9edd9f92db4ed2e7.setIcon%28icon_20936b5ead1e47f28c1954eb8941e430%29%3B%0A%20%20%20%20%20%20%20%20%0A%20%20%20%20%0A%20%20%20%20%20%20%20%20var%20popup_45ba344b4b6e4478997123f4de742335%20%3D%20L.popup%28%7B%22maxWidth%22%3A%20200%7D%29%3B%0A%0A%20%20%20%20%20%20%20%20%0A%20%20%20%20%20%20%20%20%20%20%20%20var%20html_701921f464ab4215b9bbfdcd25d820b8%20%3D%20%24%28%60%3Cdiv%20id%3D%22html_701921f464ab4215b9bbfdcd25d820b8%22%20style%3D%22width%3A%20100.0%25%3B%20height%3A%20100.0%25%3B%22%3E%EC%99%80%EC%9D%B8%EA%B3%BC%20%ED%95%98%EB%AA%BD%EB%A9%94%EB%A1%A0%EC%9D%B4%20%EB%A7%9B%EC%9E%87%EB%8A%94%20%EC%A7%91%3C/div%3E%60%29%5B0%5D%3B%0A%20%20%20%20%20%20%20%20%20%20%20%20popup_45ba344b4b6e4478997123f4de742335.setContent%28html_701921f464ab4215b9bbfdcd25d820b8%29%3B%0A%20%20%20%20%20%20%20%20%0A%0A%20%20%20%20%20%20%20%20marker_37b2a062730f424e9edd9f92db4ed2e7.bindPopup%28popup_45ba344b4b6e4478997123f4de742335%29%0A%20%20%20%20%20%20%20%20%3B%0A%0A%20%20%20%20%20%20%20%20%0A%20%20%20%20%0A%20%20%20%20%0A%20%20%20%20%20%20%20%20%20%20%20%20marker_37b2a062730f424e9edd9f92db4ed2e7.bindTooltip%28%0A%20%20%20%20%20%20%20%20%20%20%20%20%20%20%20%20%60%3Cdiv%3E%0A%20%20%20%20%20%20%20%20%20%20%20%20%20%20%20%20%20%20%20%20%20%EB%8B%AC%EB%A7%88%EC%8B%9C%EC%95%88%0A%20%20%20%20%20%20%20%20%20%20%20%20%20%20%20%20%20%3C/div%3E%60%2C%0A%20%20%20%20%20%20%20%20%20%20%20%20%20%20%20%20%7B%22sticky%22%3A%20true%7D%0A%20%20%20%20%20%20%20%20%20%20%20%20%29%3B%0A%20%20%20%20%20%20%20%20%0A%20%20%20%20%0A%20%20%20%20%20%20%20%20%20%20%20%20var%20marker_a20eefd809d946e68cf48eff24d1826e%20%3D%20L.marker%28%0A%20%20%20%20%20%20%20%20%20%20%20%20%20%20%20%20%5B37.5726598289616%2C%20127.004040878995%5D%2C%0A%20%20%20%20%20%20%20%20%20%20%20%20%20%20%20%20%7B%7D%0A%20%20%20%20%20%20%20%20%20%20%20%20%29.addTo%28map_4990cffc7924464d961bc512738f373f%29%3B%0A%20%20%20%20%20%20%20%20%0A%20%20%20%20%0A%20%20%20%20%20%20%20%20%20%20%20%20var%20icon_19d35410ac624698acf5b36009688716%20%3D%20L.AwesomeMarkers.icon%28%0A%20%20%20%20%20%20%20%20%20%20%20%20%20%20%20%20%7B%22extraClasses%22%3A%20%22fa-rotate-0%22%2C%20%22icon%22%3A%20%22glyphicon%20glyphicon-map-marker%22%2C%20%22iconColor%22%3A%20%22white%22%2C%20%22markerColor%22%3A%20%22purple%22%2C%20%22prefix%22%3A%20%22glyphicon%22%7D%0A%20%20%20%20%20%20%20%20%20%20%20%20%29%3B%0A%20%20%20%20%20%20%20%20%20%20%20%20marker_a20eefd809d946e68cf48eff24d1826e.setIcon%28icon_19d35410ac624698acf5b36009688716%29%3B%0A%20%20%20%20%20%20%20%20%0A%20%20%20%20%0A%20%20%20%20%20%20%20%20var%20popup_3065013dda1c4ad68651c83751ea31fb%20%3D%20L.popup%28%7B%22maxWidth%22%3A%20200%7D%29%3B%0A%0A%20%20%20%20%20%20%20%20%0A%20%20%20%20%20%20%20%20%20%20%20%20var%20html_5f098a487afb4cf5ae51e97174afcf7a%20%3D%20%24%28%60%3Cdiv%20id%3D%22html_5f098a487afb4cf5ae51e97174afcf7a%22%20style%3D%22width%3A%20100.0%25%3B%20height%3A%20100.0%25%3B%22%3E%EC%9C%A1%ED%9A%8C%EA%B0%80%20%EB%A7%9B%EC%9E%88%EB%8A%94%20%EC%A7%91%3C/div%3E%60%29%5B0%5D%3B%0A%20%20%20%20%20%20%20%20%20%20%20%20popup_3065013dda1c4ad68651c83751ea31fb.setContent%28html_5f098a487afb4cf5ae51e97174afcf7a%29%3B%0A%20%20%20%20%20%20%20%20%0A%0A%20%20%20%20%20%20%20%20marker_a20eefd809d946e68cf48eff24d1826e.bindPopup%28popup_3065013dda1c4ad68651c83751ea31fb%29%0A%20%20%20%20%20%20%20%20%3B%0A%0A%20%20%20%20%20%20%20%20%0A%20%20%20%20%0A%20%20%20%20%0A%20%20%20%20%20%20%20%20%20%20%20%20marker_a20eefd809d946e68cf48eff24d1826e.bindTooltip%28%0A%20%20%20%20%20%20%20%20%20%20%20%20%20%20%20%20%60%3Cdiv%3E%0A%20%20%20%20%20%20%20%20%20%20%20%20%20%20%20%20%20%20%20%20%20%EB%B0%B1%EC%A0%9C%EC%A0%95%EC%9C%A1%0A%20%20%20%20%20%20%20%20%20%20%20%20%20%20%20%20%20%3C/div%3E%60%2C%0A%20%20%20%20%20%20%20%20%20%20%20%20%20%20%20%20%7B%22sticky%22%3A%20true%7D%0A%20%20%20%20%20%20%20%20%20%20%20%20%29%3B%0A%20%20%20%20%20%20%20%20%0A%3C/script%3E onload=\"this.contentDocument.open();this.contentDocument.write(    decodeURIComponent(this.getAttribute('data-html')));this.contentDocument.close();\" allowfullscreen webkitallowfullscreen mozallowfullscreen></iframe></div></div>"
      ],
      "text/plain": [
       "<folium.folium.Map at 0x1f40dbc0160>"
      ]
     },
     "execution_count": 34,
     "metadata": {},
     "output_type": "execute_result"
    }
   ],
   "source": [
    "map = folium.Map(location=[df.위도.mean(), df.경도.mean()], zoom_start=12)\n",
    "for i in df.index:\n",
    "    folium.Marker(\n",
    "        location=[df.위도[i], df.경도[i]],\n",
    "        popup=folium.Popup(df.설명[i], max_width=200),\n",
    "        tooltip=df.상호[i],\n",
    "        icon=folium.Icon(color=colors[i], icon=icons[i])\n",
    "    ).add_to(map)\n",
    "\n",
    "title_html = '<h3 align=\"center\" style=\"font-size:20px\">맛집 10곳</h3>'    \n",
    "map.get_root().html.add_child(folium.Element(title_html))\n",
    "map\n",
    "   "
   ]
  },
  {
   "cell_type": "code",
   "execution_count": 30,
   "metadata": {},
   "outputs": [],
   "source": [
    "map.save('맛집 10곳.html')"
   ]
  },
  {
   "cell_type": "code",
   "execution_count": null,
   "metadata": {},
   "outputs": [],
   "source": []
  }
 ],
 "metadata": {
  "interpreter": {
   "hash": "bbaff3bad43e72ef86a08724e2a04c1dc7b916dad0faa2935f126c230f07c1b0"
  },
  "kernelspec": {
   "display_name": "Python 3.9.7 ('base')",
   "language": "python",
   "name": "python3"
  },
  "language_info": {
   "codemirror_mode": {
    "name": "ipython",
    "version": 3
   },
   "file_extension": ".py",
   "mimetype": "text/x-python",
   "name": "python",
   "nbconvert_exporter": "python",
   "pygments_lexer": "ipython3",
   "version": "3.9.7"
  },
  "orig_nbformat": 4
 },
 "nbformat": 4,
 "nbformat_minor": 2
}
