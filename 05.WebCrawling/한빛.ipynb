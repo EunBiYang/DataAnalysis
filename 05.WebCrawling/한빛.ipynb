{
 "cells": [
  {
   "cell_type": "markdown",
   "metadata": {},
   "source": [
    "# 한빛출판네트워크 - 새로나온책 10페이지\n",
    "        - 제목, 저자, 출간일, 쪽수, 가격, 역자"
   ]
  },
  {
   "cell_type": "code",
   "execution_count": 8,
   "metadata": {},
   "outputs": [],
   "source": [
    "import requests, re\n",
    "import pandas as pd\n",
    "from bs4 import BeautifulSoup\n",
    "from tqdm.notebook import tqdm"
   ]
  },
  {
   "cell_type": "markdown",
   "metadata": {},
   "source": [
    "### 1.데이터 가져오기"
   ]
  },
  {
   "cell_type": "code",
   "execution_count": 9,
   "metadata": {},
   "outputs": [],
   "source": [
    "site = 'https://www.hanbit.co.kr'\n",
    "url = site + '/store/books/new_book_list.html'\n",
    "res = requests.get(url)\n",
    "soup = BeautifulSoup(res.text, 'html.parser')"
   ]
  },
  {
   "cell_type": "markdown",
   "metadata": {},
   "source": [
    "### 2.원하는 데이터 찾기"
   ]
  },
  {
   "cell_type": "code",
   "execution_count": 10,
   "metadata": {},
   "outputs": [
    {
     "data": {
      "text/plain": [
       "20"
      ]
     },
     "execution_count": 10,
     "metadata": {},
     "output_type": "execute_result"
    }
   ],
   "source": [
    "#메인 페이지\n",
    "lis = soup.select('.new_book_list_wrap > div > li')\n",
    "len(lis)"
   ]
  },
  {
   "cell_type": "code",
   "execution_count": 11,
   "metadata": {},
   "outputs": [],
   "source": [
    "li = lis[0]\n"
   ]
  },
  {
   "cell_type": "code",
   "execution_count": 16,
   "metadata": {},
   "outputs": [],
   "source": [
    "#서브 페이지\n",
    "href = li.select_one('.book_tit').find('a')['href']\n",
    "url2 = site + href\n",
    "res = requests.get(url2)\n",
    "sub_soup = BeautifulSoup(res.text, 'html.parser')"
   ]
  },
  {
   "cell_type": "code",
   "execution_count": 25,
   "metadata": {},
   "outputs": [
    {
     "data": {
      "text/plain": [
       "[<li><strong>저자 : </strong><span>펠릭스 춤슈타인 </span></li>,\n",
       " <li><strong>번역 : </strong><span>한선용 </span></li>,\n",
       " <li><strong>출간 : </strong><span>2022-04-20</span></li>,\n",
       " <li><strong>페이지 : </strong><span>388 쪽</span></li>,\n",
       " <li><strong>ISBN : </strong><span>9791162245545</span></li>,\n",
       " <li><strong>물류코드 :</strong><span>10554</span></li>]"
      ]
     },
     "execution_count": 25,
     "metadata": {},
     "output_type": "execute_result"
    }
   ],
   "source": [
    "sub_lis = sub_soup.select('.info_list > li')\n",
    "sub_lis"
   ]
  },
  {
   "cell_type": "markdown",
   "metadata": {},
   "source": [
    "### 3.하나의 데이터로 원하는 정보 찾기"
   ]
  },
  {
   "cell_type": "code",
   "execution_count": 12,
   "metadata": {},
   "outputs": [],
   "source": [
    "#제목\n",
    "book_name = li.select_one('.book_tit').get_text()"
   ]
  },
  {
   "cell_type": "code",
   "execution_count": 31,
   "metadata": {},
   "outputs": [
    {
     "data": {
      "text/plain": [
       "'28,000원'"
      ]
     },
     "execution_count": 31,
     "metadata": {},
     "output_type": "execute_result"
    }
   ],
   "source": [
    "#가격\n",
    "price = sub_soup.select_one('.pbr').get_text()"
   ]
  },
  {
   "cell_type": "code",
   "execution_count": null,
   "metadata": {},
   "outputs": [],
   "source": [
    "#저자, 번역, 출간(날짜),페이지는 sub_soup 생성 후 불러오기\n",
    "href = li.select_one('.book_tit').find('a')['href']\n",
    "url2 = site + href\n",
    "res = requests.get(url2)\n",
    "sub_soup = BeautifulSoup(res.text, 'html.parser')\n",
    "sub_lis = sub_soup.select('.info_list > li')"
   ]
  },
  {
   "cell_type": "code",
   "execution_count": 43,
   "metadata": {},
   "outputs": [
    {
     "name": "stdout",
     "output_type": "stream",
     "text": [
      "저자 : 펠릭스 춤슈타인 \n",
      "번역 : 한선용 \n",
      "출간 : 2022-04-20\n",
      "페이지 : 388 쪽\n",
      "ISBN : 9791162245545\n",
      "물류코드 :10554\n"
     ]
    }
   ],
   "source": [
    "for li in sub_lis:\n",
    "    print(li.get_text())"
   ]
  },
  {
   "cell_type": "code",
   "execution_count": null,
   "metadata": {},
   "outputs": [],
   "source": [
    "text = li.get_text().strip()\n",
    "\n",
    "if '저자 :' in text:\n",
    "\n",
    "    author = text.split(':')[1].strip()\n",
    "\n",
    "elif '번역 :' in text:\n",
    "    trans = text.split(':')[1].strip()\n",
    "elif '출간 :' in text:\n",
    "    date = text.split(':')[1].strip()\n",
    "elif '페이지 :' in text:\n",
    "    page = text.split(':')[1].strip()"
   ]
  },
  {
   "cell_type": "markdown",
   "metadata": {},
   "source": [
    "### 4.페이지내 모든 책 정보 가져오기"
   ]
  },
  {
   "cell_type": "code",
   "execution_count": 56,
   "metadata": {},
   "outputs": [
    {
     "data": {
      "application/vnd.jupyter.widget-view+json": {
       "model_id": "cfc7d7b1b151434a909abf7a35c5ac29",
       "version_major": 2,
       "version_minor": 0
      },
      "text/plain": [
       "  0%|          | 0/20 [00:00<?, ?it/s]"
      ]
     },
     "metadata": {},
     "output_type": "display_data"
    }
   ],
   "source": [
    "lines = []\n",
    "for li in tqdm(lis):\n",
    "    book_name = li.select_one('.book_tit').get_text()\n",
    "\n",
    "    href = li.select_one('.book_tit').find('a')['href']\n",
    "    url2 = site + href\n",
    "    res = requests.get(url2)\n",
    "    sub_soup = BeautifulSoup(res.text, 'html.parser')\n",
    "    sub_lis = sub_soup.select('.info_list > li')\n",
    "    \n",
    "    price = sub_soup.select_one('.pbr').get_text()\n",
    "    \n",
    "    trans = '-'       \n",
    "    for li in sub_lis:\n",
    "        text = li.get_text().strip()\n",
    "        if '저자 :' in text:\n",
    "            author = text.split(':')[1].strip()\n",
    "        elif '번역 :' in text:\n",
    "            trans = text.split(':')[1].strip()\n",
    "        elif '출간 :' in text:\n",
    "            date = text.split(':')[1].strip()\n",
    "        elif '페이지 :' in text:\n",
    "            page = text.split(':')[1].strip()\n",
    "        \n",
    "    lines.append([book_name, author, date, page, price, trans])\n",
    "        \n",
    "    "
   ]
  },
  {
   "cell_type": "markdown",
   "metadata": {},
   "source": [
    "### 5.모든 페이지의 모든 정보 가져오기"
   ]
  },
  {
   "cell_type": "code",
   "execution_count": 64,
   "metadata": {},
   "outputs": [
    {
     "data": {
      "application/vnd.jupyter.widget-view+json": {
       "model_id": "ade02aeea7be42dfb533be4649ac7420",
       "version_major": 2,
       "version_minor": 0
      },
      "text/plain": [
       "  0%|          | 0/10 [00:00<?, ?it/s]"
      ]
     },
     "metadata": {},
     "output_type": "display_data"
    }
   ],
   "source": [
    "lines2 = []\n",
    "for page in tqdm(range(1,11)):\n",
    "    url = f'https://www.hanbit.co.kr/store/books/new_book_list.html?page={page}&brand=&cate1=&cate2=&searchKey=&keyWord='\n",
    "    req = requests.get(url)\n",
    "    soup = BeautifulSoup(req.text, 'html.parser')\n",
    "    lis = soup.select('li.sub_book_list')\n",
    "\n",
    "    for li in lis:\n",
    "        book_name = li.select_one('.book_tit').get_text()\n",
    "\n",
    "        href = li.select_one('.book_tit').find('a')['href']\n",
    "        url2 = site + href\n",
    "        res = requests.get(url2)\n",
    "        sub_soup = BeautifulSoup(res.text, 'html.parser')\n",
    "        sub_lis = sub_soup.select('.info_list > li')\n",
    "        \n",
    "        price = sub_soup.select_one('.pbr').get_text()\n",
    "        \n",
    "        trans = '-'       \n",
    "        for li in sub_lis:\n",
    "            text = li.get_text().strip()\n",
    "            if '저자 :' in text:\n",
    "                author = text.split(':')[1].strip()\n",
    "            elif '번역 :' in text:\n",
    "                trans = text.split(':')[1].strip()\n",
    "            elif '출간 :' in text:\n",
    "                date = text.split(':')[1].strip()\n",
    "            elif '페이지 :' in text:\n",
    "                page = text.split(':')[1].strip()\n",
    "            \n",
    "        lines2.append([book_name, author, date, page, price, trans])"
   ]
  },
  {
   "cell_type": "code",
   "execution_count": 65,
   "metadata": {},
   "outputs": [
    {
     "data": {
      "text/html": [
       "<div>\n",
       "<style scoped>\n",
       "    .dataframe tbody tr th:only-of-type {\n",
       "        vertical-align: middle;\n",
       "    }\n",
       "\n",
       "    .dataframe tbody tr th {\n",
       "        vertical-align: top;\n",
       "    }\n",
       "\n",
       "    .dataframe thead th {\n",
       "        text-align: right;\n",
       "    }\n",
       "</style>\n",
       "<table border=\"1\" class=\"dataframe\">\n",
       "  <thead>\n",
       "    <tr style=\"text-align: right;\">\n",
       "      <th></th>\n",
       "      <th>제목</th>\n",
       "      <th>저자</th>\n",
       "      <th>출간일</th>\n",
       "      <th>쪽수</th>\n",
       "      <th>가격</th>\n",
       "      <th>역자</th>\n",
       "    </tr>\n",
       "  </thead>\n",
       "  <tbody>\n",
       "    <tr>\n",
       "      <th>0</th>\n",
       "      <td>엑셀이 편해지는 파이썬</td>\n",
       "      <td>펠릭스 춤슈타인</td>\n",
       "      <td>2022-04-20</td>\n",
       "      <td>388 쪽</td>\n",
       "      <td>28,000원</td>\n",
       "      <td>한선용</td>\n",
       "    </tr>\n",
       "    <tr>\n",
       "      <th>1</th>\n",
       "      <td>올림포스 연대기</td>\n",
       "      <td>김재훈</td>\n",
       "      <td>2022-04-20</td>\n",
       "      <td>280 쪽</td>\n",
       "      <td>18,000원</td>\n",
       "      <td>-</td>\n",
       "    </tr>\n",
       "    <tr>\n",
       "      <th>2</th>\n",
       "      <td>쉽게 배우는 AWS AI 서비스</td>\n",
       "      <td>피터 엘거 , 오언 셔너히</td>\n",
       "      <td>2022-04-15</td>\n",
       "      <td>396 쪽</td>\n",
       "      <td>30,000원</td>\n",
       "      <td>맹윤호 , 임지순</td>\n",
       "    </tr>\n",
       "    <tr>\n",
       "      <th>3</th>\n",
       "      <td>상식적으로 상식을 배우는 법</td>\n",
       "      <td>제바스티안 클루스만</td>\n",
       "      <td>2022-04-14</td>\n",
       "      <td>248 쪽</td>\n",
       "      <td>14,800원</td>\n",
       "      <td>이지윤</td>\n",
       "    </tr>\n",
       "    <tr>\n",
       "      <th>4</th>\n",
       "      <td>엑셀로 부자되기</td>\n",
       "      <td>김태형</td>\n",
       "      <td>2022-04-12</td>\n",
       "      <td>312 쪽</td>\n",
       "      <td>18,000원</td>\n",
       "      <td>-</td>\n",
       "    </tr>\n",
       "    <tr>\n",
       "      <th>...</th>\n",
       "      <td>...</td>\n",
       "      <td>...</td>\n",
       "      <td>...</td>\n",
       "      <td>...</td>\n",
       "      <td>...</td>\n",
       "      <td>...</td>\n",
       "    </tr>\n",
       "    <tr>\n",
       "      <th>195</th>\n",
       "      <td>풀스택 서버리스 :  리액트, AWS, 그래프QL을 이용한 최신 애플리케이션 개발</td>\n",
       "      <td>네이더 다빗</td>\n",
       "      <td>2021-07-05</td>\n",
       "      <td>216 쪽</td>\n",
       "      <td>21,000원</td>\n",
       "      <td>김범준</td>\n",
       "    </tr>\n",
       "    <tr>\n",
       "      <th>196</th>\n",
       "      <td>한 권으로 배우는 작고 예쁜 꽃자수</td>\n",
       "      <td>장미나(미나랜드)</td>\n",
       "      <td>2021-07-05</td>\n",
       "      <td>240 쪽</td>\n",
       "      <td>18,000원</td>\n",
       "      <td>-</td>\n",
       "    </tr>\n",
       "    <tr>\n",
       "      <th>197</th>\n",
       "      <td>IT CookBook, 처음 만나는 회로이론(2판)</td>\n",
       "      <td>방성완</td>\n",
       "      <td>2021-07-02</td>\n",
       "      <td>400 쪽</td>\n",
       "      <td>23,000원</td>\n",
       "      <td>-</td>\n",
       "    </tr>\n",
       "    <tr>\n",
       "      <th>198</th>\n",
       "      <td>안전필수 시스템 제어 설계</td>\n",
       "      <td>김국헌 , 김태효 , 이성섭</td>\n",
       "      <td>2021-07-02</td>\n",
       "      <td>488 쪽</td>\n",
       "      <td>38,000원</td>\n",
       "      <td>-</td>\n",
       "    </tr>\n",
       "    <tr>\n",
       "      <th>199</th>\n",
       "      <td>데이터 스토리</td>\n",
       "      <td>낸시 두아르테</td>\n",
       "      <td>2021-07-01</td>\n",
       "      <td>240 쪽</td>\n",
       "      <td>22,000원</td>\n",
       "      <td>권혜정 , 윤영진(감수)</td>\n",
       "    </tr>\n",
       "  </tbody>\n",
       "</table>\n",
       "<p>200 rows × 6 columns</p>\n",
       "</div>"
      ],
      "text/plain": [
       "                                                제목               저자  \\\n",
       "0                                     엑셀이 편해지는 파이썬         펠릭스 춤슈타인   \n",
       "1                                         올림포스 연대기              김재훈   \n",
       "2                                쉽게 배우는 AWS AI 서비스   피터 엘거 , 오언 셔너히   \n",
       "3                                  상식적으로 상식을 배우는 법       제바스티안 클루스만   \n",
       "4                                         엑셀로 부자되기              김태형   \n",
       "..                                             ...              ...   \n",
       "195  풀스택 서버리스 :  리액트, AWS, 그래프QL을 이용한 최신 애플리케이션 개발           네이더 다빗   \n",
       "196                            한 권으로 배우는 작고 예쁜 꽃자수        장미나(미나랜드)   \n",
       "197                   IT CookBook, 처음 만나는 회로이론(2판)              방성완   \n",
       "198                                 안전필수 시스템 제어 설계  김국헌 , 김태효 , 이성섭   \n",
       "199                                        데이터 스토리          낸시 두아르테   \n",
       "\n",
       "            출간일     쪽수       가격             역자  \n",
       "0    2022-04-20  388 쪽  28,000원            한선용  \n",
       "1    2022-04-20  280 쪽  18,000원              -  \n",
       "2    2022-04-15  396 쪽  30,000원      맹윤호 , 임지순  \n",
       "3    2022-04-14  248 쪽  14,800원            이지윤  \n",
       "4    2022-04-12  312 쪽  18,000원              -  \n",
       "..          ...    ...      ...            ...  \n",
       "195  2021-07-05  216 쪽  21,000원            김범준  \n",
       "196  2021-07-05  240 쪽  18,000원              -  \n",
       "197  2021-07-02  400 쪽  23,000원              -  \n",
       "198  2021-07-02  488 쪽  38,000원              -  \n",
       "199  2021-07-01  240 쪽  22,000원  권혜정 , 윤영진(감수)  \n",
       "\n",
       "[200 rows x 6 columns]"
      ]
     },
     "execution_count": 65,
     "metadata": {},
     "output_type": "execute_result"
    }
   ],
   "source": [
    "df = pd.DataFrame(lines2, columns=['제목','저자','출간일','쪽수','가격','역자'])\n",
    "df"
   ]
  },
  {
   "cell_type": "markdown",
   "metadata": {},
   "source": [
    "#### 6.저장하기"
   ]
  },
  {
   "cell_type": "code",
   "execution_count": 66,
   "metadata": {},
   "outputs": [],
   "source": [
    "df.to_csv('한빛출판 새로나온 책 목록.csv',index=False)"
   ]
  }
 ],
 "metadata": {
  "interpreter": {
   "hash": "bbaff3bad43e72ef86a08724e2a04c1dc7b916dad0faa2935f126c230f07c1b0"
  },
  "kernelspec": {
   "display_name": "Python 3.9.7 ('base')",
   "language": "python",
   "name": "python3"
  },
  "language_info": {
   "codemirror_mode": {
    "name": "ipython",
    "version": 3
   },
   "file_extension": ".py",
   "mimetype": "text/x-python",
   "name": "python",
   "nbconvert_exporter": "python",
   "pygments_lexer": "ipython3",
   "version": "3.9.7"
  },
  "orig_nbformat": 4
 },
 "nbformat": 4,
 "nbformat_minor": 2
}
