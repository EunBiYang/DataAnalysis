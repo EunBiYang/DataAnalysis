{
 "cells": [
  {
   "cell_type": "markdown",
   "metadata": {},
   "source": [
    "# 인터파크 도서 베스트 셀러 크롤링"
   ]
  },
  {
   "cell_type": "markdown",
   "metadata": {},
   "source": [
    "- 8가지 정보 : 순위, 제목, 저자, 역자, 출판사, 발행일, 쪽수, 가격"
   ]
  },
  {
   "cell_type": "code",
   "execution_count": 2,
   "metadata": {},
   "outputs": [],
   "source": [
    "import requests, re\n",
    "import pandas as pd\n",
    "import numpy as np\n",
    "from bs4 import BeautifulSoup"
   ]
  },
  {
   "cell_type": "markdown",
   "metadata": {},
   "source": [
    "#### 1.데이터 가져오기"
   ]
  },
  {
   "cell_type": "code",
   "execution_count": 3,
   "metadata": {},
   "outputs": [],
   "source": [
    "site = 'http://book.interpark.com'\n",
    "url = site + '/display/collectlist.do?_method=BestsellerHourNew201605&bestTp=1&dispNo=028&smid1=s_menu&smid2=bestseller'\n",
    "res = requests.get(url)\n",
    "soup = BeautifulSoup(res.text,'html.parser')"
   ]
  },
  {
   "cell_type": "markdown",
   "metadata": {},
   "source": [
    "#### 2.원하는 데이터 찾기"
   ]
  },
  {
   "cell_type": "code",
   "execution_count": 4,
   "metadata": {},
   "outputs": [
    {
     "data": {
      "text/plain": [
       "15"
      ]
     },
     "execution_count": 4,
     "metadata": {},
     "output_type": "execute_result"
    }
   ],
   "source": [
    "lis = soup.select('.rankBestContentList >ol > li')\n",
    "len(lis)"
   ]
  },
  {
   "cell_type": "markdown",
   "metadata": {},
   "source": [
    "#### 3.하나의 데이터로 원하는 정보 찾기"
   ]
  },
  {
   "cell_type": "code",
   "execution_count": 5,
   "metadata": {},
   "outputs": [
    {
     "data": {
      "text/plain": [
       "'/product/BookDisplay.do?_method=detail&sc.shopNo=0000400000&sc.prdNo=353720332&sc.saNo=003003001&bid1=Best_zone&bid2=LiveRanking&bid3=PRD&bid4=001'"
      ]
     },
     "execution_count": 5,
     "metadata": {},
     "output_type": "execute_result"
    }
   ],
   "source": [
    "li = lis[9]\n",
    "href = li.select_one('.coverImage').find('a')['href']\n",
    "href"
   ]
  },
  {
   "cell_type": "markdown",
   "metadata": {},
   "source": [
    "- 사이트로 타고들어갈 것부터 찾기"
   ]
  },
  {
   "cell_type": "code",
   "execution_count": 6,
   "metadata": {},
   "outputs": [
    {
     "data": {
      "text/plain": [
       "'파이어족 강환국의 하면 된다! 퀀트 투자'"
      ]
     },
     "execution_count": 6,
     "metadata": {},
     "output_type": "execute_result"
    }
   ],
   "source": [
    "# 책 제목\n",
    "title = li.select_one('.itemName').get_text().strip()\n",
    "title"
   ]
  },
  {
   "cell_type": "code",
   "execution_count": 7,
   "metadata": {},
   "outputs": [
    {
     "data": {
      "text/plain": [
       "'강환국'"
      ]
     },
     "execution_count": 7,
     "metadata": {},
     "output_type": "execute_result"
    }
   ],
   "source": [
    "#저자\n",
    "author = li.select_one('.author').get_text().strip()\n",
    "author"
   ]
  },
  {
   "cell_type": "code",
   "execution_count": 8,
   "metadata": {},
   "outputs": [
    {
     "data": {
      "text/plain": [
       "'에프엔미디어'"
      ]
     },
     "execution_count": 8,
     "metadata": {},
     "output_type": "execute_result"
    }
   ],
   "source": [
    "#출판사\n",
    "company = li.select_one('.company').get_text().strip()\n",
    "company"
   ]
  },
  {
   "cell_type": "code",
   "execution_count": 9,
   "metadata": {},
   "outputs": [
    {
     "data": {
      "text/plain": [
       "16830"
      ]
     },
     "execution_count": 9,
     "metadata": {},
     "output_type": "execute_result"
    }
   ],
   "source": [
    "# 가격\n",
    "price = li.select_one('.price>em').get_text()\n",
    "price = int(price.replace(',',''))  #숫자만 가져오기\n",
    "price"
   ]
  },
  {
   "cell_type": "markdown",
   "metadata": {},
   "source": [
    "- 순위 1~9위"
   ]
  },
  {
   "cell_type": "code",
   "execution_count": 10,
   "metadata": {},
   "outputs": [
    {
     "data": {
      "text/plain": [
       "<span class=\"rankBtn_ctrl rkNum_M01\"></span>"
      ]
     },
     "execution_count": 10,
     "metadata": {},
     "output_type": "execute_result"
    }
   ],
   "source": [
    "#순위\n",
    "li.select_one('.rankBtn_ctrl')"
   ]
  },
  {
   "cell_type": "code",
   "execution_count": 11,
   "metadata": {},
   "outputs": [
    {
     "data": {
      "text/plain": [
       "['rankBtn_ctrl', 'rkNum_M01']"
      ]
     },
     "execution_count": 11,
     "metadata": {},
     "output_type": "execute_result"
    }
   ],
   "source": [
    "li.select_one('.rankBtn_ctrl')['class']"
   ]
  },
  {
   "cell_type": "code",
   "execution_count": 12,
   "metadata": {},
   "outputs": [
    {
     "data": {
      "text/plain": [
       "'rkNum_M01'"
      ]
     },
     "execution_count": 12,
     "metadata": {},
     "output_type": "execute_result"
    }
   ],
   "source": [
    "li.select_one('.rankBtn_ctrl')['class'][1]"
   ]
  },
  {
   "cell_type": "code",
   "execution_count": 13,
   "metadata": {},
   "outputs": [
    {
     "data": {
      "text/plain": [
       "'1'"
      ]
     },
     "execution_count": 13,
     "metadata": {},
     "output_type": "execute_result"
    }
   ],
   "source": [
    "li.select_one('.rankBtn_ctrl')['class'][1][-1]\n"
   ]
  },
  {
   "cell_type": "code",
   "execution_count": 14,
   "metadata": {},
   "outputs": [
    {
     "data": {
      "text/plain": [
       "1"
      ]
     },
     "execution_count": 14,
     "metadata": {},
     "output_type": "execute_result"
    }
   ],
   "source": [
    "rank = int(li.select_one('.rankBtn_ctrl')['class'][1][-1])\n",
    "rank"
   ]
  },
  {
   "cell_type": "markdown",
   "metadata": {},
   "source": [
    "- 10위~15위 "
   ]
  },
  {
   "cell_type": "code",
   "execution_count": 15,
   "metadata": {},
   "outputs": [],
   "source": [
    "element = '<div class=\"rankNumber digit2\"><span class=\"rankBtn_ctrl rkNum_M01 \"></span><span class=\"rankBtn_ctrl rkNum_M00 \"></span>           </div>'\n",
    "mini_soup = BeautifulSoup(element,'html.parser')"
   ]
  },
  {
   "cell_type": "code",
   "execution_count": 16,
   "metadata": {},
   "outputs": [
    {
     "data": {
      "text/plain": [
       "[<span class=\"rankBtn_ctrl rkNum_M01\"></span>,\n",
       " <span class=\"rankBtn_ctrl rkNum_M00\"></span>]"
      ]
     },
     "execution_count": 16,
     "metadata": {},
     "output_type": "execute_result"
    }
   ],
   "source": [
    "mini_soup.select('.rankBtn_ctrl')"
   ]
  },
  {
   "cell_type": "markdown",
   "metadata": {},
   "source": [
    "- 순위 모든 경우 대처"
   ]
  },
  {
   "cell_type": "code",
   "execution_count": 17,
   "metadata": {},
   "outputs": [
    {
     "data": {
      "text/plain": [
       "10"
      ]
     },
     "execution_count": 17,
     "metadata": {},
     "output_type": "execute_result"
    }
   ],
   "source": [
    "#두자리 순위 뽑는 반복문\n",
    "rank_data = li.select('.rankBtn_ctrl')\n",
    "if len(li.select('.rankBtn_ctrl')) == 1:\n",
    "    rank = int(rank_data[0]['class'][1][-1])\n",
    "else:\n",
    "    rank = rank_data[0]['class'][1][-1] + rank_data[1]['class'][1][-1]\n",
    "    rank = int(rank)\n",
    "rank"
   ]
  },
  {
   "cell_type": "markdown",
   "metadata": {},
   "source": [
    "- 서브페이지 처리 (sub page)"
   ]
  },
  {
   "cell_type": "code",
   "execution_count": 18,
   "metadata": {},
   "outputs": [],
   "source": [
    "url = site + href\n",
    "res = requests.get(url)\n",
    "sub_soup = BeautifulSoup(res.text, 'html.parser')"
   ]
  },
  {
   "cell_type": "code",
   "execution_count": 26,
   "metadata": {},
   "outputs": [
    {
     "data": {
      "text/plain": [
       "6"
      ]
     },
     "execution_count": 26,
     "metadata": {},
     "output_type": "execute_result"
    }
   ],
   "source": [
    "sub_lis = sub_soup.select('.bInfo_txt >li')\n",
    "len(sub_lis)"
   ]
  },
  {
   "cell_type": "code",
   "execution_count": 20,
   "metadata": {},
   "outputs": [
    {
     "name": "stdout",
     "output_type": "stream",
     "text": [
      "저 : 강환국\n",
      "출판사 : 에프엔미디어\n",
      "발행 : 2021년 09월 15일\n",
      "쪽수 : 392\n",
      "ISBN : 9791188754489\n"
     ]
    }
   ],
   "source": [
    "for li in sub_lis:\n",
    "    print(li.get_text())"
   ]
  },
  {
   "cell_type": "markdown",
   "metadata": {},
   "source": [
    "- 처리코드"
   ]
  },
  {
   "cell_type": "code",
   "execution_count": 21,
   "metadata": {},
   "outputs": [
    {
     "name": "stdout",
     "output_type": "stream",
     "text": [
      "20210915 392 - 강환국\n"
     ]
    }
   ],
   "source": [
    "trans = '-'\n",
    "for li in sub_lis:\n",
    "    text = li.get_text().strip()\n",
    "    if '발행 :' in text:\n",
    "        date = text.split(':')[1].strip()\n",
    "        date = re.sub('[^0-9]','',date)\n",
    "    elif '쪽수 :' in text:\n",
    "        page = int(text.split(':')[1].strip())\n",
    "    elif '역 :' in text:\n",
    "        trans = text.split(':')[1].strip()\n",
    "    elif '저 :' in text:\n",
    "        author = text.split(':')[1].strip()\n",
    "print(date, page, trans, author)"
   ]
  },
  {
   "cell_type": "markdown",
   "metadata": {},
   "source": [
    "#### 4.페이지에 있는 모든 데이터 추출"
   ]
  },
  {
   "cell_type": "code",
   "execution_count": 22,
   "metadata": {},
   "outputs": [],
   "source": [
    "#진척률 표시 (그래프같이)\n",
    "from tqdm.notebook import tqdm"
   ]
  },
  {
   "cell_type": "code",
   "execution_count": 23,
   "metadata": {},
   "outputs": [
    {
     "data": {
      "application/vnd.jupyter.widget-view+json": {
       "model_id": "0ab1cf7f209945d2866d2490a56e36ba",
       "version_major": 2,
       "version_minor": 0
      },
      "text/plain": [
       "  0%|          | 0/15 [00:00<?, ?it/s]"
      ]
     },
     "metadata": {},
     "output_type": "display_data"
    }
   ],
   "source": [
    "lines = []\n",
    "for li in tqdm(lis):\n",
    "    href = li.select_one('.coverImage').find('a')['href']\n",
    "    title = li.select_one('.itemName').get_text().strip()\n",
    "    company = li.select_one('.company').get_text().strip()\n",
    "    price = li.select_one('.price > em').get_text()\n",
    "    price = int(price.replace(',',''))\n",
    "    rank_data = li.select('.rankBtn_ctrl')\n",
    "    if len(li.select('.rankBtn_ctrl')) == 1:\n",
    "        rank = int(rank_data[0]['class'][1][-1])\n",
    "    else:\n",
    "        rank = rank_data[0]['class'][1][-1] + rank_data[1]['class'][1][-1]\n",
    "        rank = int(rank)\n",
    "\n",
    "    url = site + href\n",
    "    res = requests.get(url)\n",
    "    sub_soup = BeautifulSoup(res.text, 'html.parser')\n",
    "    sub_lis = sub_soup.select('.bInfo_txt > li')\n",
    "    trans = '-'\n",
    "    for li in sub_lis:\n",
    "        text = li.get_text().strip()\n",
    "        if '발행 :' in text:\n",
    "            date = text.split(':')[1].strip()\n",
    "            date = re.sub('[^0-9]','',date)\n",
    "        elif '쪽수 :' in text:\n",
    "            page = int(text.split(':')[1].strip())\n",
    "        elif '역 :' in text:\n",
    "            trans = text.split(':')[1].strip()\n",
    "        elif '저 :' in text:\n",
    "            author = text.split(':')[1].strip()\n",
    "\n",
    "    lines.append([rank, title, author, trans, company, page, date, price])\n"
   ]
  },
  {
   "cell_type": "markdown",
   "metadata": {},
   "source": [
    "#### 5.데이터프레임 만들고 종료"
   ]
  },
  {
   "cell_type": "code",
   "execution_count": 24,
   "metadata": {},
   "outputs": [
    {
     "data": {
      "text/html": [
       "<div>\n",
       "<style scoped>\n",
       "    .dataframe tbody tr th:only-of-type {\n",
       "        vertical-align: middle;\n",
       "    }\n",
       "\n",
       "    .dataframe tbody tr th {\n",
       "        vertical-align: top;\n",
       "    }\n",
       "\n",
       "    .dataframe thead th {\n",
       "        text-align: right;\n",
       "    }\n",
       "</style>\n",
       "<table border=\"1\" class=\"dataframe\">\n",
       "  <thead>\n",
       "    <tr style=\"text-align: right;\">\n",
       "      <th></th>\n",
       "      <th>순위</th>\n",
       "      <th>제목</th>\n",
       "      <th>저자</th>\n",
       "      <th>역자</th>\n",
       "      <th>출판사</th>\n",
       "      <th>쪽수</th>\n",
       "      <th>발행일</th>\n",
       "      <th>가격</th>\n",
       "    </tr>\n",
       "  </thead>\n",
       "  <tbody>\n",
       "    <tr>\n",
       "      <th>0</th>\n",
       "      <td>1</td>\n",
       "      <td>저주토끼</td>\n",
       "      <td>정보라</td>\n",
       "      <td>-</td>\n",
       "      <td>아작</td>\n",
       "      <td>328</td>\n",
       "      <td>20220401</td>\n",
       "      <td>13320</td>\n",
       "    </tr>\n",
       "    <tr>\n",
       "      <th>1</th>\n",
       "      <td>2</td>\n",
       "      <td>불편한 편의점(40만부 기념 벚꽃 에디션)</td>\n",
       "      <td>김호연</td>\n",
       "      <td>-</td>\n",
       "      <td>나무옆의자</td>\n",
       "      <td>268</td>\n",
       "      <td>20210420</td>\n",
       "      <td>12600</td>\n",
       "    </tr>\n",
       "    <tr>\n",
       "      <th>2</th>\n",
       "      <td>3</td>\n",
       "      <td>긴긴밤</td>\n",
       "      <td>루리</td>\n",
       "      <td>-</td>\n",
       "      <td>문학동네</td>\n",
       "      <td>144</td>\n",
       "      <td>20210203</td>\n",
       "      <td>10350</td>\n",
       "    </tr>\n",
       "    <tr>\n",
       "      <th>3</th>\n",
       "      <td>4</td>\n",
       "      <td>럭키(10만부 기념 황금열쇠 양장 특별판)</td>\n",
       "      <td>김도윤</td>\n",
       "      <td>-</td>\n",
       "      <td>북로망스</td>\n",
       "      <td>280</td>\n",
       "      <td>20210825</td>\n",
       "      <td>14400</td>\n",
       "    </tr>\n",
       "    <tr>\n",
       "      <th>4</th>\n",
       "      <td>5</td>\n",
       "      <td>가불 선진국</td>\n",
       "      <td>조국</td>\n",
       "      <td>-</td>\n",
       "      <td>메디치미디어</td>\n",
       "      <td>232</td>\n",
       "      <td>20220325</td>\n",
       "      <td>14400</td>\n",
       "    </tr>\n",
       "    <tr>\n",
       "      <th>5</th>\n",
       "      <td>6</td>\n",
       "      <td>김학렬의 부동산 투자 절대 원칙</td>\n",
       "      <td>김학렬(빠숑)</td>\n",
       "      <td>-</td>\n",
       "      <td>에프엔미디어</td>\n",
       "      <td>540</td>\n",
       "      <td>20220412</td>\n",
       "      <td>22500</td>\n",
       "    </tr>\n",
       "    <tr>\n",
       "      <th>6</th>\n",
       "      <td>6</td>\n",
       "      <td>꽃샘바람에 흔들린다면 너는 꽃</td>\n",
       "      <td>류시화</td>\n",
       "      <td>-</td>\n",
       "      <td>수오서재</td>\n",
       "      <td>160</td>\n",
       "      <td>20220411</td>\n",
       "      <td>12150</td>\n",
       "    </tr>\n",
       "    <tr>\n",
       "      <th>7</th>\n",
       "      <td>6</td>\n",
       "      <td>웰씽킹(10만 부 기념 한정판 골드 에디션)</td>\n",
       "      <td>켈리 최</td>\n",
       "      <td>-</td>\n",
       "      <td>다산북스</td>\n",
       "      <td>316</td>\n",
       "      <td>20211110</td>\n",
       "      <td>14400</td>\n",
       "    </tr>\n",
       "    <tr>\n",
       "      <th>8</th>\n",
       "      <td>9</td>\n",
       "      <td>파이어 FIRE</td>\n",
       "      <td>강환국</td>\n",
       "      <td>-</td>\n",
       "      <td>페이지2북스</td>\n",
       "      <td>428</td>\n",
       "      <td>20220408</td>\n",
       "      <td>16200</td>\n",
       "    </tr>\n",
       "    <tr>\n",
       "      <th>9</th>\n",
       "      <td>10</td>\n",
       "      <td>파이어족 강환국의 하면 된다! 퀀트 투자</td>\n",
       "      <td>강환국</td>\n",
       "      <td>-</td>\n",
       "      <td>에프엔미디어</td>\n",
       "      <td>392</td>\n",
       "      <td>20210915</td>\n",
       "      <td>16830</td>\n",
       "    </tr>\n",
       "    <tr>\n",
       "      <th>10</th>\n",
       "      <td>11</td>\n",
       "      <td>나는 3학년 2반 7번 애벌레</td>\n",
       "      <td>김원아</td>\n",
       "      <td>-</td>\n",
       "      <td>창비</td>\n",
       "      <td>104</td>\n",
       "      <td>20160411</td>\n",
       "      <td>8100</td>\n",
       "    </tr>\n",
       "    <tr>\n",
       "      <th>11</th>\n",
       "      <td>12</td>\n",
       "      <td>ETS 토익 정기시험 기출문제집 1000 Vol 3 READING(리딩)</td>\n",
       "      <td>ETS</td>\n",
       "      <td>-</td>\n",
       "      <td>YBM</td>\n",
       "      <td>216</td>\n",
       "      <td>20211213</td>\n",
       "      <td>16020</td>\n",
       "    </tr>\n",
       "    <tr>\n",
       "      <th>12</th>\n",
       "      <td>13</td>\n",
       "      <td>어서 오세요, 휴남동 서점입니다</td>\n",
       "      <td>황보름</td>\n",
       "      <td>-</td>\n",
       "      <td>클레이하우스</td>\n",
       "      <td>364</td>\n",
       "      <td>20220117</td>\n",
       "      <td>13500</td>\n",
       "    </tr>\n",
       "    <tr>\n",
       "      <th>13</th>\n",
       "      <td>13</td>\n",
       "      <td>물고기는 존재하지 않는다</td>\n",
       "      <td>룰루 밀러</td>\n",
       "      <td>정지인</td>\n",
       "      <td>곰출판</td>\n",
       "      <td>300</td>\n",
       "      <td>20211217</td>\n",
       "      <td>15300</td>\n",
       "    </tr>\n",
       "    <tr>\n",
       "      <th>14</th>\n",
       "      <td>13</td>\n",
       "      <td>긴긴밤(큰 판형)</td>\n",
       "      <td>루리</td>\n",
       "      <td>-</td>\n",
       "      <td>문학동네</td>\n",
       "      <td>152</td>\n",
       "      <td>20211215</td>\n",
       "      <td>16200</td>\n",
       "    </tr>\n",
       "  </tbody>\n",
       "</table>\n",
       "</div>"
      ],
      "text/plain": [
       "    순위                                        제목       저자   역자     출판사   쪽수  \\\n",
       "0    1                                      저주토끼      정보라    -      아작  328   \n",
       "1    2                   불편한 편의점(40만부 기념 벚꽃 에디션)      김호연    -   나무옆의자  268   \n",
       "2    3                                       긴긴밤       루리    -    문학동네  144   \n",
       "3    4                   럭키(10만부 기념 황금열쇠 양장 특별판)      김도윤    -    북로망스  280   \n",
       "4    5                                    가불 선진국       조국    -  메디치미디어  232   \n",
       "5    6                         김학렬의 부동산 투자 절대 원칙  김학렬(빠숑)    -  에프엔미디어  540   \n",
       "6    6                          꽃샘바람에 흔들린다면 너는 꽃      류시화    -    수오서재  160   \n",
       "7    6                  웰씽킹(10만 부 기념 한정판 골드 에디션)     켈리 최    -    다산북스  316   \n",
       "8    9                                  파이어 FIRE      강환국    -  페이지2북스  428   \n",
       "9   10                    파이어족 강환국의 하면 된다! 퀀트 투자      강환국    -  에프엔미디어  392   \n",
       "10  11                          나는 3학년 2반 7번 애벌레      김원아    -      창비  104   \n",
       "11  12  ETS 토익 정기시험 기출문제집 1000 Vol 3 READING(리딩)      ETS    -     YBM  216   \n",
       "12  13                         어서 오세요, 휴남동 서점입니다      황보름    -  클레이하우스  364   \n",
       "13  13                             물고기는 존재하지 않는다    룰루 밀러  정지인     곰출판  300   \n",
       "14  13                                 긴긴밤(큰 판형)       루리    -    문학동네  152   \n",
       "\n",
       "         발행일     가격  \n",
       "0   20220401  13320  \n",
       "1   20210420  12600  \n",
       "2   20210203  10350  \n",
       "3   20210825  14400  \n",
       "4   20220325  14400  \n",
       "5   20220412  22500  \n",
       "6   20220411  12150  \n",
       "7   20211110  14400  \n",
       "8   20220408  16200  \n",
       "9   20210915  16830  \n",
       "10  20160411   8100  \n",
       "11  20211213  16020  \n",
       "12  20220117  13500  \n",
       "13  20211217  15300  \n",
       "14  20211215  16200  "
      ]
     },
     "execution_count": 24,
     "metadata": {},
     "output_type": "execute_result"
    }
   ],
   "source": [
    "df = pd.DataFrame(lines, columns=['순위','제목','저자','역자','출판사','쪽수','발행일','가격'])\n",
    "df"
   ]
  },
  {
   "cell_type": "code",
   "execution_count": 25,
   "metadata": {},
   "outputs": [],
   "source": [
    "df.to_csv('인터파크 도서 순위.csv', index=False)"
   ]
  },
  {
   "cell_type": "code",
   "execution_count": null,
   "metadata": {},
   "outputs": [],
   "source": []
  }
 ],
 "metadata": {
  "interpreter": {
   "hash": "bbaff3bad43e72ef86a08724e2a04c1dc7b916dad0faa2935f126c230f07c1b0"
  },
  "kernelspec": {
   "display_name": "Python 3.9.7 ('base')",
   "language": "python",
   "name": "python3"
  },
  "language_info": {
   "codemirror_mode": {
    "name": "ipython",
    "version": 3
   },
   "file_extension": ".py",
   "mimetype": "text/x-python",
   "name": "python",
   "nbconvert_exporter": "python",
   "pygments_lexer": "ipython3",
   "version": "3.9.7"
  },
  "orig_nbformat": 4
 },
 "nbformat": 4,
 "nbformat_minor": 2
}
