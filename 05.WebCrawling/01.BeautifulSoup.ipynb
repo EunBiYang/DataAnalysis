{
 "cells": [
  {
   "cell_type": "markdown",
   "metadata": {},
   "source": [
    "# Crawling -BeautifulSoup"
   ]
  },
  {
   "cell_type": "code",
   "execution_count": 1,
   "metadata": {},
   "outputs": [],
   "source": [
    "from bs4 import BeautifulSoup"
   ]
  },
  {
   "cell_type": "markdown",
   "metadata": {},
   "source": [
    "- 로컬 파일 사례"
   ]
  },
  {
   "cell_type": "code",
   "execution_count": 3,
   "metadata": {},
   "outputs": [
    {
     "data": {
      "text/plain": [
       "<!DOCTYPE html>\n",
       "\n",
       "<html lang=\"en\">\n",
       "<head>\n",
       "<meta charset=\"utf-8\"/>\n",
       "<meta content=\"IE=edge\" http-equiv=\"X-UA-Compatible\"/>\n",
       "<meta content=\"width=device-width, initial-scale=1.0\" name=\"viewport\"/>\n",
       "<title>Web Crawming Example</title>\n",
       "</head>\n",
       "<body>\n",
       "<div>\n",
       "<p>a</p><p>b</p><p>c</p>\n",
       "</div>\n",
       "<div class=\"ex_class sample\">\n",
       "<p>X</p><p>Y</p><p>Z</p>\n",
       "</div>\n",
       "<div id=\"ex_id\">\n",
       "<p>1</p><p>2</p><p>3</p>\n",
       "</div>\n",
       "<h1>This is a heading.</h1>\n",
       "<p>This is a paragraph</p>\n",
       "<a class=\"a sample\" href=\"www.naver.com\">네이버</a>\n",
       "<table border=\"1\">\n",
       "<tr>\n",
       "<td>A</td>\n",
       "<td>B</td>\n",
       "<td>C</td>\n",
       "</tr>\n",
       "<tr>\n",
       "<td>x</td>\n",
       "<td>y</td>\n",
       "<td>z</td>\n",
       "</tr>\n",
       "</table>\n",
       "<ul>\n",
       "<li>삼겹살</li>\n",
       "<li>치킨</li>\n",
       "<li>비빔밥</li>\n",
       "</ul>\n",
       "</body>\n",
       "</html>"
      ]
     },
     "execution_count": 3,
     "metadata": {},
     "output_type": "execute_result"
    }
   ],
   "source": [
    "with open('00.Example.html') as fp:\n",
    "    soup = BeautifulSoup(fp, 'html.parser')\n",
    "soup"
   ]
  },
  {
   "cell_type": "markdown",
   "metadata": {},
   "source": [
    "- find(): 해당 조건에 맞는 한개의 태그만 가져오고, 중복이며 가장 첫번째 테그만"
   ]
  },
  {
   "cell_type": "code",
   "execution_count": 4,
   "metadata": {},
   "outputs": [
    {
     "data": {
      "text/plain": [
       "<p>a</p>"
      ]
     },
     "execution_count": 4,
     "metadata": {},
     "output_type": "execute_result"
    }
   ],
   "source": [
    "soup.find('p')"
   ]
  },
  {
   "cell_type": "code",
   "execution_count": 5,
   "metadata": {},
   "outputs": [
    {
     "data": {
      "text/plain": [
       "<div>\n",
       "<p>a</p><p>b</p><p>c</p>\n",
       "</div>"
      ]
     },
     "execution_count": 5,
     "metadata": {},
     "output_type": "execute_result"
    }
   ],
   "source": [
    "soup.find('div')"
   ]
  },
  {
   "cell_type": "code",
   "execution_count": 7,
   "metadata": {},
   "outputs": [
    {
     "data": {
      "text/plain": [
       "<ul>\n",
       "<li>삼겹살</li>\n",
       "<li>치킨</li>\n",
       "<li>비빔밥</li>\n",
       "</ul>"
      ]
     },
     "execution_count": 7,
     "metadata": {},
     "output_type": "execute_result"
    }
   ],
   "source": [
    "soup.find('ul')"
   ]
  },
  {
   "cell_type": "markdown",
   "metadata": {},
   "source": [
    "- find_all() : 조건에 맞는 모든 테그, 리스트 형태로 온다."
   ]
  },
  {
   "cell_type": "code",
   "execution_count": 9,
   "metadata": {},
   "outputs": [
    {
     "data": {
      "text/plain": [
       "[<li>삼겹살</li>, <li>치킨</li>, <li>비빔밥</li>]"
      ]
     },
     "execution_count": 9,
     "metadata": {},
     "output_type": "execute_result"
    }
   ],
   "source": [
    "lis = soup.find_all('li')\n",
    "lis"
   ]
  },
  {
   "cell_type": "code",
   "execution_count": 11,
   "metadata": {},
   "outputs": [
    {
     "data": {
      "text/plain": [
       "10"
      ]
     },
     "execution_count": 11,
     "metadata": {},
     "output_type": "execute_result"
    }
   ],
   "source": [
    "all_ps = soup.find_all('p')\n",
    "len(all_ps)"
   ]
  },
  {
   "cell_type": "markdown",
   "metadata": {},
   "source": [
    "- 매소드 체이닝이 가능하다"
   ]
  },
  {
   "cell_type": "code",
   "execution_count": 13,
   "metadata": {},
   "outputs": [
    {
     "data": {
      "text/plain": [
       "[<p>X</p>, <p>Y</p>, <p>Z</p>]"
      ]
     },
     "execution_count": 13,
     "metadata": {},
     "output_type": "execute_result"
    }
   ],
   "source": [
    "divs = soup.find_all('div')\n",
    "divs[1].find_all('p')  #리스트형태로 오니까 인덱스값을 줘야한다."
   ]
  },
  {
   "cell_type": "markdown",
   "metadata": {},
   "source": [
    "- select_one(): CSS Selector로 하나의 노드만 찾는 메소드"
   ]
  },
  {
   "cell_type": "code",
   "execution_count": 14,
   "metadata": {},
   "outputs": [
    {
     "data": {
      "text/plain": [
       "<div>\n",
       "<p>a</p><p>b</p><p>c</p>\n",
       "</div>"
      ]
     },
     "execution_count": 14,
     "metadata": {},
     "output_type": "execute_result"
    }
   ],
   "source": [
    "#tag 이름\n",
    "soup.select_one('div')"
   ]
  },
  {
   "cell_type": "code",
   "execution_count": 17,
   "metadata": {},
   "outputs": [
    {
     "data": {
      "text/plain": [
       "<a class=\"a sample\" href=\"www.naver.com\">네이버</a>"
      ]
     },
     "execution_count": 17,
     "metadata": {},
     "output_type": "execute_result"
    }
   ],
   "source": [
    "#class 이름 : 클래스 이름 앞에 .을 붙힘\n",
    "# soup.select_one('a.a')  #tag이름.class이름\n",
    "soup.select_one('.a')"
   ]
  },
  {
   "cell_type": "code",
   "execution_count": 16,
   "metadata": {},
   "outputs": [
    {
     "data": {
      "text/plain": [
       "<div id=\"ex_id\">\n",
       "<p>1</p><p>2</p><p>3</p>\n",
       "</div>"
      ]
     },
     "execution_count": 16,
     "metadata": {},
     "output_type": "execute_result"
    }
   ],
   "source": [
    "#id 이름 : id 이름 앞에 #을 붙힌다.\n",
    "# soup.select_one('div#ex_id')  #tag이름#class이름\n",
    "soup.select_one('#ex_id')"
   ]
  },
  {
   "cell_type": "code",
   "execution_count": 20,
   "metadata": {},
   "outputs": [
    {
     "data": {
      "text/plain": [
       "<div class=\"ex_class sample\">\n",
       "<p>X</p><p>Y</p><p>Z</p>\n",
       "</div>"
      ]
     },
     "execution_count": 20,
     "metadata": {},
     "output_type": "execute_result"
    }
   ],
   "source": [
    "#여러개의 클래스 이름\n",
    "soup.select_one('.ex_class.sample') #왜 굳이 붙히는지? 값은 같은대"
   ]
  },
  {
   "cell_type": "markdown",
   "metadata": {},
   "source": [
    "- select() : CSS Selector로 모든 노드를 찾아 리스트로 반환"
   ]
  },
  {
   "cell_type": "code",
   "execution_count": 21,
   "metadata": {},
   "outputs": [
    {
     "data": {
      "text/plain": [
       "[<div class=\"ex_class sample\">\n",
       " <p>X</p><p>Y</p><p>Z</p>\n",
       " </div>,\n",
       " <a class=\"a sample\" href=\"www.naver.com\">네이버</a>]"
      ]
     },
     "execution_count": 21,
     "metadata": {},
     "output_type": "execute_result"
    }
   ],
   "source": [
    "soup.select('.sample')"
   ]
  },
  {
   "cell_type": "code",
   "execution_count": 23,
   "metadata": {},
   "outputs": [
    {
     "data": {
      "text/plain": [
       "[<div id=\"ex_id\">\n",
       " <p>1</p><p>2</p><p>3</p>\n",
       " </div>]"
      ]
     },
     "execution_count": 23,
     "metadata": {},
     "output_type": "execute_result"
    }
   ],
   "source": [
    "#하나밖에 없는 걸 찾아도 동일하게 출력, 리스트형태\n",
    "soup.select('#ex_id')"
   ]
  },
  {
   "cell_type": "markdown",
   "metadata": {},
   "source": [
    "- 결과값 가져오기"
   ]
  },
  {
   "cell_type": "code",
   "execution_count": 24,
   "metadata": {},
   "outputs": [
    {
     "data": {
      "text/plain": [
       "<a class=\"a sample\" href=\"www.naver.com\">네이버</a>"
      ]
     },
     "execution_count": 24,
     "metadata": {},
     "output_type": "execute_result"
    }
   ],
   "source": [
    "atag = soup.find('a')\n",
    "atag"
   ]
  },
  {
   "cell_type": "code",
   "execution_count": 26,
   "metadata": {},
   "outputs": [
    {
     "data": {
      "text/plain": [
       "('네이버', '네이버')"
      ]
     },
     "execution_count": 26,
     "metadata": {},
     "output_type": "execute_result"
    }
   ],
   "source": [
    "atag.get_text(), atag.string"
   ]
  },
  {
   "cell_type": "code",
   "execution_count": 27,
   "metadata": {},
   "outputs": [
    {
     "data": {
      "text/plain": [
       "'네이버'"
      ]
     },
     "execution_count": 27,
     "metadata": {},
     "output_type": "execute_result"
    }
   ],
   "source": [
    "soup.find('a').string"
   ]
  },
  {
   "cell_type": "code",
   "execution_count": 28,
   "metadata": {},
   "outputs": [
    {
     "data": {
      "text/plain": [
       "'www.naver.com'"
      ]
     },
     "execution_count": 28,
     "metadata": {},
     "output_type": "execute_result"
    }
   ],
   "source": [
    "#속성값 가져오기\n",
    "atag['href']"
   ]
  },
  {
   "cell_type": "code",
   "execution_count": 36,
   "metadata": {},
   "outputs": [],
   "source": [
    "#찾아갈때는 하나 위에 것을 찾아서 가야 정확하다.\n",
    "#li를 불러오는 예제\n",
    "lis= soup.find('ul').find_all('li')"
   ]
  },
  {
   "cell_type": "code",
   "execution_count": 32,
   "metadata": {},
   "outputs": [
    {
     "name": "stdout",
     "output_type": "stream",
     "text": [
      "삼겹살\n",
      "치킨\n",
      "비빔밥\n"
     ]
    }
   ],
   "source": [
    "for li in lis:\n",
    "    print(li.get_text())"
   ]
  },
  {
   "cell_type": "code",
   "execution_count": 33,
   "metadata": {},
   "outputs": [
    {
     "data": {
      "text/plain": [
       "['삼겹살', '치킨', '비빔밥']"
      ]
     },
     "execution_count": 33,
     "metadata": {},
     "output_type": "execute_result"
    }
   ],
   "source": [
    "menu = []\n",
    "for li in lis:\n",
    "    menu.append(li.string)\n",
    "menu"
   ]
  },
  {
   "cell_type": "code",
   "execution_count": 40,
   "metadata": {},
   "outputs": [
    {
     "name": "stdout",
     "output_type": "stream",
     "text": [
      "A B C \n",
      "x y z \n"
     ]
    }
   ],
   "source": [
    "trs = soup.find('table').find_all('tr')\n",
    "for tr in trs : \n",
    "    tds = tr.find_all('td')\n",
    "    for td in tds:\n",
    "        print(td.get_text(), end=' ')\n",
    "    print()\n"
   ]
  },
  {
   "cell_type": "code",
   "execution_count": null,
   "metadata": {},
   "outputs": [],
   "source": []
  }
 ],
 "metadata": {
  "interpreter": {
   "hash": "bbaff3bad43e72ef86a08724e2a04c1dc7b916dad0faa2935f126c230f07c1b0"
  },
  "kernelspec": {
   "display_name": "Python 3.9.7 ('base')",
   "language": "python",
   "name": "python3"
  },
  "language_info": {
   "codemirror_mode": {
    "name": "ipython",
    "version": 3
   },
   "file_extension": ".py",
   "mimetype": "text/x-python",
   "name": "python",
   "nbconvert_exporter": "python",
   "pygments_lexer": "ipython3",
   "version": "3.9.7"
  },
  "orig_nbformat": 4
 },
 "nbformat": 4,
 "nbformat_minor": 2
}
