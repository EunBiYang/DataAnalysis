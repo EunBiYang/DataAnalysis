{
 "cells": [
  {
   "cell_type": "markdown",
   "metadata": {},
   "source": [
    "# 삼성전자 주식가격 분석"
   ]
  },
  {
   "cell_type": "code",
   "execution_count": 2,
   "metadata": {},
   "outputs": [],
   "source": [
    "import requests\n",
    "import pandas as pd\n",
    "from bs4 import BeautifulSoup"
   ]
  },
  {
   "cell_type": "code",
   "execution_count": null,
   "metadata": {},
   "outputs": [],
   "source": [
    "\n",
    "# 2. 작업 순서\n",
    "#   - 이 사이트의 내용을 웹크롤링으로 읽어와서, 전체 내용을 DataFrame으로 저장한다.\n",
    "#   - 데이터 전처리를 한다.\n",
    "#   - 데이터 시각화를 한다.\n",
    "\n",
    "# 3. 웹 크롤링 수집 준비를 한다.\n",
    "#   - user agent 등을 설정한다.\n",
    "\n",
    "# 4. 데이터 전처리\n",
    "#   - 숫자 데이터의 콤마를 없앤다.\n",
    "#   - 숫자 형식의 문자열을 숫자 데이터로 변환한다.\n",
    "\n",
    "# 5. 데이터 시각화 \n",
    "#   - 그래픽 기본 설정을 한다. (한글, 폰트 크기, 그래프창 크기)\n",
    "#   - DataFrame 데이터에서 종가만 추출하여 선그래프를 그린다.\n",
    "#     => x축에는 “날짜”을 표시한다.\n",
    "#     => y축에는 “금액”을 표시한다.\n",
    "#     => 타이틀에는 “삼성전자 날짜별 주가 상황”을 표시한다.\n",
    "#     => x축 tick문자는 날짜를 표시한다."
   ]
  },
  {
   "cell_type": "markdown",
   "metadata": {},
   "source": [
    "### 1.데이터 크롤링 해오기"
   ]
  },
  {
   "cell_type": "code",
   "execution_count": 3,
   "metadata": {},
   "outputs": [],
   "source": [
    "url = 'https://finance.naver.com/item/sise_day.nhn?code=005930&page=1'\n",
    "header = {'User-Agent' : 'Mozilla/5.0 (Windows NT 10.0; Win64; x64) AppleWebKit/537.36 (KHTML, like Gecko) Chrome/100.0.4896.75 Safari/537.36'}\n",
    "req = requests.get(url, headers=header)\n",
    "html = req.text\n",
    "soup = BeautifulSoup(req.text, 'html.parser')"
   ]
  },
  {
   "cell_type": "markdown",
   "metadata": {},
   "source": [
    "### 2.원하는 부분 추출"
   ]
  },
  {
   "cell_type": "code",
   "execution_count": 4,
   "metadata": {},
   "outputs": [
    {
     "data": {
      "text/plain": [
       "16"
      ]
     },
     "execution_count": 4,
     "metadata": {},
     "output_type": "execute_result"
    }
   ],
   "source": [
    "trs = soup.select('.type2>tr')\n",
    "len(trs)"
   ]
  },
  {
   "cell_type": "code",
   "execution_count": 5,
   "metadata": {},
   "outputs": [
    {
     "data": {
      "text/plain": [
       "<tr onmouseout=\"mouseOut(this)\" onmouseover=\"mouseOver(this)\">\n",
       "<td align=\"center\"><span class=\"tah p10 gray03\">2022.05.03</span></td>\n",
       "<td class=\"num\"><span class=\"tah p11\">68,000</span></td>\n",
       "<td class=\"num\">\n",
       "<img alt=\"상승\" height=\"6\" src=\"https://ssl.pstatic.net/imgstock/images/images4/ico_up.gif\" style=\"margin-right:4px;\" width=\"7\"/><span class=\"tah p11 red02\">\n",
       "\t\t\t\t700\n",
       "\t\t\t\t</span>\n",
       "</td>\n",
       "<td class=\"num\"><span class=\"tah p11\">67,400</span></td>\n",
       "<td class=\"num\"><span class=\"tah p11\">68,400</span></td>\n",
       "<td class=\"num\"><span class=\"tah p11\">67,300</span></td>\n",
       "<td class=\"num\"><span class=\"tah p11\">11,505,729</span></td>\n",
       "</tr>"
      ]
     },
     "execution_count": 5,
     "metadata": {},
     "output_type": "execute_result"
    }
   ],
   "source": [
    "tr= trs[2]\n",
    "tr"
   ]
  },
  {
   "cell_type": "code",
   "execution_count": 151,
   "metadata": {},
   "outputs": [
    {
     "data": {
      "text/plain": [
       "'2022.05.02'"
      ]
     },
     "execution_count": 151,
     "metadata": {},
     "output_type": "execute_result"
    }
   ],
   "source": [
    "date = tr.select('td')[0].get_text()\n",
    "date"
   ]
  },
  {
   "cell_type": "code",
   "execution_count": 7,
   "metadata": {},
   "outputs": [
    {
     "data": {
      "text/plain": [
       "'68,000'"
      ]
     },
     "execution_count": 7,
     "metadata": {},
     "output_type": "execute_result"
    }
   ],
   "source": [
    "ep = tr.select('td')[1].get_text()\n",
    "ep"
   ]
  },
  {
   "cell_type": "code",
   "execution_count": 8,
   "metadata": {},
   "outputs": [
    {
     "data": {
      "text/plain": [
       "'67,400'"
      ]
     },
     "execution_count": 8,
     "metadata": {},
     "output_type": "execute_result"
    }
   ],
   "source": [
    "mp = date = tr.select('td')[3].get_text()\n",
    "mp\n"
   ]
  },
  {
   "cell_type": "code",
   "execution_count": 9,
   "metadata": {},
   "outputs": [
    {
     "data": {
      "text/plain": [
       "'68,400'"
      ]
     },
     "execution_count": 9,
     "metadata": {},
     "output_type": "execute_result"
    }
   ],
   "source": [
    "hp = date = tr.select('td')[4].get_text()\n",
    "hp"
   ]
  },
  {
   "cell_type": "code",
   "execution_count": 10,
   "metadata": {},
   "outputs": [
    {
     "data": {
      "text/plain": [
       "'67,300'"
      ]
     },
     "execution_count": 10,
     "metadata": {},
     "output_type": "execute_result"
    }
   ],
   "source": [
    "lp = date = tr.select('td')[5].get_text()\n",
    "lp"
   ]
  },
  {
   "cell_type": "code",
   "execution_count": 11,
   "metadata": {},
   "outputs": [
    {
     "data": {
      "text/plain": [
       "'11,505,729'"
      ]
     },
     "execution_count": 11,
     "metadata": {},
     "output_type": "execute_result"
    }
   ],
   "source": [
    "trad  = tr.select('td')[6].get_text()\n",
    "trad"
   ]
  },
  {
   "cell_type": "code",
   "execution_count": 18,
   "metadata": {},
   "outputs": [
    {
     "data": {
      "text/plain": [
       "[['2022.05.03', '68,000', '67,400', '68,400', '67,300', '11,505,729'],\n",
       " ['2022.05.02', '67,300', '66,600', '67,600', '66,500', '14,106,184'],\n",
       " ['2022.04.29', '67,400', '65,100', '67,600', '65,000', '26,190,390'],\n",
       " ['2022.04.28', '64,800', '65,400', '65,500', '64,500', '16,895,527'],\n",
       " ['2022.04.27', '65,000', '65,400', '65,500', '64,900', '18,122,084'],\n",
       " ['2022.04.26', '66,100', '66,400', '66,700', '66,100', '12,946,923'],\n",
       " ['2022.04.25', '66,300', '66,500', '66,700', '66,300', '11,016,474'],\n",
       " ['2022.04.22', '67,000', '67,200', '67,300', '66,700', '11,791,478'],\n",
       " ['2022.04.21', '67,700', '67,600', '68,300', '67,500', '12,847,448'],\n",
       " ['2022.04.20', '67,400', '67,000', '67,400', '66,500', '16,693,293']]"
      ]
     },
     "execution_count": 18,
     "metadata": {},
     "output_type": "execute_result"
    }
   ],
   "source": [
    "lines = []\n",
    "for tr in trs[2:7]:\n",
    "    date = tr.select('td')[0].get_text()\n",
    "    ep = tr.select('td')[1].get_text()\n",
    "    mp = tr.select('td')[3].get_text()\n",
    "    hp = tr.select('td')[4].get_text()\n",
    "    lp = tr.select('td')[5].get_text()\n",
    "    trad  = tr.select('td')[6].get_text()\n",
    "    lines.append([date,ep,mp,hp,lp,trad])\n",
    "\n",
    "for tr in trs[10:15]:\n",
    "    date = tr.select('td')[0].get_text()\n",
    "    ep = tr.select('td')[1].get_text()\n",
    "    mp = tr.select('td')[3].get_text()\n",
    "    hp = tr.select('td')[4].get_text()\n",
    "    lp = tr.select('td')[5].get_text()\n",
    "    trad  = tr.select('td')[6].get_text()\n",
    "    lines.append([date,ep,mp,hp,lp,trad])\n",
    "    \n",
    "lines"
   ]
  },
  {
   "cell_type": "markdown",
   "metadata": {},
   "source": [
    "### 3.데이터프레임 만들기"
   ]
  },
  {
   "cell_type": "code",
   "execution_count": 34,
   "metadata": {},
   "outputs": [],
   "source": [
    "df = pd.DataFrame(lines,columns=['날짜','종가','시가','고가','저가','거래량'])\n",
    "df.to_csv('삼성전자주가.csv',index=False)"
   ]
  },
  {
   "cell_type": "markdown",
   "metadata": {},
   "source": [
    "### 4.데이터 전처리"
   ]
  },
  {
   "cell_type": "code",
   "execution_count": null,
   "metadata": {},
   "outputs": [],
   "source": [
    "# 4. 데이터 전처리\n",
    "#   - 숫자 데이터의 콤마를 없앤다.\n",
    "#   - 숫자 형식의 문자열을 숫자 데이터로 변환한다."
   ]
  },
  {
   "cell_type": "code",
   "execution_count": 35,
   "metadata": {},
   "outputs": [
    {
     "data": {
      "text/html": [
       "<div>\n",
       "<style scoped>\n",
       "    .dataframe tbody tr th:only-of-type {\n",
       "        vertical-align: middle;\n",
       "    }\n",
       "\n",
       "    .dataframe tbody tr th {\n",
       "        vertical-align: top;\n",
       "    }\n",
       "\n",
       "    .dataframe thead th {\n",
       "        text-align: right;\n",
       "    }\n",
       "</style>\n",
       "<table border=\"1\" class=\"dataframe\">\n",
       "  <thead>\n",
       "    <tr style=\"text-align: right;\">\n",
       "      <th></th>\n",
       "      <th>날짜</th>\n",
       "      <th>종가</th>\n",
       "      <th>시가</th>\n",
       "      <th>고가</th>\n",
       "      <th>저가</th>\n",
       "      <th>거래량</th>\n",
       "    </tr>\n",
       "  </thead>\n",
       "  <tbody>\n",
       "    <tr>\n",
       "      <th>0</th>\n",
       "      <td>2022.05.03</td>\n",
       "      <td>68000</td>\n",
       "      <td>67400</td>\n",
       "      <td>68400</td>\n",
       "      <td>67300</td>\n",
       "      <td>11505729</td>\n",
       "    </tr>\n",
       "    <tr>\n",
       "      <th>1</th>\n",
       "      <td>2022.05.02</td>\n",
       "      <td>67300</td>\n",
       "      <td>66600</td>\n",
       "      <td>67600</td>\n",
       "      <td>66500</td>\n",
       "      <td>14106184</td>\n",
       "    </tr>\n",
       "    <tr>\n",
       "      <th>2</th>\n",
       "      <td>2022.04.29</td>\n",
       "      <td>67400</td>\n",
       "      <td>65100</td>\n",
       "      <td>67600</td>\n",
       "      <td>65000</td>\n",
       "      <td>26190390</td>\n",
       "    </tr>\n",
       "    <tr>\n",
       "      <th>3</th>\n",
       "      <td>2022.04.28</td>\n",
       "      <td>64800</td>\n",
       "      <td>65400</td>\n",
       "      <td>65500</td>\n",
       "      <td>64500</td>\n",
       "      <td>16895527</td>\n",
       "    </tr>\n",
       "    <tr>\n",
       "      <th>4</th>\n",
       "      <td>2022.04.27</td>\n",
       "      <td>65000</td>\n",
       "      <td>65400</td>\n",
       "      <td>65500</td>\n",
       "      <td>64900</td>\n",
       "      <td>18122084</td>\n",
       "    </tr>\n",
       "    <tr>\n",
       "      <th>5</th>\n",
       "      <td>2022.04.26</td>\n",
       "      <td>66100</td>\n",
       "      <td>66400</td>\n",
       "      <td>66700</td>\n",
       "      <td>66100</td>\n",
       "      <td>12946923</td>\n",
       "    </tr>\n",
       "    <tr>\n",
       "      <th>6</th>\n",
       "      <td>2022.04.25</td>\n",
       "      <td>66300</td>\n",
       "      <td>66500</td>\n",
       "      <td>66700</td>\n",
       "      <td>66300</td>\n",
       "      <td>11016474</td>\n",
       "    </tr>\n",
       "    <tr>\n",
       "      <th>7</th>\n",
       "      <td>2022.04.22</td>\n",
       "      <td>67000</td>\n",
       "      <td>67200</td>\n",
       "      <td>67300</td>\n",
       "      <td>66700</td>\n",
       "      <td>11791478</td>\n",
       "    </tr>\n",
       "    <tr>\n",
       "      <th>8</th>\n",
       "      <td>2022.04.21</td>\n",
       "      <td>67700</td>\n",
       "      <td>67600</td>\n",
       "      <td>68300</td>\n",
       "      <td>67500</td>\n",
       "      <td>12847448</td>\n",
       "    </tr>\n",
       "    <tr>\n",
       "      <th>9</th>\n",
       "      <td>2022.04.20</td>\n",
       "      <td>67400</td>\n",
       "      <td>67000</td>\n",
       "      <td>67400</td>\n",
       "      <td>66500</td>\n",
       "      <td>16693293</td>\n",
       "    </tr>\n",
       "  </tbody>\n",
       "</table>\n",
       "</div>"
      ],
      "text/plain": [
       "           날짜     종가     시가     고가     저가       거래량\n",
       "0  2022.05.03  68000  67400  68400  67300  11505729\n",
       "1  2022.05.02  67300  66600  67600  66500  14106184\n",
       "2  2022.04.29  67400  65100  67600  65000  26190390\n",
       "3  2022.04.28  64800  65400  65500  64500  16895527\n",
       "4  2022.04.27  65000  65400  65500  64900  18122084\n",
       "5  2022.04.26  66100  66400  66700  66100  12946923\n",
       "6  2022.04.25  66300  66500  66700  66300  11016474\n",
       "7  2022.04.22  67000  67200  67300  66700  11791478\n",
       "8  2022.04.21  67700  67600  68300  67500  12847448\n",
       "9  2022.04.20  67400  67000  67400  66500  16693293"
      ]
     },
     "execution_count": 35,
     "metadata": {},
     "output_type": "execute_result"
    }
   ],
   "source": [
    "samsung = pd.read_csv('삼성전자주가.csv', thousands=',')\n",
    "samsung"
   ]
  },
  {
   "cell_type": "code",
   "execution_count": 36,
   "metadata": {},
   "outputs": [
    {
     "data": {
      "text/plain": [
       "날짜     object\n",
       "종가      int64\n",
       "시가      int64\n",
       "고가      int64\n",
       "저가      int64\n",
       "거래량     int64\n",
       "dtype: object"
      ]
     },
     "execution_count": 36,
     "metadata": {},
     "output_type": "execute_result"
    }
   ],
   "source": [
    "samsung.dtypes"
   ]
  },
  {
   "cell_type": "markdown",
   "metadata": {},
   "source": [
    "### 5.데이터 시각화"
   ]
  },
  {
   "cell_type": "code",
   "execution_count": null,
   "metadata": {},
   "outputs": [],
   "source": [
    "# 5. 데이터 시각화 \n",
    "#   - 그래픽 기본 설정을 한다. (한글, 폰트 크기, 그래프창 크기)\n",
    "#   - DataFrame 데이터에서 종가만 추출하여 선그래프를 그린다.\n",
    "#     => x축에는 “날짜”을 표시한다.\n",
    "#     => y축에는 “금액”을 표시한다.\n",
    "#     => 타이틀에는 “삼성전자 날짜별 주가 상황”을 표시한다.\n",
    "#     => x축 tick문자는 날짜를 표시한다."
   ]
  },
  {
   "cell_type": "code",
   "execution_count": 37,
   "metadata": {},
   "outputs": [],
   "source": [
    "import matplotlib as mpl\n",
    "import matplotlib.pyplot as plt\n",
    "import matplotlib.font_manager as fm\n",
    "mpl.rcParams['axes.unicode_minus']=False\n",
    "mpl.rcParams['font.family'] = 'Malgun Gothic'"
   ]
  },
  {
   "cell_type": "code",
   "execution_count": 62,
   "metadata": {},
   "outputs": [
    {
     "data": {
      "image/png": "[encoded data removed]",
      "text/plain": [
       "<Figure size 1440x576 with 1 Axes>"
      ]
     },
     "metadata": {
      "needs_background": "light"
     },
     "output_type": "display_data"
    }
   ],
   "source": [
    "plt.figure(figsize=(20,8))\n",
    "plt.plot(samsung.날짜,samsung.종가)\n",
    "plt.title('삼성전자 날짜별 주가 상황',fontsize=20)\n",
    "plt.xticks(rotation=40,fontsize=20)\n",
    "plt.yticks(fontsize=25)\n",
    "plt.grid()\n"
   ]
  },
  {
   "cell_type": "code",
   "execution_count": null,
   "metadata": {},
   "outputs": [],
   "source": []
  }
 ],
 "metadata": {
  "interpreter": {
   "hash": "bbaff3bad43e72ef86a08724e2a04c1dc7b916dad0faa2935f126c230f07c1b0"
  },
  "kernelspec": {
   "display_name": "Python 3.9.7 ('base')",
   "language": "python",
   "name": "python3"
  },
  "language_info": {
   "codemirror_mode": {
    "name": "ipython",
    "version": 3
   },
   "file_extension": ".py",
   "mimetype": "text/x-python",
   "name": "python",
   "nbconvert_exporter": "python",
   "pygments_lexer": "ipython3",
   "version": "3.9.7"
  },
  "orig_nbformat": 4
 },
 "nbformat": 4,
 "nbformat_minor": 2
}
