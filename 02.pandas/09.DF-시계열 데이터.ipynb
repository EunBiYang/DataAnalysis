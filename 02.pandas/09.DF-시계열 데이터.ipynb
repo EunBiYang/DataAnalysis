{
 "cells": [
  {
   "cell_type": "markdown",
   "metadata": {},
   "source": [
    "# 데이터프래임 - 시계열 자료"
   ]
  },
  {
   "cell_type": "code",
   "execution_count": 1,
   "metadata": {},
   "outputs": [],
   "source": [
    "import numpy as np\n",
    "import pandas as pd"
   ]
  },
  {
   "cell_type": "markdown",
   "metadata": {},
   "source": [
    "- DatetimeIndex 인덱스"
   ]
  },
  {
   "cell_type": "code",
   "execution_count": 3,
   "metadata": {},
   "outputs": [
    {
     "data": {
      "text/plain": [
       "DatetimeIndex(['2022-04-01', '2022-04-02', '2022-04-03', '2022-04-04',\n",
       "               '2022-04-05', '2022-04-06'],\n",
       "              dtype='datetime64[ns]', freq=None)"
      ]
     },
     "execution_count": 3,
     "metadata": {},
     "output_type": "execute_result"
    }
   ],
   "source": [
    "date_str = ['2022, 4, 1','2022-4-2','20220403', '2022.4.4','4/5/2022','040622']\n",
    "idx = pd.to_datetime(date_str)\n",
    "idx"
   ]
  },
  {
   "cell_type": "code",
   "execution_count": 5,
   "metadata": {},
   "outputs": [
    {
     "data": {
      "text/plain": [
       "2022-04-01    68\n",
       "2022-04-02    85\n",
       "2022-04-03    88\n",
       "2022-04-04    89\n",
       "2022-04-05    89\n",
       "2022-04-06    88\n",
       "dtype: int32"
      ]
     },
     "execution_count": 5,
     "metadata": {},
     "output_type": "execute_result"
    }
   ],
   "source": [
    "np.random.seed(2022)\n",
    "s = pd.Series(np.random.randint(40,101,6), index=idx)\n",
    "s"
   ]
  },
  {
   "cell_type": "code",
   "execution_count": 6,
   "metadata": {},
   "outputs": [
    {
     "data": {
      "text/plain": [
       "DatetimeIndex(['2022-04-01', '2022-04-02', '2022-04-03', '2022-04-04',\n",
       "               '2022-04-05', '2022-04-06', '2022-04-07', '2022-04-08',\n",
       "               '2022-04-09', '2022-04-10', '2022-04-11', '2022-04-12',\n",
       "               '2022-04-13', '2022-04-14', '2022-04-15', '2022-04-16',\n",
       "               '2022-04-17', '2022-04-18', '2022-04-19', '2022-04-20',\n",
       "               '2022-04-21', '2022-04-22', '2022-04-23', '2022-04-24',\n",
       "               '2022-04-25', '2022-04-26', '2022-04-27', '2022-04-28',\n",
       "               '2022-04-29', '2022-04-30'],\n",
       "              dtype='datetime64[ns]', freq='D')"
      ]
     },
     "execution_count": 6,
     "metadata": {},
     "output_type": "execute_result"
    }
   ],
   "source": [
    "pd.date_range('20220401','2022-04-30') # 시작일자, 종료일자"
   ]
  },
  {
   "cell_type": "code",
   "execution_count": 7,
   "metadata": {},
   "outputs": [
    {
     "data": {
      "text/plain": [
       "DatetimeIndex(['2022-04-01', '2022-04-02', '2022-04-03', '2022-04-04',\n",
       "               '2022-04-05', '2022-04-06', '2022-04-07', '2022-04-08',\n",
       "               '2022-04-09', '2022-04-10', '2022-04-11', '2022-04-12',\n",
       "               '2022-04-13', '2022-04-14', '2022-04-15', '2022-04-16',\n",
       "               '2022-04-17', '2022-04-18', '2022-04-19', '2022-04-20',\n",
       "               '2022-04-21', '2022-04-22', '2022-04-23', '2022-04-24',\n",
       "               '2022-04-25', '2022-04-26', '2022-04-27', '2022-04-28',\n",
       "               '2022-04-29', '2022-04-30'],\n",
       "              dtype='datetime64[ns]', freq='D')"
      ]
     },
     "execution_count": 7,
     "metadata": {},
     "output_type": "execute_result"
    }
   ],
   "source": [
    "pd.date_range('20220401',periods=30)"
   ]
  },
  {
   "cell_type": "code",
   "execution_count": 10,
   "metadata": {},
   "outputs": [
    {
     "data": {
      "text/plain": [
       "DatetimeIndex(['2022-04-01', '2022-04-04', '2022-04-05', '2022-04-06',\n",
       "               '2022-04-07', '2022-04-08', '2022-04-11', '2022-04-12',\n",
       "               '2022-04-13', '2022-04-14', '2022-04-15', '2022-04-18',\n",
       "               '2022-04-19', '2022-04-20', '2022-04-21', '2022-04-22',\n",
       "               '2022-04-25', '2022-04-26', '2022-04-27', '2022-04-28',\n",
       "               '2022-04-29', '2022-05-02', '2022-05-03', '2022-05-04',\n",
       "               '2022-05-05', '2022-05-06', '2022-05-09', '2022-05-10',\n",
       "               '2022-05-11', '2022-05-12'],\n",
       "              dtype='datetime64[ns]', freq='B')"
      ]
     },
     "execution_count": 10,
     "metadata": {},
     "output_type": "execute_result"
    }
   ],
   "source": [
    "#주말을 제외 한 주중 일자로 30개 추출\n",
    "pd.date_range('20220401',periods=30, freq='B')"
   ]
  },
  {
   "cell_type": "code",
   "execution_count": 11,
   "metadata": {},
   "outputs": [
    {
     "data": {
      "text/plain": [
       "DatetimeIndex(['2022-04-03', '2022-04-10', '2022-04-17', '2022-04-24'], dtype='datetime64[ns]', freq='W-SUN')"
      ]
     },
     "execution_count": 11,
     "metadata": {},
     "output_type": "execute_result"
    }
   ],
   "source": [
    "#일요일\n",
    "pd.date_range('20220401','20220430', freq='W')"
   ]
  },
  {
   "cell_type": "markdown",
   "metadata": {},
   "source": [
    "- rasample 연산"
   ]
  },
  {
   "cell_type": "code",
   "execution_count": 14,
   "metadata": {},
   "outputs": [
    {
     "data": {
      "text/plain": [
       "2022-04-06    412\n",
       "2022-04-07    873\n",
       "2022-04-08    131\n",
       "2022-04-09    355\n",
       "2022-04-10    554\n",
       "Freq: D, dtype: int32"
      ]
     },
     "execution_count": 14,
     "metadata": {},
     "output_type": "execute_result"
    }
   ],
   "source": [
    "ts = pd.Series(np.random.randint(100,1000,100),\n",
    "                index=pd.date_range('20220101',periods=100))\n",
    "ts.tail()                "
   ]
  },
  {
   "cell_type": "code",
   "execution_count": 15,
   "metadata": {},
   "outputs": [
    {
     "data": {
      "text/plain": [
       "2022-01-31    338\n",
       "2022-02-28    475\n",
       "2022-03-31    696\n",
       "2022-04-30    980\n",
       "Freq: M, dtype: int32"
      ]
     },
     "execution_count": 15,
     "metadata": {},
     "output_type": "execute_result"
    }
   ],
   "source": [
    "#각 달의 마지막날\n",
    "ts.resample('M').first()"
   ]
  },
  {
   "cell_type": "code",
   "execution_count": 18,
   "metadata": {},
   "outputs": [
    {
     "data": {
      "text/plain": [
       "2022-01-01    338\n",
       "2022-01-02    844\n",
       "2022-01-03    955\n",
       "Freq: D, dtype: int32"
      ]
     },
     "execution_count": 18,
     "metadata": {},
     "output_type": "execute_result"
    }
   ],
   "source": [
    "ts.head(3)"
   ]
  },
  {
   "cell_type": "code",
   "execution_count": 16,
   "metadata": {},
   "outputs": [
    {
     "data": {
      "text/plain": [
       "2022-01-02    591.000000\n",
       "2022-01-09    538.571429\n",
       "2022-01-16    699.571429\n",
       "2022-01-23    545.428571\n",
       "2022-01-30    606.000000\n",
       "2022-02-06    475.000000\n",
       "2022-02-13    590.857143\n",
       "2022-02-20    559.428571\n",
       "2022-02-27    424.571429\n",
       "2022-03-06    501.857143\n",
       "2022-03-13    331.000000\n",
       "2022-03-20    599.428571\n",
       "2022-03-27    463.857143\n",
       "2022-04-03    600.000000\n",
       "2022-04-10    391.142857\n",
       "Freq: W-SUN, dtype: float64"
      ]
     },
     "execution_count": 16,
     "metadata": {},
     "output_type": "execute_result"
    }
   ],
   "source": [
    "ts.resample('W').mean()"
   ]
  },
  {
   "cell_type": "code",
   "execution_count": null,
   "metadata": {},
   "outputs": [],
   "source": []
  }
 ],
 "metadata": {
  "interpreter": {
   "hash": "bbaff3bad43e72ef86a08724e2a04c1dc7b916dad0faa2935f126c230f07c1b0"
  },
  "kernelspec": {
   "display_name": "Python 3.9.7 ('base')",
   "language": "python",
   "name": "python3"
  },
  "language_info": {
   "codemirror_mode": {
    "name": "ipython",
    "version": 3
   },
   "file_extension": ".py",
   "mimetype": "text/x-python",
   "name": "python",
   "nbconvert_exporter": "python",
   "pygments_lexer": "ipython3",
   "version": "3.9.7"
  },
  "orig_nbformat": 4
 },
 "nbformat": 4,
 "nbformat_minor": 2
}
