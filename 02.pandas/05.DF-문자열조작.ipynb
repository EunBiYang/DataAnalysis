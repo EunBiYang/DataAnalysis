{
 "cells": [
  {
   "cell_type": "markdown",
   "metadata": {},
   "source": [
    "# Pandas - 문자열 조작"
   ]
  },
  {
   "cell_type": "code",
   "execution_count": 1,
   "metadata": {},
   "outputs": [],
   "source": [
    "import numpy as np\n",
    "import pandas as pd\n"
   ]
  },
  {
   "cell_type": "code",
   "execution_count": 5,
   "metadata": {},
   "outputs": [
    {
     "data": {
      "text/html": [
       "<div>\n",
       "<style scoped>\n",
       "    .dataframe tbody tr th:only-of-type {\n",
       "        vertical-align: middle;\n",
       "    }\n",
       "\n",
       "    .dataframe tbody tr th {\n",
       "        vertical-align: top;\n",
       "    }\n",
       "\n",
       "    .dataframe thead th {\n",
       "        text-align: right;\n",
       "    }\n",
       "</style>\n",
       "<table border=\"1\" class=\"dataframe\">\n",
       "  <thead>\n",
       "    <tr style=\"text-align: right;\">\n",
       "      <th></th>\n",
       "      <th>법정동코드</th>\n",
       "      <th>법정동명</th>\n",
       "      <th>폐지여부</th>\n",
       "    </tr>\n",
       "  </thead>\n",
       "  <tbody>\n",
       "    <tr>\n",
       "      <th>0</th>\n",
       "      <td>1100000000</td>\n",
       "      <td>서울특별시</td>\n",
       "      <td>존재</td>\n",
       "    </tr>\n",
       "    <tr>\n",
       "      <th>1</th>\n",
       "      <td>1111000000</td>\n",
       "      <td>서울특별시 종로구</td>\n",
       "      <td>존재</td>\n",
       "    </tr>\n",
       "    <tr>\n",
       "      <th>2</th>\n",
       "      <td>1111010100</td>\n",
       "      <td>서울특별시 종로구 청운동</td>\n",
       "      <td>존재</td>\n",
       "    </tr>\n",
       "    <tr>\n",
       "      <th>3</th>\n",
       "      <td>1111010200</td>\n",
       "      <td>서울특별시 종로구 신교동</td>\n",
       "      <td>존재</td>\n",
       "    </tr>\n",
       "    <tr>\n",
       "      <th>4</th>\n",
       "      <td>1111010300</td>\n",
       "      <td>서울특별시 종로구 궁정동</td>\n",
       "      <td>존재</td>\n",
       "    </tr>\n",
       "    <tr>\n",
       "      <th>...</th>\n",
       "      <td>...</td>\n",
       "      <td>...</td>\n",
       "      <td>...</td>\n",
       "    </tr>\n",
       "    <tr>\n",
       "      <th>46323</th>\n",
       "      <td>5013032022</td>\n",
       "      <td>제주특별자치도 서귀포시 표선면 하천리</td>\n",
       "      <td>존재</td>\n",
       "    </tr>\n",
       "    <tr>\n",
       "      <th>46324</th>\n",
       "      <td>5013032023</td>\n",
       "      <td>제주특별자치도 서귀포시 표선면 성읍리</td>\n",
       "      <td>존재</td>\n",
       "    </tr>\n",
       "    <tr>\n",
       "      <th>46325</th>\n",
       "      <td>5013032024</td>\n",
       "      <td>제주특별자치도 서귀포시 표선면 가시리</td>\n",
       "      <td>존재</td>\n",
       "    </tr>\n",
       "    <tr>\n",
       "      <th>46326</th>\n",
       "      <td>5013032025</td>\n",
       "      <td>제주특별자치도 서귀포시 표선면 세화리</td>\n",
       "      <td>존재</td>\n",
       "    </tr>\n",
       "    <tr>\n",
       "      <th>46327</th>\n",
       "      <td>5013032026</td>\n",
       "      <td>제주특별자치도 서귀포시 표선면 토산리</td>\n",
       "      <td>존재</td>\n",
       "    </tr>\n",
       "  </tbody>\n",
       "</table>\n",
       "<p>46328 rows × 3 columns</p>\n",
       "</div>"
      ],
      "text/plain": [
       "            법정동코드                  법정동명 폐지여부\n",
       "0      1100000000                 서울특별시   존재\n",
       "1      1111000000             서울특별시 종로구   존재\n",
       "2      1111010100         서울특별시 종로구 청운동   존재\n",
       "3      1111010200         서울특별시 종로구 신교동   존재\n",
       "4      1111010300         서울특별시 종로구 궁정동   존재\n",
       "...           ...                   ...  ...\n",
       "46323  5013032022  제주특별자치도 서귀포시 표선면 하천리   존재\n",
       "46324  5013032023  제주특별자치도 서귀포시 표선면 성읍리   존재\n",
       "46325  5013032024  제주특별자치도 서귀포시 표선면 가시리   존재\n",
       "46326  5013032025  제주특별자치도 서귀포시 표선면 세화리   존재\n",
       "46327  5013032026  제주특별자치도 서귀포시 표선면 토산리   존재\n",
       "\n",
       "[46328 rows x 3 columns]"
      ]
     },
     "execution_count": 5,
     "metadata": {},
     "output_type": "execute_result"
    }
   ],
   "source": [
    "df = pd.read_csv('법정동코드 전체자료.txt',sep='\\t',encoding=('EUC-KR'))\n",
    "df"
   ]
  },
  {
   "cell_type": "code",
   "execution_count": 15,
   "metadata": {},
   "outputs": [
    {
     "data": {
      "text/plain": [
       "(46328, (46328, 3))"
      ]
     },
     "execution_count": 15,
     "metadata": {},
     "output_type": "execute_result"
    }
   ],
   "source": [
    "len(df), df.shape"
   ]
  },
  {
   "cell_type": "code",
   "execution_count": 16,
   "metadata": {},
   "outputs": [
    {
     "data": {
      "text/plain": [
       "(20551, 3)"
      ]
     },
     "execution_count": 16,
     "metadata": {},
     "output_type": "execute_result"
    }
   ],
   "source": [
    "# 폐지된 주소는 삭제되도록 필터링\n",
    "df = df[df.폐지여부 == '존재']\n",
    "df.shape"
   ]
  },
  {
   "cell_type": "markdown",
   "metadata": {},
   "source": [
    "- 문자열 매소드 1 : 인덱싱"
   ]
  },
  {
   "cell_type": "code",
   "execution_count": 17,
   "metadata": {},
   "outputs": [
    {
     "data": {
      "text/plain": [
       "0    서울특별시\n",
       "1    서울특별시\n",
       "2    서울특별시\n",
       "3    서울특별시\n",
       "4    서울특별시\n",
       "Name: 법정동명, dtype: object"
      ]
     },
     "execution_count": 17,
     "metadata": {},
     "output_type": "execute_result"
    }
   ],
   "source": [
    "df.법정동명.str[:5].head()\n"
   ]
  },
  {
   "cell_type": "markdown",
   "metadata": {},
   "source": [
    "- 문자열 매소드2 : 찾기 find"
   ]
  },
  {
   "cell_type": "code",
   "execution_count": 21,
   "metadata": {},
   "outputs": [
    {
     "data": {
      "text/plain": [
       "0    0\n",
       "1    0\n",
       "2    0\n",
       "3    0\n",
       "4    0\n",
       "Name: 법정동명, dtype: int64"
      ]
     },
     "execution_count": 21,
     "metadata": {},
     "output_type": "execute_result"
    }
   ],
   "source": [
    "df.법정동명.str.find('서울').head()\n",
    "\n",
    "#0이상의 값이 나오면 포함 미만이면 없는것"
   ]
  },
  {
   "cell_type": "code",
   "execution_count": 22,
   "metadata": {},
   "outputs": [
    {
     "data": {
      "text/plain": [
       "46323   -1\n",
       "46324   -1\n",
       "46325   -1\n",
       "46326   -1\n",
       "46327   -1\n",
       "Name: 법정동명, dtype: int64"
      ]
     },
     "execution_count": 22,
     "metadata": {},
     "output_type": "execute_result"
    }
   ],
   "source": [
    "df.법정동명.str.find('서울').tail()"
   ]
  },
  {
   "cell_type": "markdown",
   "metadata": {},
   "source": [
    "- 분할 str.split()"
   ]
  },
  {
   "cell_type": "code",
   "execution_count": 23,
   "metadata": {},
   "outputs": [
    {
     "data": {
      "text/plain": [
       "0              [서울특별시]\n",
       "1         [서울특별시, 종로구]\n",
       "2    [서울특별시, 종로구, 청운동]\n",
       "3    [서울특별시, 종로구, 신교동]\n",
       "4    [서울특별시, 종로구, 궁정동]\n",
       "Name: 법정동명, dtype: object"
      ]
     },
     "execution_count": 23,
     "metadata": {},
     "output_type": "execute_result"
    }
   ],
   "source": [
    "df.법정동명.str.split().head()"
   ]
  },
  {
   "cell_type": "markdown",
   "metadata": {},
   "source": [
    "- 포함글자 인식 : .str.contains()"
   ]
  },
  {
   "cell_type": "code",
   "execution_count": 24,
   "metadata": {},
   "outputs": [
    {
     "data": {
      "text/plain": [
       "0    True\n",
       "1    True\n",
       "2    True\n",
       "3    True\n",
       "4    True\n",
       "Name: 법정동명, dtype: bool"
      ]
     },
     "execution_count": 24,
     "metadata": {},
     "output_type": "execute_result"
    }
   ],
   "source": [
    "df.법정동명.str.contains('서울').head()"
   ]
  },
  {
   "cell_type": "code",
   "execution_count": 25,
   "metadata": {},
   "outputs": [
    {
     "data": {
      "text/plain": [
       "12"
      ]
     },
     "execution_count": 25,
     "metadata": {},
     "output_type": "execute_result"
    }
   ],
   "source": [
    "secho = df[df.법정동명.str.contains('서초')]\n",
    "len(secho)"
   ]
  },
  {
   "cell_type": "code",
   "execution_count": 26,
   "metadata": {},
   "outputs": [
    {
     "data": {
      "text/html": [
       "<div>\n",
       "<style scoped>\n",
       "    .dataframe tbody tr th:only-of-type {\n",
       "        vertical-align: middle;\n",
       "    }\n",
       "\n",
       "    .dataframe tbody tr th {\n",
       "        vertical-align: top;\n",
       "    }\n",
       "\n",
       "    .dataframe thead th {\n",
       "        text-align: right;\n",
       "    }\n",
       "</style>\n",
       "<table border=\"1\" class=\"dataframe\">\n",
       "  <thead>\n",
       "    <tr style=\"text-align: right;\">\n",
       "      <th></th>\n",
       "      <th>법정동코드</th>\n",
       "      <th>법정동명</th>\n",
       "      <th>폐지여부</th>\n",
       "    </tr>\n",
       "  </thead>\n",
       "  <tbody>\n",
       "    <tr>\n",
       "      <th>975</th>\n",
       "      <td>1165000000</td>\n",
       "      <td>서울특별시 서초구</td>\n",
       "      <td>존재</td>\n",
       "    </tr>\n",
       "    <tr>\n",
       "      <th>977</th>\n",
       "      <td>1165010100</td>\n",
       "      <td>서울특별시 서초구 방배동</td>\n",
       "      <td>존재</td>\n",
       "    </tr>\n",
       "    <tr>\n",
       "      <th>978</th>\n",
       "      <td>1165010200</td>\n",
       "      <td>서울특별시 서초구 양재동</td>\n",
       "      <td>존재</td>\n",
       "    </tr>\n",
       "    <tr>\n",
       "      <th>979</th>\n",
       "      <td>1165010300</td>\n",
       "      <td>서울특별시 서초구 우면동</td>\n",
       "      <td>존재</td>\n",
       "    </tr>\n",
       "    <tr>\n",
       "      <th>980</th>\n",
       "      <td>1165010400</td>\n",
       "      <td>서울특별시 서초구 원지동</td>\n",
       "      <td>존재</td>\n",
       "    </tr>\n",
       "    <tr>\n",
       "      <th>982</th>\n",
       "      <td>1165010600</td>\n",
       "      <td>서울특별시 서초구 잠원동</td>\n",
       "      <td>존재</td>\n",
       "    </tr>\n",
       "    <tr>\n",
       "      <th>983</th>\n",
       "      <td>1165010700</td>\n",
       "      <td>서울특별시 서초구 반포동</td>\n",
       "      <td>존재</td>\n",
       "    </tr>\n",
       "    <tr>\n",
       "      <th>984</th>\n",
       "      <td>1165010800</td>\n",
       "      <td>서울특별시 서초구 서초동</td>\n",
       "      <td>존재</td>\n",
       "    </tr>\n",
       "    <tr>\n",
       "      <th>985</th>\n",
       "      <td>1165010900</td>\n",
       "      <td>서울특별시 서초구 내곡동</td>\n",
       "      <td>존재</td>\n",
       "    </tr>\n",
       "    <tr>\n",
       "      <th>986</th>\n",
       "      <td>1165011000</td>\n",
       "      <td>서울특별시 서초구 염곡동</td>\n",
       "      <td>존재</td>\n",
       "    </tr>\n",
       "    <tr>\n",
       "      <th>987</th>\n",
       "      <td>1165011100</td>\n",
       "      <td>서울특별시 서초구 신원동</td>\n",
       "      <td>존재</td>\n",
       "    </tr>\n",
       "    <tr>\n",
       "      <th>21029</th>\n",
       "      <td>4481033033</td>\n",
       "      <td>충청남도 예산군 광시면 서초정리</td>\n",
       "      <td>존재</td>\n",
       "    </tr>\n",
       "  </tbody>\n",
       "</table>\n",
       "</div>"
      ],
      "text/plain": [
       "            법정동코드               법정동명 폐지여부\n",
       "975    1165000000          서울특별시 서초구   존재\n",
       "977    1165010100      서울특별시 서초구 방배동   존재\n",
       "978    1165010200      서울특별시 서초구 양재동   존재\n",
       "979    1165010300      서울특별시 서초구 우면동   존재\n",
       "980    1165010400      서울특별시 서초구 원지동   존재\n",
       "982    1165010600      서울특별시 서초구 잠원동   존재\n",
       "983    1165010700      서울특별시 서초구 반포동   존재\n",
       "984    1165010800      서울특별시 서초구 서초동   존재\n",
       "985    1165010900      서울특별시 서초구 내곡동   존재\n",
       "986    1165011000      서울특별시 서초구 염곡동   존재\n",
       "987    1165011100      서울특별시 서초구 신원동   존재\n",
       "21029  4481033033  충청남도 예산군 광시면 서초정리   존재"
      ]
     },
     "execution_count": 26,
     "metadata": {},
     "output_type": "execute_result"
    }
   ],
   "source": [
    "secho"
   ]
  },
  {
   "cell_type": "markdown",
   "metadata": {},
   "source": [
    "- 문자 대체 : .str.replace()  하이라이트!!!!"
   ]
  },
  {
   "cell_type": "code",
   "execution_count": 28,
   "metadata": {},
   "outputs": [
    {
     "data": {
      "text/plain": [
       "0            서울특별시\n",
       "1        서울특별시_종로구\n",
       "2    서울특별시_종로구_청운동\n",
       "3    서울특별시_종로구_신교동\n",
       "4    서울특별시_종로구_궁정동\n",
       "Name: 법정동명, dtype: object"
      ]
     },
     "execution_count": 28,
     "metadata": {},
     "output_type": "execute_result"
    }
   ],
   "source": [
    "df.법정동명.str.replace(' ','_').head()"
   ]
  },
  {
   "cell_type": "code",
   "execution_count": 29,
   "metadata": {},
   "outputs": [
    {
     "name": "stderr",
     "output_type": "stream",
     "text": [
      "C:\\Users\\Owner\\anaconda3\\lib\\site-packages\\pandas\\core\\generic.py:5516: SettingWithCopyWarning: \n",
      "A value is trying to be set on a copy of a slice from a DataFrame.\n",
      "Try using .loc[row_indexer,col_indexer] = value instead\n",
      "\n",
      "See the caveats in the documentation: https://pandas.pydata.org/pandas-docs/stable/user_guide/indexing.html#returning-a-view-versus-a-copy\n",
      "  self[name] = value\n"
     ]
    },
    {
     "data": {
      "text/html": [
       "<div>\n",
       "<style scoped>\n",
       "    .dataframe tbody tr th:only-of-type {\n",
       "        vertical-align: middle;\n",
       "    }\n",
       "\n",
       "    .dataframe tbody tr th {\n",
       "        vertical-align: top;\n",
       "    }\n",
       "\n",
       "    .dataframe thead th {\n",
       "        text-align: right;\n",
       "    }\n",
       "</style>\n",
       "<table border=\"1\" class=\"dataframe\">\n",
       "  <thead>\n",
       "    <tr style=\"text-align: right;\">\n",
       "      <th></th>\n",
       "      <th>법정동코드</th>\n",
       "      <th>법정동명</th>\n",
       "      <th>폐지여부</th>\n",
       "    </tr>\n",
       "  </thead>\n",
       "  <tbody>\n",
       "    <tr>\n",
       "      <th>975</th>\n",
       "      <td>1165000000</td>\n",
       "      <td>서울특별시$%$#서초구</td>\n",
       "      <td>존재</td>\n",
       "    </tr>\n",
       "    <tr>\n",
       "      <th>977</th>\n",
       "      <td>1165010100</td>\n",
       "      <td>서울특별시$%$#서초구$%$#방배동</td>\n",
       "      <td>존재</td>\n",
       "    </tr>\n",
       "    <tr>\n",
       "      <th>978</th>\n",
       "      <td>1165010200</td>\n",
       "      <td>서울특별시$%$#서초구$%$#양재동</td>\n",
       "      <td>존재</td>\n",
       "    </tr>\n",
       "    <tr>\n",
       "      <th>979</th>\n",
       "      <td>1165010300</td>\n",
       "      <td>서울특별시$%$#서초구$%$#우면동</td>\n",
       "      <td>존재</td>\n",
       "    </tr>\n",
       "    <tr>\n",
       "      <th>980</th>\n",
       "      <td>1165010400</td>\n",
       "      <td>서울특별시$%$#서초구$%$#원지동</td>\n",
       "      <td>존재</td>\n",
       "    </tr>\n",
       "  </tbody>\n",
       "</table>\n",
       "</div>"
      ],
      "text/plain": [
       "          법정동코드                 법정동명 폐지여부\n",
       "975  1165000000         서울특별시$%$#서초구   존재\n",
       "977  1165010100  서울특별시$%$#서초구$%$#방배동   존재\n",
       "978  1165010200  서울특별시$%$#서초구$%$#양재동   존재\n",
       "979  1165010300  서울특별시$%$#서초구$%$#우면동   존재\n",
       "980  1165010400  서울특별시$%$#서초구$%$#원지동   존재"
      ]
     },
     "execution_count": 29,
     "metadata": {},
     "output_type": "execute_result"
    }
   ],
   "source": [
    "secho.법정동명 = secho.법정동명.str.replace(' ', '$%$#')\n",
    "secho.head()"
   ]
  },
  {
   "cell_type": "code",
   "execution_count": 31,
   "metadata": {},
   "outputs": [
    {
     "name": "stderr",
     "output_type": "stream",
     "text": [
      "C:\\Users\\Owner\\AppData\\Local\\Temp/ipykernel_20712/1018458548.py:3: FutureWarning: The default value of regex will change from True to False in a future version.\n",
      "  secho.법정동명 = secho.법정동명.str.replace('[^가-힣]',' ')\n",
      "C:\\Users\\Owner\\anaconda3\\lib\\site-packages\\pandas\\core\\generic.py:5516: SettingWithCopyWarning: \n",
      "A value is trying to be set on a copy of a slice from a DataFrame.\n",
      "Try using .loc[row_indexer,col_indexer] = value instead\n",
      "\n",
      "See the caveats in the documentation: https://pandas.pydata.org/pandas-docs/stable/user_guide/indexing.html#returning-a-view-versus-a-copy\n",
      "  self[name] = value\n"
     ]
    },
    {
     "data": {
      "text/html": [
       "<div>\n",
       "<style scoped>\n",
       "    .dataframe tbody tr th:only-of-type {\n",
       "        vertical-align: middle;\n",
       "    }\n",
       "\n",
       "    .dataframe tbody tr th {\n",
       "        vertical-align: top;\n",
       "    }\n",
       "\n",
       "    .dataframe thead th {\n",
       "        text-align: right;\n",
       "    }\n",
       "</style>\n",
       "<table border=\"1\" class=\"dataframe\">\n",
       "  <thead>\n",
       "    <tr style=\"text-align: right;\">\n",
       "      <th></th>\n",
       "      <th>법정동코드</th>\n",
       "      <th>법정동명</th>\n",
       "      <th>폐지여부</th>\n",
       "    </tr>\n",
       "  </thead>\n",
       "  <tbody>\n",
       "    <tr>\n",
       "      <th>975</th>\n",
       "      <td>1165000000</td>\n",
       "      <td>서울특별시    서초구</td>\n",
       "      <td>존재</td>\n",
       "    </tr>\n",
       "    <tr>\n",
       "      <th>977</th>\n",
       "      <td>1165010100</td>\n",
       "      <td>서울특별시    서초구    방배동</td>\n",
       "      <td>존재</td>\n",
       "    </tr>\n",
       "    <tr>\n",
       "      <th>978</th>\n",
       "      <td>1165010200</td>\n",
       "      <td>서울특별시    서초구    양재동</td>\n",
       "      <td>존재</td>\n",
       "    </tr>\n",
       "    <tr>\n",
       "      <th>979</th>\n",
       "      <td>1165010300</td>\n",
       "      <td>서울특별시    서초구    우면동</td>\n",
       "      <td>존재</td>\n",
       "    </tr>\n",
       "    <tr>\n",
       "      <th>980</th>\n",
       "      <td>1165010400</td>\n",
       "      <td>서울특별시    서초구    원지동</td>\n",
       "      <td>존재</td>\n",
       "    </tr>\n",
       "    <tr>\n",
       "      <th>982</th>\n",
       "      <td>1165010600</td>\n",
       "      <td>서울특별시    서초구    잠원동</td>\n",
       "      <td>존재</td>\n",
       "    </tr>\n",
       "    <tr>\n",
       "      <th>983</th>\n",
       "      <td>1165010700</td>\n",
       "      <td>서울특별시    서초구    반포동</td>\n",
       "      <td>존재</td>\n",
       "    </tr>\n",
       "    <tr>\n",
       "      <th>984</th>\n",
       "      <td>1165010800</td>\n",
       "      <td>서울특별시    서초구    서초동</td>\n",
       "      <td>존재</td>\n",
       "    </tr>\n",
       "    <tr>\n",
       "      <th>985</th>\n",
       "      <td>1165010900</td>\n",
       "      <td>서울특별시    서초구    내곡동</td>\n",
       "      <td>존재</td>\n",
       "    </tr>\n",
       "    <tr>\n",
       "      <th>986</th>\n",
       "      <td>1165011000</td>\n",
       "      <td>서울특별시    서초구    염곡동</td>\n",
       "      <td>존재</td>\n",
       "    </tr>\n",
       "    <tr>\n",
       "      <th>987</th>\n",
       "      <td>1165011100</td>\n",
       "      <td>서울특별시    서초구    신원동</td>\n",
       "      <td>존재</td>\n",
       "    </tr>\n",
       "    <tr>\n",
       "      <th>21029</th>\n",
       "      <td>4481033033</td>\n",
       "      <td>충청남도    예산군    광시면    서초정리</td>\n",
       "      <td>존재</td>\n",
       "    </tr>\n",
       "  </tbody>\n",
       "</table>\n",
       "</div>"
      ],
      "text/plain": [
       "            법정동코드                        법정동명 폐지여부\n",
       "975    1165000000                서울특별시    서초구   존재\n",
       "977    1165010100         서울특별시    서초구    방배동   존재\n",
       "978    1165010200         서울특별시    서초구    양재동   존재\n",
       "979    1165010300         서울특별시    서초구    우면동   존재\n",
       "980    1165010400         서울특별시    서초구    원지동   존재\n",
       "982    1165010600         서울특별시    서초구    잠원동   존재\n",
       "983    1165010700         서울특별시    서초구    반포동   존재\n",
       "984    1165010800         서울특별시    서초구    서초동   존재\n",
       "985    1165010900         서울특별시    서초구    내곡동   존재\n",
       "986    1165011000         서울특별시    서초구    염곡동   존재\n",
       "987    1165011100         서울특별시    서초구    신원동   존재\n",
       "21029  4481033033  충청남도    예산군    광시면    서초정리   존재"
      ]
     },
     "execution_count": 31,
     "metadata": {},
     "output_type": "execute_result"
    }
   ],
   "source": [
    "#.str.replace() 에서는 정규표현식이 사용 가능하다.\n",
    "#한글이 아닌것은 ' ' 공백으로 만든다는 코드\n",
    "secho.법정동명 = secho.법정동명.str.replace('[^가-힣]',' ')\n",
    "secho"
   ]
  },
  {
   "cell_type": "code",
   "execution_count": 35,
   "metadata": {},
   "outputs": [
    {
     "data": {
      "text/plain": [
       "0    83557\n",
       "1     1715\n",
       "2     2447\n",
       "3     2611\n",
       "4     3829\n",
       "Name: 총계, dtype: int64"
      ]
     },
     "execution_count": 35,
     "metadata": {},
     "output_type": "execute_result"
    }
   ],
   "source": [
    "filename = '서울시CCTV설치운영현황(자치구)_년도별_211231기준.csv'\n",
    "cctv = pd. read_csv(filename, skiprows=1, encoding='EUC-KR') \n",
    "\n",
    "\n",
    "#방법1\n",
    "cctv['총계'].apply(lambda x : int(x.replace(',',''))).head()\n"
   ]
  },
  {
   "cell_type": "code",
   "execution_count": 36,
   "metadata": {},
   "outputs": [
    {
     "data": {
      "text/plain": [
       "0    83557\n",
       "1     1715\n",
       "2     2447\n",
       "3     2611\n",
       "4     3829\n",
       "Name: 총계, dtype: int32"
      ]
     },
     "execution_count": 36,
     "metadata": {},
     "output_type": "execute_result"
    }
   ],
   "source": [
    "#방법 2\n",
    "cctv['총계'].str.replace(',','').astype(int).head()"
   ]
  },
  {
   "cell_type": "markdown",
   "metadata": {},
   "source": [
    "그밖에 문자열 매소드 strip(), lower(), upper() 등 도 사용 가능하다."
   ]
  },
  {
   "cell_type": "code",
   "execution_count": null,
   "metadata": {},
   "outputs": [],
   "source": []
  }
 ],
 "metadata": {
  "interpreter": {
   "hash": "bbaff3bad43e72ef86a08724e2a04c1dc7b916dad0faa2935f126c230f07c1b0"
  },
  "kernelspec": {
   "display_name": "Python 3.9.7 ('base')",
   "language": "python",
   "name": "python3"
  },
  "language_info": {
   "codemirror_mode": {
    "name": "ipython",
    "version": 3
   },
   "file_extension": ".py",
   "mimetype": "text/x-python",
   "name": "python",
   "nbconvert_exporter": "python",
   "pygments_lexer": "ipython3",
   "version": "3.9.7"
  },
  "orig_nbformat": 4
 },
 "nbformat": 4,
 "nbformat_minor": 2
}
