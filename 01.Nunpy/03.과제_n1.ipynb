{
 "cells": [
  {
   "cell_type": "code",
   "execution_count": 10,
   "metadata": {},
   "outputs": [],
   "source": [
    "import numpy as np"
   ]
  },
  {
   "cell_type": "markdown",
   "metadata": {},
   "source": [
    "- 1번"
   ]
  },
  {
   "cell_type": "code",
   "execution_count": 11,
   "metadata": {},
   "outputs": [
    {
     "data": {
      "text/plain": [
       "array([[10, 20, 30, 40],\n",
       "       [50, 60, 70, 80]])"
      ]
     },
     "execution_count": 11,
     "metadata": {},
     "output_type": "execute_result"
    }
   ],
   "source": [
    "a = np.array([10,20,30,40,50,60,70,80]).reshape(2,4)\n",
    "a"
   ]
  },
  {
   "cell_type": "markdown",
   "metadata": {},
   "source": [
    "- 2번"
   ]
  },
  {
   "cell_type": "code",
   "execution_count": 12,
   "metadata": {},
   "outputs": [
    {
     "data": {
      "text/plain": [
       "array([[ 0,  1,  2,  3,  4],\n",
       "       [ 5,  6,  7,  8,  9],\n",
       "       [10, 11, 12, 13, 14]])"
      ]
     },
     "execution_count": 12,
     "metadata": {},
     "output_type": "execute_result"
    }
   ],
   "source": [
    "m =  np.arange(15).reshape(3,5)\n",
    "m"
   ]
  },
  {
   "cell_type": "code",
   "execution_count": 13,
   "metadata": {},
   "outputs": [
    {
     "data": {
      "text/plain": [
       "array([[7]])"
      ]
     },
     "execution_count": 13,
     "metadata": {},
     "output_type": "execute_result"
    }
   ],
   "source": [
    "#2-1)\n",
    "m[1:2,2:3]"
   ]
  },
  {
   "cell_type": "code",
   "execution_count": 14,
   "metadata": {},
   "outputs": [
    {
     "data": {
      "text/plain": [
       "array([[14]])"
      ]
     },
     "execution_count": 14,
     "metadata": {},
     "output_type": "execute_result"
    }
   ],
   "source": [
    "#2-2)\n",
    "m[-1:,-1:]"
   ]
  },
  {
   "cell_type": "code",
   "execution_count": 15,
   "metadata": {},
   "outputs": [
    {
     "data": {
      "text/plain": [
       "array([[6, 7]])"
      ]
     },
     "execution_count": 15,
     "metadata": {},
     "output_type": "execute_result"
    }
   ],
   "source": [
    "#2-3)\n",
    "m[1:2, 1:3]"
   ]
  },
  {
   "cell_type": "code",
   "execution_count": 20,
   "metadata": {},
   "outputs": [
    {
     "data": {
      "text/plain": [
       "array([[ 7, 12]])"
      ]
     },
     "execution_count": 20,
     "metadata": {},
     "output_type": "execute_result"
    }
   ],
   "source": [
    "#2-4)\n",
    "m[1:,2:3].reshape(1,2)"
   ]
  },
  {
   "cell_type": "code",
   "execution_count": 22,
   "metadata": {},
   "outputs": [
    {
     "data": {
      "text/plain": [
       "array([[3, 4],\n",
       "       [8, 9]])"
      ]
     },
     "execution_count": 22,
     "metadata": {},
     "output_type": "execute_result"
    }
   ],
   "source": [
    "#2-5)\n",
    "m[:2,-2:]"
   ]
  },
  {
   "cell_type": "markdown",
   "metadata": {},
   "source": [
    "- 3번"
   ]
  },
  {
   "cell_type": "code",
   "execution_count": 18,
   "metadata": {},
   "outputs": [
    {
     "data": {
      "text/plain": [
       "array([ 0,  1,  2,  3,  4,  5,  6,  7,  8,  9, 10, 11, 12, 13, 14])"
      ]
     },
     "execution_count": 18,
     "metadata": {},
     "output_type": "execute_result"
    }
   ],
   "source": [
    "f = m.reshape(-1,)\n",
    "f"
   ]
  },
  {
   "cell_type": "markdown",
   "metadata": {},
   "source": [
    "- 3-1"
   ]
  },
  {
   "cell_type": "code",
   "execution_count": 24,
   "metadata": {},
   "outputs": [
    {
     "data": {
      "text/plain": [
       "(array([ 0,  3,  6,  9, 12], dtype=int64),)"
      ]
     },
     "execution_count": 24,
     "metadata": {},
     "output_type": "execute_result"
    }
   ],
   "source": [
    "np.where(f % 3 == 0)\n"
   ]
  },
  {
   "cell_type": "markdown",
   "metadata": {},
   "source": [
    "- 3-2"
   ]
  },
  {
   "cell_type": "code",
   "execution_count": 25,
   "metadata": {},
   "outputs": [
    {
     "data": {
      "text/plain": [
       "(array([ 1,  5,  9, 13], dtype=int64),)"
      ]
     },
     "execution_count": 25,
     "metadata": {},
     "output_type": "execute_result"
    }
   ],
   "source": [
    "np.where(f % 4 ==1)"
   ]
  },
  {
   "cell_type": "markdown",
   "metadata": {},
   "source": [
    "- 3-3"
   ]
  },
  {
   "cell_type": "code",
   "execution_count": 55,
   "metadata": {},
   "outputs": [
    {
     "data": {
      "text/plain": [
       "array([ 0,  3,  6,  9, 12,  1,  5,  9, 13], dtype=int64)"
      ]
     },
     "execution_count": 55,
     "metadata": {},
     "output_type": "execute_result"
    }
   ],
   "source": [
    "a = np.concatenate(np.where(f % 3 == 0) + np.where(f % 4 ==1))\n",
    "a"
   ]
  },
  {
   "cell_type": "code",
   "execution_count": 56,
   "metadata": {},
   "outputs": [
    {
     "data": {
      "text/plain": [
       "array([ 0,  1,  3,  5,  6,  9, 12, 13], dtype=int64)"
      ]
     },
     "execution_count": 56,
     "metadata": {},
     "output_type": "execute_result"
    }
   ],
   "source": [
    "np.unique(a)"
   ]
  },
  {
   "cell_type": "markdown",
   "metadata": {},
   "source": [
    "- 4 번"
   ]
  },
  {
   "cell_type": "code",
   "execution_count": null,
   "metadata": {},
   "outputs": [
    {
     "data": {
      "text/plain": [
       "array([[2, 1, 0, 0, 0],\n",
       "       [3, 2, 1, 0, 0],\n",
       "       [0, 3, 2, 1, 0],\n",
       "       [0, 0, 3, 2, 1],\n",
       "       [0, 0, 0, 3, 2]])"
      ]
     },
     "execution_count": 55,
     "metadata": {},
     "output_type": "execute_result"
    }
   ],
   "source": [
    "np.eye(5,5, k=-1, dtype=int)*3 + np.eye(5, 5, k=0, dtype=int)*2 + np.eye(5,5, k=1, dtype=int) "
   ]
  },
  {
   "cell_type": "markdown",
   "metadata": {},
   "source": [
    "- 5번"
   ]
  },
  {
   "cell_type": "code",
   "execution_count": null,
   "metadata": {},
   "outputs": [
    {
     "data": {
      "text/plain": [
       "array([[2, 4, 7, 9, 2, 0],\n",
       "       [5, 5, 6, 7, 9, 5],\n",
       "       [8, 2, 4, 6, 5, 7],\n",
       "       [7, 6, 1, 3, 2, 2],\n",
       "       [2, 3, 0, 8, 8, 7]])"
      ]
     },
     "execution_count": 60,
     "metadata": {},
     "output_type": "execute_result"
    }
   ],
   "source": [
    "a = np.random.randint(0,10,30).reshape(5,6)\n",
    "a"
   ]
  },
  {
   "cell_type": "code",
   "execution_count": null,
   "metadata": {},
   "outputs": [
    {
     "data": {
      "text/plain": [
       "9"
      ]
     },
     "execution_count": 61,
     "metadata": {},
     "output_type": "execute_result"
    }
   ],
   "source": [
    "#5-1\n",
    "a.max()"
   ]
  },
  {
   "cell_type": "code",
   "execution_count": null,
   "metadata": {},
   "outputs": [
    {
     "data": {
      "text/plain": [
       "array([24, 37, 32, 21, 28])"
      ]
     },
     "execution_count": 62,
     "metadata": {},
     "output_type": "execute_result"
    }
   ],
   "source": [
    "#5-2\n",
    "a.sum(axis=1)"
   ]
  },
  {
   "cell_type": "code",
   "execution_count": null,
   "metadata": {},
   "outputs": [
    {
     "data": {
      "text/plain": [
       "array([9, 9, 8, 7, 8])"
      ]
     },
     "execution_count": 65,
     "metadata": {},
     "output_type": "execute_result"
    }
   ],
   "source": [
    "#5-3\n",
    "a.max(axis=1)"
   ]
  },
  {
   "cell_type": "code",
   "execution_count": null,
   "metadata": {},
   "outputs": [
    {
     "data": {
      "text/plain": [
       "array([4.8, 4. , 3.6, 6.6, 5.2, 4.2])"
      ]
     },
     "execution_count": 66,
     "metadata": {},
     "output_type": "execute_result"
    }
   ],
   "source": [
    "#5-4\n",
    "a.mean(axis=0)"
   ]
  },
  {
   "cell_type": "code",
   "execution_count": null,
   "metadata": {},
   "outputs": [
    {
     "data": {
      "text/plain": [
       "array([2, 2, 0, 3, 2, 0])"
      ]
     },
     "execution_count": 67,
     "metadata": {},
     "output_type": "execute_result"
    }
   ],
   "source": [
    "#5-5\n",
    "a.min(axis=0)"
   ]
  },
  {
   "cell_type": "markdown",
   "metadata": {},
   "source": [
    "- 6번"
   ]
  },
  {
   "cell_type": "code",
   "execution_count": null,
   "metadata": {},
   "outputs": [],
   "source": [
    "g = np.array([1,2,3,4])\n",
    "e = np.array([46,99,100,71])\n",
    "m = np.array([81,59,90,100])\n"
   ]
  },
  {
   "cell_type": "code",
   "execution_count": null,
   "metadata": {},
   "outputs": [
    {
     "data": {
      "text/plain": [
       "array([0, 3, 1, 2], dtype=int64)"
      ]
     },
     "execution_count": 133,
     "metadata": {},
     "output_type": "execute_result"
    }
   ],
   "source": [
    "np.argsort(e)\n"
   ]
  },
  {
   "cell_type": "code",
   "execution_count": null,
   "metadata": {},
   "outputs": [
    {
     "data": {
      "text/plain": [
       "array([100,  99,  71,  46])"
      ]
     },
     "execution_count": 134,
     "metadata": {},
     "output_type": "execute_result"
    }
   ],
   "source": [
    "e[[0, 3, 1, 2][::-1]]"
   ]
  },
  {
   "cell_type": "code",
   "execution_count": null,
   "metadata": {},
   "outputs": [
    {
     "data": {
      "text/plain": [
       "array([[  3,   2,   4,   1],\n",
       "       [100,  99,  71,  46],\n",
       "       [ 90,  59, 100,  81]])"
      ]
     },
     "execution_count": 135,
     "metadata": {},
     "output_type": "execute_result"
    }
   ],
   "source": [
    "array1 = e[[0, 3, 1, 2][::-1]]\n",
    "array2 = g[[0, 3, 1, 2][::-1]]\n",
    "array3 = m[[0, 3, 1, 2][::-1]]\n",
    "\n",
    "new_score = np.array([[array2],[array1],[array3]]).reshape(3,4)\n",
    "new_score"
   ]
  },
  {
   "cell_type": "markdown",
   "metadata": {},
   "source": [
    "- 7번"
   ]
  },
  {
   "cell_type": "code",
   "execution_count": null,
   "metadata": {},
   "outputs": [
    {
     "data": {
      "text/plain": [
       "3.23"
      ]
     },
     "execution_count": 5,
     "metadata": {},
     "output_type": "execute_result"
    }
   ],
   "source": [
    "# 사위를 100번 던지는 가상 실험을 파이썬으로 작성하고, \n",
    "# 던져서 나오는 숫자의 평균을 구하시오.\n",
    "\n",
    "a = np.random.randint(1,7,100)\n",
    "a.mean()"
   ]
  },
  {
   "cell_type": "markdown",
   "metadata": {},
   "source": [
    "- 8번"
   ]
  },
  {
   "cell_type": "code",
   "execution_count": null,
   "metadata": {},
   "outputs": [],
   "source": [
    "# 가격이 10,000원인 주식이 있다. 이 주식의 일간 수익률(%)은 기댓값이 0%이고 표준편차가 1%인 표준 정규 분포를 따른다고 하자. \n",
    "# 250일 동안의 주가를 무작위로 생성하시오.\n"
   ]
  },
  {
   "cell_type": "code",
   "execution_count": null,
   "metadata": {},
   "outputs": [
    {
     "data": {
      "text/plain": [
       "array([ 9996.47072778, 10000.80210669,  9999.42595266,  9999.38299192,\n",
       "       10001.27373122, 10000.0352225 ,  9999.89534863, 10000.2776047 ,\n",
       "        9999.34428624,  9999.91202169, 10000.30295574,  9999.33590731,\n",
       "        9999.85724424, 10001.19371687, 10000.63098965, 10000.20150703,\n",
       "       10000.20768957, 10002.05758629,  9999.44455847, 10001.60584289,\n",
       "       10001.73885345, 10000.9076155 ,  9999.46813828, 10000.63246701,\n",
       "        9999.76425936, 10001.23078118,  9998.71393274, 10000.79345383,\n",
       "        9999.61180502,  9999.33866082,  9999.74541502,  9999.81848108,\n",
       "        9999.78798315, 10002.06138686,  9998.88803446, 10000.04670121,\n",
       "        9999.74155133, 10000.7167814 ,  9998.22465202, 10002.63894341,\n",
       "       10000.11347265,  9997.66402966,  9999.30824298, 10000.16576839,\n",
       "       10000.48588446, 10001.71523216, 10000.17497248,  9999.84702536,\n",
       "        9998.41784039,  9999.64308077, 10000.15905129,  9999.89162901,\n",
       "       10000.46493683,  9999.75182028,  9998.79040562,  9999.3001095 ,\n",
       "       10000.25259899, 10000.41779779,  9998.79884836,  9999.26194357,\n",
       "       10000.82048812, 10000.73432556,  9999.3577698 , 10001.48609594,\n",
       "       10000.25937254, 10000.43197213, 10000.10206425, 10000.43774572,\n",
       "       10000.15416255,  9999.09891727,  9999.6356787 , 10000.80439055,\n",
       "       10001.93446062,  9999.62846928,  9999.92387997, 10002.11843844,\n",
       "        9999.37709856,  9999.78159456,  9997.73803068, 10000.86644931,\n",
       "       10000.30109797, 10000.62218203, 10000.8376582 , 10000.51359711,\n",
       "        9997.45490689, 10001.1331041 ,  9998.63317408,  9999.50938972,\n",
       "        9998.85057727, 10001.87433764, 10000.05535721,  9999.68082552,\n",
       "        9998.91732713, 10001.01587888, 10001.77366021,  9999.4085075 ,\n",
       "        9999.51712374,  9997.86117016, 10000.14950577,  9999.19761487,\n",
       "        9999.98374054,  9997.96299236, 10000.12615612, 10001.52119247,\n",
       "        9998.74555051,  9999.42717861, 10000.02674153, 10000.38950852,\n",
       "       10000.45337763,  9999.70586149, 10001.61391258,  9999.13302483,\n",
       "       10000.74700466,  9999.8773793 ,  9999.22743473,  9999.72935814,\n",
       "       10000.64167419,  9998.44285242, 10000.02964738,  9999.90887226,\n",
       "       10001.04910511,  9999.53766206, 10000.48979272,  9998.35725979,\n",
       "       10000.54073552, 10002.70169678,  9999.17978438, 10000.40195419,\n",
       "        9999.280174  ,  9999.49513505,  9998.70939626, 10000.14633627,\n",
       "       10000.85181988, 10000.16980329, 10001.13349412,  9998.52010787,\n",
       "        9998.97730358,  9999.92268788,  9998.47373957, 10001.83180853,\n",
       "       10000.57396648, 10000.63668623,  9998.69339862, 10001.28899233,\n",
       "       10001.22978171, 10001.3868584 , 10000.63787387, 10001.17264145,\n",
       "       10000.45972309, 10000.0713509 ,  9998.72721472,  9999.6161622 ,\n",
       "        9999.99781147, 10000.71448765, 10000.75794032,  9998.95704943,\n",
       "        9999.26698733, 10000.33214756, 10001.21987548,  9999.89481436,\n",
       "        9998.63173132,  9999.84560856,  9998.49175702,  9999.76915425,\n",
       "       10000.60707297, 10000.08969293, 10000.89899436, 10000.36341451,\n",
       "        9998.10939135, 10000.67904419, 10001.41512084,  9999.67825453,\n",
       "       10000.18639128,  9998.46025213, 10000.56642446, 10000.22746885,\n",
       "        9999.55897575,  9999.66151238,  9998.43680748, 10000.59280778,\n",
       "       10000.65697952, 10000.61278682, 10001.65837155, 10001.12958969,\n",
       "       10000.95433042,  9999.04587629,  9998.60407195, 10000.61700812,\n",
       "       10000.99927996, 10000.24965217, 10000.13222585, 10001.09288184,\n",
       "       10001.37512306,  9999.96805681,  9999.83039127, 10000.52067893,\n",
       "        9998.71012377, 10000.25338699,  9999.97680157,  9998.6818797 ,\n",
       "       10000.21095133, 10000.03261782, 10000.65082532,  9999.25443145,\n",
       "       10000.61963021,  9999.61925307, 10000.04674641, 10000.38131777,\n",
       "       10000.7147985 ,  9999.35909661,  9998.45393026,  9998.79502731,\n",
       "       10000.40159766,  9998.30352975, 10001.48431846,  9999.37946878,\n",
       "       10000.46477341, 10001.36129742,  9999.30172284,  9998.37135831,\n",
       "        9999.63324408, 10000.04967524, 10000.30888751, 10000.68895077,\n",
       "        9999.92358753,  9999.60912404, 10000.17850507,  9999.72802018,\n",
       "       10001.15249173,  9999.38471056,  9999.93104421, 10000.84764475,\n",
       "        9999.26977652, 10002.39215914, 10001.35189598,  9999.15034739,\n",
       "        9998.79188073,  9998.46606895,  9999.18137006, 10000.87492187,\n",
       "        9999.35501729, 10000.5081273 , 10000.02896198,  9998.74034758,\n",
       "        9999.76893855,  9999.91054187, 10001.02474083, 10001.21932839,\n",
       "       10002.06883233, 10000.59572364])"
      ]
     },
     "execution_count": 7,
     "metadata": {},
     "output_type": "execute_result"
    }
   ],
   "source": [
    "# 수익률 = (기대값 0%, 표준편차가 1%)\n",
    "# 정규분포 : N(평균, 표준편차, 갯수)\n",
    "np.random.normal(10000,1,250)  "
   ]
  },
  {
   "cell_type": "code",
   "execution_count": null,
   "metadata": {},
   "outputs": [],
   "source": []
  }
 ],
 "metadata": {
  "interpreter": {
   "hash": "bbaff3bad43e72ef86a08724e2a04c1dc7b916dad0faa2935f126c230f07c1b0"
  },
  "kernelspec": {
   "display_name": "Python 3.9.7 ('base')",
   "language": "python",
   "name": "python3"
  },
  "language_info": {
   "codemirror_mode": {
    "name": "ipython",
    "version": 3
   },
   "file_extension": ".py",
   "mimetype": "text/x-python",
   "name": "python",
   "nbconvert_exporter": "python",
   "pygments_lexer": "ipython3",
   "version": "3.9.7"
  },
  "orig_nbformat": 4
 },
 "nbformat": 4,
 "nbformat_minor": 2
}
